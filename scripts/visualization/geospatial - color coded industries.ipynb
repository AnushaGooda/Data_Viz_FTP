{
 "cells": [
  {
   "cell_type": "markdown",
   "metadata": {},
   "source": [
    "# Import relevant libraries"
   ]
  },
  {
   "cell_type": "code",
   "execution_count": 126,
   "metadata": {
    "ExecuteTime": {
     "end_time": "2020-12-12T00:28:53.491701Z",
     "start_time": "2020-12-12T00:28:53.486488Z"
    }
   },
   "outputs": [],
   "source": [
    "import os\n",
    "import json\n",
    "import matplotlib.pyplot as plt \n",
    "import pandas as pd\n",
    "import geopandas as gpd\n",
    "import shapely\n",
    "from shapely.geometry import Polygon\n",
    "from pyproj import CRS\n",
    "from shapely.geometry import Point\n",
    "import contextily as ctx\n",
    "import numpy as np\n",
    "from geopandas import GeoDataFrame\n",
    "from matplotlib import rc\n",
    "import folium\n",
    "from folium.plugins import MarkerCluster"
   ]
  },
  {
   "cell_type": "markdown",
   "metadata": {},
   "source": [
    "# Load UK shape file"
   ]
  },
  {
   "cell_type": "code",
   "execution_count": 127,
   "metadata": {
    "ExecuteTime": {
     "end_time": "2020-12-12T00:28:54.999418Z",
     "start_time": "2020-12-12T00:28:54.164641Z"
    }
   },
   "outputs": [],
   "source": [
    "uk = gpd.read_file(\"London_Borough_Excluding_MHW.json\")\n",
    "crs_27700 = CRS(\"EPSG:27700\")\n",
    "\n",
    "uk.crs = crs_27700\n",
    "uk = uk[['NAME', 'geometry']]\n",
    "uk = uk.to_crs(\"EPSG:4326\")\n",
    "\n",
    "uk = uk[['NAME', 'geometry']]\n",
    "uk.rename(columns = {'NAME': 'district'}, inplace = True)"
   ]
  },
  {
   "cell_type": "code",
   "execution_count": 128,
   "metadata": {
    "ExecuteTime": {
     "end_time": "2020-12-12T00:28:55.781160Z",
     "start_time": "2020-12-12T00:28:55.606991Z"
    }
   },
   "outputs": [],
   "source": [
    "# set file path\n",
    "base_path = '../..'\n",
    "file_path = os.path.join(base_path, 'datasets', 'tech_roundabout_coordinates.csv')\n",
    "\n",
    "# load data\n",
    "tech_roundabout = pd.read_csv(file_path)"
   ]
  },
  {
   "cell_type": "code",
   "execution_count": 129,
   "metadata": {
    "ExecuteTime": {
     "end_time": "2020-12-12T00:28:56.606311Z",
     "start_time": "2020-12-12T00:28:56.362370Z"
    }
   },
   "outputs": [],
   "source": [
    "# set file path\n",
    "base_path = '../..'\n",
    "file_path = os.path.join(base_path, 'datasets', 'industry_added_cleaned_data.csv')\n",
    "\n",
    "# load data\n",
    "iac = pd.read_csv(file_path)"
   ]
  },
  {
   "cell_type": "code",
   "execution_count": 130,
   "metadata": {
    "ExecuteTime": {
     "end_time": "2020-12-12T00:28:57.258789Z",
     "start_time": "2020-12-12T00:28:57.215953Z"
    }
   },
   "outputs": [],
   "source": [
    "# set file path\n",
    "base_path = '../..'\n",
    "file_path = os.path.join(base_path, 'datasets', 'tech_industry_added_cleaned_data.csv')\n",
    "\n",
    "# load data\n",
    "tech_industries = pd.read_csv(file_path)"
   ]
  },
  {
   "cell_type": "code",
   "execution_count": 131,
   "metadata": {
    "ExecuteTime": {
     "end_time": "2020-12-12T00:28:58.280027Z",
     "start_time": "2020-12-12T00:28:57.261684Z"
    }
   },
   "outputs": [],
   "source": [
    "# set-up coordinates\n",
    "tech_roundabout_coordinates = tech_roundabout[['CompanyName', 'latitude', 'longitude']]\n",
    "\n",
    "tech_roundabout_coordinates = gpd.GeoDataFrame(\n",
    "    tech_roundabout_coordinates.drop(['latitude','longitude'], axis = 1),\n",
    "    geometry=[Point(xy) for xy in zip(tech_roundabout_coordinates.longitude,\n",
    "                                      tech_roundabout_coordinates.latitude)])"
   ]
  },
  {
   "cell_type": "code",
   "execution_count": 132,
   "metadata": {
    "ExecuteTime": {
     "end_time": "2020-12-12T00:28:58.860553Z",
     "start_time": "2020-12-12T00:28:58.810859Z"
    }
   },
   "outputs": [
    {
     "data": {
      "text/html": [
       "<div>\n",
       "<style scoped>\n",
       "    .dataframe tbody tr th:only-of-type {\n",
       "        vertical-align: middle;\n",
       "    }\n",
       "\n",
       "    .dataframe tbody tr th {\n",
       "        vertical-align: top;\n",
       "    }\n",
       "\n",
       "    .dataframe thead th {\n",
       "        text-align: right;\n",
       "    }\n",
       "</style>\n",
       "<table border=\"1\" class=\"dataframe\">\n",
       "  <thead>\n",
       "    <tr style=\"text-align: right;\">\n",
       "      <th></th>\n",
       "      <th>CompanyName</th>\n",
       "      <th>geometry</th>\n",
       "    </tr>\n",
       "  </thead>\n",
       "  <tbody>\n",
       "    <tr>\n",
       "      <th>0</th>\n",
       "      <td>!BIG IMPACT GRAPHICS LIMITED</td>\n",
       "      <td>POINT (-0.07869 51.52702)</td>\n",
       "    </tr>\n",
       "    <tr>\n",
       "      <th>1</th>\n",
       "      <td>\"K\" LINE (EUROPE) LIMITED</td>\n",
       "      <td>POINT (-0.09736 51.51757)</td>\n",
       "    </tr>\n",
       "    <tr>\n",
       "      <th>2</th>\n",
       "      <td>\"K\" LINE BULK SHIPPING (UK) LIMITED</td>\n",
       "      <td>POINT (-0.09736 51.51757)</td>\n",
       "    </tr>\n",
       "    <tr>\n",
       "      <th>3</th>\n",
       "      <td>\"K\" LINE HOLDING (EUROPE) LIMITED</td>\n",
       "      <td>POINT (-0.09736 51.51757)</td>\n",
       "    </tr>\n",
       "    <tr>\n",
       "      <th>4</th>\n",
       "      <td>\"K\" LINE LNG SHIPPING (UK) LIMITED</td>\n",
       "      <td>POINT (-0.09736 51.51757)</td>\n",
       "    </tr>\n",
       "    <tr>\n",
       "      <th>...</th>\n",
       "      <td>...</td>\n",
       "      <td>...</td>\n",
       "    </tr>\n",
       "    <tr>\n",
       "      <th>97964</th>\n",
       "      <td>ÉCLAT CENTURY SERVICES LIMITED</td>\n",
       "      <td>POINT (-0.08881 51.52725)</td>\n",
       "    </tr>\n",
       "    <tr>\n",
       "      <th>97965</th>\n",
       "      <td>ÉLEVAGE JOLIVET LTD</td>\n",
       "      <td>POINT (-0.08881 51.52725)</td>\n",
       "    </tr>\n",
       "    <tr>\n",
       "      <th>97966</th>\n",
       "      <td>ÜVIEW LIMITED</td>\n",
       "      <td>POINT (-0.08371 51.52559)</td>\n",
       "    </tr>\n",
       "    <tr>\n",
       "      <th>97967</th>\n",
       "      <td>‘ADORE BOURNEMOUTH LTD</td>\n",
       "      <td>POINT (-0.08013 51.52639)</td>\n",
       "    </tr>\n",
       "    <tr>\n",
       "      <th>97968</th>\n",
       "      <td>“SAIL IN GREECE ADVENTURES” LTD</td>\n",
       "      <td>POINT (-0.10453 51.51737)</td>\n",
       "    </tr>\n",
       "  </tbody>\n",
       "</table>\n",
       "<p>97969 rows × 2 columns</p>\n",
       "</div>"
      ],
      "text/plain": [
       "                               CompanyName                   geometry\n",
       "0             !BIG IMPACT GRAPHICS LIMITED  POINT (-0.07869 51.52702)\n",
       "1                \"K\" LINE (EUROPE) LIMITED  POINT (-0.09736 51.51757)\n",
       "2      \"K\" LINE BULK SHIPPING (UK) LIMITED  POINT (-0.09736 51.51757)\n",
       "3        \"K\" LINE HOLDING (EUROPE) LIMITED  POINT (-0.09736 51.51757)\n",
       "4       \"K\" LINE LNG SHIPPING (UK) LIMITED  POINT (-0.09736 51.51757)\n",
       "...                                    ...                        ...\n",
       "97964       ÉCLAT CENTURY SERVICES LIMITED  POINT (-0.08881 51.52725)\n",
       "97965                  ÉLEVAGE JOLIVET LTD  POINT (-0.08881 51.52725)\n",
       "97966                        ÜVIEW LIMITED  POINT (-0.08371 51.52559)\n",
       "97967               ‘ADORE BOURNEMOUTH LTD  POINT (-0.08013 51.52639)\n",
       "97968      “SAIL IN GREECE ADVENTURES” LTD  POINT (-0.10453 51.51737)\n",
       "\n",
       "[97969 rows x 2 columns]"
      ]
     },
     "execution_count": 132,
     "metadata": {},
     "output_type": "execute_result"
    }
   ],
   "source": [
    "# project to epsg:4326 --  = crs_27700\n",
    "tech_roundabout_coordinates.set_crs(crs = 'EPSG:4326',epsg=27700, inplace=True, allow_override=True)"
   ]
  },
  {
   "cell_type": "markdown",
   "metadata": {},
   "source": [
    "# Spatial join"
   ]
  },
  {
   "cell_type": "code",
   "execution_count": 133,
   "metadata": {
    "ExecuteTime": {
     "end_time": "2020-12-12T00:29:06.686426Z",
     "start_time": "2020-12-12T00:28:59.991193Z"
    }
   },
   "outputs": [],
   "source": [
    "# get district\n",
    "tech_roundabout_full = gpd.sjoin(tech_roundabout_coordinates, uk, \n",
    "                                 how = 'left', op = 'within').drop(columns = 'index_right')\n",
    "\n",
    "# remove data points that are not in the uk --- bug when request for coordinate\n",
    "tech_roundabout_full = tech_roundabout_full[~tech_roundabout_full.district.isna()]\n",
    "\n",
    "# remove irrelevant data point --- postcode provided cannot be found on Google Map\n",
    "tech_roundabout_full = tech_roundabout_full[~tech_roundabout_full['district'].isin(['Brentwood', 'Sheffield'])]"
   ]
  },
  {
   "cell_type": "markdown",
   "metadata": {},
   "source": [
    "# Visualize data"
   ]
  },
  {
   "cell_type": "code",
   "execution_count": 134,
   "metadata": {
    "ExecuteTime": {
     "end_time": "2020-12-12T00:29:07.229933Z",
     "start_time": "2020-12-12T00:29:07.214829Z"
    }
   },
   "outputs": [],
   "source": [
    "tech_roundabout_district = uk[uk['district'].isin(tech_roundabout_full['district'].unique())]"
   ]
  },
  {
   "cell_type": "code",
   "execution_count": 135,
   "metadata": {
    "ExecuteTime": {
     "end_time": "2020-12-12T00:29:08.410695Z",
     "start_time": "2020-12-12T00:29:07.803450Z"
    }
   },
   "outputs": [
    {
     "data": {
      "text/html": [
       "<div>\n",
       "<style scoped>\n",
       "    .dataframe tbody tr th:only-of-type {\n",
       "        vertical-align: middle;\n",
       "    }\n",
       "\n",
       "    .dataframe tbody tr th {\n",
       "        vertical-align: top;\n",
       "    }\n",
       "\n",
       "    .dataframe thead th {\n",
       "        text-align: right;\n",
       "    }\n",
       "</style>\n",
       "<table border=\"1\" class=\"dataframe\">\n",
       "  <thead>\n",
       "    <tr style=\"text-align: right;\">\n",
       "      <th></th>\n",
       "      <th>CompanyName</th>\n",
       "      <th>sector_name_1</th>\n",
       "      <th>Industry</th>\n",
       "      <th>RegAddress.PostCode</th>\n",
       "      <th>RegAddress.PostTown</th>\n",
       "      <th>latitude</th>\n",
       "      <th>longitude</th>\n",
       "      <th>geometry</th>\n",
       "      <th>district</th>\n",
       "      <th>color</th>\n",
       "    </tr>\n",
       "  </thead>\n",
       "  <tbody>\n",
       "    <tr>\n",
       "      <th>0</th>\n",
       "      <td>MACXPERTS LIMITED</td>\n",
       "      <td>Info Tech Consulting</td>\n",
       "      <td>informatin Tech</td>\n",
       "      <td>EC1Y 4SE</td>\n",
       "      <td>LONDON</td>\n",
       "      <td>51.521022</td>\n",
       "      <td>-0.090913</td>\n",
       "      <td>POINT (-0.09091 51.52102)</td>\n",
       "      <td>Islington</td>\n",
       "      <td>lightred</td>\n",
       "    </tr>\n",
       "    <tr>\n",
       "      <th>1</th>\n",
       "      <td>PREMIER TRAINING LIMITED</td>\n",
       "      <td>Info Tech Consulting</td>\n",
       "      <td>informatin Tech</td>\n",
       "      <td>EC1V 2NX</td>\n",
       "      <td>LONDON</td>\n",
       "      <td>51.527246</td>\n",
       "      <td>-0.088808</td>\n",
       "      <td>POINT (-0.08881 51.52725)</td>\n",
       "      <td>Islington</td>\n",
       "      <td>lightred</td>\n",
       "    </tr>\n",
       "    <tr>\n",
       "      <th>2</th>\n",
       "      <td>INFIELD SYSTEMS LIMITED</td>\n",
       "      <td>Data Companies</td>\n",
       "      <td>informatin Tech</td>\n",
       "      <td>EC2A 2EW</td>\n",
       "      <td>LONDON</td>\n",
       "      <td>51.521060</td>\n",
       "      <td>-0.080057</td>\n",
       "      <td>POINT (-0.08006 51.52106)</td>\n",
       "      <td>City of London</td>\n",
       "      <td>darkpurple</td>\n",
       "    </tr>\n",
       "  </tbody>\n",
       "</table>\n",
       "</div>"
      ],
      "text/plain": [
       "                CompanyName         sector_name_1         Industry  \\\n",
       "0         MACXPERTS LIMITED  Info Tech Consulting  informatin Tech   \n",
       "1  PREMIER TRAINING LIMITED  Info Tech Consulting  informatin Tech   \n",
       "2   INFIELD SYSTEMS LIMITED        Data Companies  informatin Tech   \n",
       "\n",
       "  RegAddress.PostCode RegAddress.PostTown   latitude  longitude  \\\n",
       "0            EC1Y 4SE              LONDON  51.521022  -0.090913   \n",
       "1            EC1V 2NX              LONDON  51.527246  -0.088808   \n",
       "2            EC2A 2EW              LONDON  51.521060  -0.080057   \n",
       "\n",
       "                    geometry        district       color  \n",
       "0  POINT (-0.09091 51.52102)       Islington    lightred  \n",
       "1  POINT (-0.08881 51.52725)       Islington    lightred  \n",
       "2  POINT (-0.08006 51.52106)  City of London  darkpurple  "
      ]
     },
     "execution_count": 135,
     "metadata": {},
     "output_type": "execute_result"
    }
   ],
   "source": [
    "df_tech = pd.merge(tech_industries , tech_roundabout, on='CompanyName', how='inner')\n",
    "df_tech = pd.merge(df_tech, tech_roundabout_full, on='CompanyName', how='inner')\n",
    "df_tech.head(3)\n",
    "df_tech  = df_tech.drop(columns = ['IncorporationDate', 'year', 'month', 'CompanyNumber', 'CompanyStatus', 'sector_code_1', 'count'])\n",
    "df_tech = df_tech.drop_duplicates()\n",
    "\n",
    "df_tech_gdf = GeoDataFrame(df_tech)\n",
    "df_tech_gdf['sector_name_1'] = df_tech_gdf['sector_name_1'].str.strip()\n",
    "\n",
    "def district(counter):\n",
    "    if counter['sector_name_1'] == 'Biotech Rsrch.':\n",
    "        return 'darkgreen'\n",
    "    elif counter['sector_name_1'] == 'Business Software Dev.':\n",
    "        return 'lightgreen'\n",
    "    elif counter['sector_name_1'] == 'Computer Game Companies':\n",
    "        return 'lightblue'\n",
    "    elif counter['sector_name_1'] == 'Computer facilities mgmt.':\n",
    "        return 'gray'\n",
    "    elif counter['sector_name_1'] == 'Data Companies':\n",
    "        return 'darkpurple'\n",
    "    elif counter['sector_name_1'] == 'Fund management activities':\n",
    "        return 'orange'\n",
    "    elif counter['sector_name_1'] == 'Info Tech Consulting':\n",
    "        return 'lightred'\n",
    "    elif counter['sector_name_1'] == 'Info Tech services':\n",
    "        return 'cadetblue'\n",
    "    elif counter['sector_name_1'] == 'Natural Sciences Rsrch.':\n",
    "        return 'beige'\n",
    "    elif counter['sector_name_1'] == 'Open-ended Investors':\n",
    "        return 'purple'\n",
    "    elif counter['sector_name_1'] == 'Satellite Telecommunications':\n",
    "        return 'white'\n",
    "    elif counter['sector_name_1'] == 'Social Sciences Rsrch.':\n",
    "        return 'pink'\n",
    "    elif counter['sector_name_1'] == 'Software Dev.':\n",
    "        return 'lightgray' \n",
    "    elif counter['sector_name_1'] == 'Technical testing and analysis':\n",
    "        return 'green'\n",
    "    elif counter['sector_name_1'] == 'Venture Capital':\n",
    "        return 'blue'\n",
    "    elif counter['sector_name_1'] == 'Web portals':\n",
    "        return 'darkblue'\n",
    "    elif counter['sector_name_1'] == 'Wireless Telecommunications':\n",
    "         return 'orange'\n",
    "    else:\n",
    "        return 'black'\n",
    "\n",
    "df_tech_gdf[\"color\"] = df_tech_gdf.apply(district, axis=1)\n",
    "df_tech_gdf.head(3)"
   ]
  },
  {
   "cell_type": "code",
   "execution_count": 138,
   "metadata": {
    "ExecuteTime": {
     "end_time": "2020-12-12T00:34:38.691440Z",
     "start_time": "2020-12-12T00:34:13.895479Z"
    }
   },
   "outputs": [],
   "source": [
    "#set up the map\n",
    "m = folium.Map(location=[51.51757, -0.08881], zoom_start=20, min_zoom=10, prefer_canvas=True)\n",
    "\n",
    "#set up the values\n",
    "long=df_tech_gdf.longitude\n",
    "lati=df_tech_gdf.latitude\n",
    "coname=df_tech_gdf['CompanyName']\n",
    "color=df_tech_gdf.color\n",
    "se=df_tech_gdf.sector_name_1\n",
    "\n",
    "feature_group = folium.FeatureGroup() \n",
    "\n",
    "MarkerCluster().add_to(m)\n",
    "\n",
    "for lat, lng, name, col,se,name in zip(lati,long,coname, color,se,coname): \n",
    "    folium.Marker(\n",
    "    location=[lat,lng],\n",
    "    tooltip=name,\n",
    "    popup=se,\n",
    "    icon=folium.Icon(color= col, icon='globe', angle=0, prefix='fa')\n",
    "        ).add_to(m)\n",
    "\n",
    "\n",
    "# folium.CircleMarker(\n",
    "#         [51.51757, -0.08881],\n",
    "#         radius=800,\n",
    "#         popup='Tech City',\n",
    "#         color='lavender',\n",
    "#         fill=True,\n",
    "#         fill_color='#66023c',\n",
    "#         fill_opacity=0.2, parse_html=False).add_to(m)\n",
    "\n",
    "m.add_child(feature_group)\n",
    "\n",
    "m.save('test2.html')"
   ]
  },
  {
   "cell_type": "code",
   "execution_count": null,
   "metadata": {},
   "outputs": [],
   "source": []
  },
  {
   "cell_type": "code",
   "execution_count": null,
   "metadata": {},
   "outputs": [],
   "source": []
  }
 ],
 "metadata": {
  "kernelspec": {
   "display_name": "Python 3",
   "language": "python",
   "name": "python3"
  },
  "language_info": {
   "codemirror_mode": {
    "name": "ipython",
    "version": 3
   },
   "file_extension": ".py",
   "mimetype": "text/x-python",
   "name": "python",
   "nbconvert_exporter": "python",
   "pygments_lexer": "ipython3",
   "version": "3.8.6"
  },
  "latex_envs": {
   "LaTeX_envs_menu_present": true,
   "autoclose": false,
   "autocomplete": true,
   "bibliofile": "biblio.bib",
   "cite_by": "apalike",
   "current_citInitial": 1,
   "eqLabelWithNumbers": true,
   "eqNumInitial": 1,
   "hotkeys": {
    "equation": "Ctrl-E",
    "itemize": "Ctrl-I"
   },
   "labels_anchors": false,
   "latex_user_defs": false,
   "report_style_numbering": false,
   "user_envs_cfg": false
  },
  "toc": {
   "base_numbering": 1,
   "nav_menu": {},
   "number_sections": true,
   "sideBar": true,
   "skip_h1_title": false,
   "title_cell": "Table of Contents",
   "title_sidebar": "Contents",
   "toc_cell": false,
   "toc_position": {},
   "toc_section_display": true,
   "toc_window_display": false
  },
  "varInspector": {
   "cols": {
    "lenName": 16,
    "lenType": 16,
    "lenVar": 40
   },
   "kernels_config": {
    "python": {
     "delete_cmd_postfix": "",
     "delete_cmd_prefix": "del ",
     "library": "var_list.py",
     "varRefreshCmd": "print(var_dic_list())"
    },
    "r": {
     "delete_cmd_postfix": ") ",
     "delete_cmd_prefix": "rm(",
     "library": "var_list.r",
     "varRefreshCmd": "cat(var_dic_list()) "
    }
   },
   "types_to_exclude": [
    "module",
    "function",
    "builtin_function_or_method",
    "instance",
    "_Feature"
   ],
   "window_display": false
  }
 },
 "nbformat": 4,
 "nbformat_minor": 4
}
