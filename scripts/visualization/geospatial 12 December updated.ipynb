{
 "cells": [
  {
   "cell_type": "markdown",
   "metadata": {},
   "source": [
    "# Import relevant libraries"
   ]
  },
  {
   "cell_type": "code",
   "execution_count": 1,
   "metadata": {
    "ExecuteTime": {
     "end_time": "2020-12-13T01:05:55.535766Z",
     "start_time": "2020-12-13T01:05:54.124171Z"
    }
   },
   "outputs": [],
   "source": [
    "import os\n",
    "import json\n",
    "import numpy as np\n",
    "import matplotlib.pyplot as plt \n",
    "from matplotlib import rc\n",
    "import pandas as pd\n",
    "import geopandas as gpd\n",
    "from geopandas import GeoDataFrame\n",
    "from pyproj import CRS\n",
    "import folium\n",
    "from folium import plugins\n",
    "from folium.plugins import MarkerCluster, TimestampedGeoJson\n",
    "import shapely\n",
    "from shapely.geometry import Point, Polygon"
   ]
  },
  {
   "cell_type": "markdown",
   "metadata": {},
   "source": [
    "# Load UK shape file"
   ]
  },
  {
   "cell_type": "code",
   "execution_count": 2,
   "metadata": {
    "ExecuteTime": {
     "end_time": "2020-12-13T01:05:56.631921Z",
     "start_time": "2020-12-13T01:05:55.537874Z"
    }
   },
   "outputs": [],
   "source": [
    "uk = gpd.read_file(\"London_Borough_Excluding_MHW.json\")\n",
    "crs_27700 = CRS(\"EPSG:27700\")\n",
    "\n",
    "uk.crs = crs_27700\n",
    "uk = uk[['NAME', 'geometry']]\n",
    "uk = uk.to_crs(\"EPSG:4326\")\n",
    "\n",
    "uk = uk[['NAME', 'geometry']]\n",
    "uk.rename(columns={'NAME': 'district'}, inplace=True)"
   ]
  },
  {
   "cell_type": "code",
   "execution_count": 3,
   "metadata": {
    "ExecuteTime": {
     "end_time": "2020-12-13T01:05:56.857388Z",
     "start_time": "2020-12-13T01:05:56.633993Z"
    }
   },
   "outputs": [],
   "source": [
    "# set file path\n",
    "base_path = '../..'\n",
    "file_path = os.path.join(base_path, \n",
    "                         'datasets',\n",
    "                         'tech_roundabout_coordinates.csv')\n",
    "\n",
    "# load data\n",
    "tech_roundabout = pd.read_csv(file_path)"
   ]
  },
  {
   "cell_type": "code",
   "execution_count": 4,
   "metadata": {
    "ExecuteTime": {
     "end_time": "2020-12-13T01:05:57.061381Z",
     "start_time": "2020-12-13T01:05:56.859244Z"
    }
   },
   "outputs": [],
   "source": [
    "# set file path\n",
    "file_path = os.path.join(base_path, \n",
    "                         'datasets',\n",
    "                         'industry_added_cleaned_data.csv')\n",
    "\n",
    "# load data\n",
    "iac = pd.read_csv(file_path)"
   ]
  },
  {
   "cell_type": "code",
   "execution_count": 5,
   "metadata": {
    "ExecuteTime": {
     "end_time": "2020-12-13T01:05:57.098440Z",
     "start_time": "2020-12-13T01:05:57.062951Z"
    }
   },
   "outputs": [],
   "source": [
    "# set file path\n",
    "file_path = os.path.join(base_path, \n",
    "                         'datasets',\n",
    "                         'tech_industry_added_cleaned_data.csv')\n",
    "\n",
    "# load data\n",
    "tech_industries = pd.read_csv(file_path)"
   ]
  },
  {
   "cell_type": "code",
   "execution_count": 6,
   "metadata": {
    "ExecuteTime": {
     "end_time": "2020-12-13T01:05:58.761011Z",
     "start_time": "2020-12-13T01:05:57.099918Z"
    }
   },
   "outputs": [],
   "source": [
    "# set-up coordinates\n",
    "tech_roundabout_coordinates = tech_roundabout[['CompanyName', 'latitude', 'longitude']]\n",
    "\n",
    "tech_roundabout_coordinates = gpd.GeoDataFrame(\n",
    "    tech_roundabout_coordinates.drop(['latitude','longitude'], axis = 1),\n",
    "    geometry=[Point(xy) for xy in zip(tech_roundabout_coordinates.longitude,\n",
    "                                      tech_roundabout_coordinates.latitude)])"
   ]
  },
  {
   "cell_type": "code",
   "execution_count": 7,
   "metadata": {
    "ExecuteTime": {
     "end_time": "2020-12-13T01:05:58.813007Z",
     "start_time": "2020-12-13T01:05:58.764110Z"
    }
   },
   "outputs": [
    {
     "data": {
      "text/html": [
       "<div>\n",
       "<style scoped>\n",
       "    .dataframe tbody tr th:only-of-type {\n",
       "        vertical-align: middle;\n",
       "    }\n",
       "\n",
       "    .dataframe tbody tr th {\n",
       "        vertical-align: top;\n",
       "    }\n",
       "\n",
       "    .dataframe thead th {\n",
       "        text-align: right;\n",
       "    }\n",
       "</style>\n",
       "<table border=\"1\" class=\"dataframe\">\n",
       "  <thead>\n",
       "    <tr style=\"text-align: right;\">\n",
       "      <th></th>\n",
       "      <th>CompanyName</th>\n",
       "      <th>geometry</th>\n",
       "    </tr>\n",
       "  </thead>\n",
       "  <tbody>\n",
       "    <tr>\n",
       "      <th>0</th>\n",
       "      <td>!BIG IMPACT GRAPHICS LIMITED</td>\n",
       "      <td>POINT (-0.07869 51.52702)</td>\n",
       "    </tr>\n",
       "    <tr>\n",
       "      <th>1</th>\n",
       "      <td>\"K\" LINE (EUROPE) LIMITED</td>\n",
       "      <td>POINT (-0.09736 51.51757)</td>\n",
       "    </tr>\n",
       "    <tr>\n",
       "      <th>2</th>\n",
       "      <td>\"K\" LINE BULK SHIPPING (UK) LIMITED</td>\n",
       "      <td>POINT (-0.09736 51.51757)</td>\n",
       "    </tr>\n",
       "    <tr>\n",
       "      <th>3</th>\n",
       "      <td>\"K\" LINE HOLDING (EUROPE) LIMITED</td>\n",
       "      <td>POINT (-0.09736 51.51757)</td>\n",
       "    </tr>\n",
       "    <tr>\n",
       "      <th>4</th>\n",
       "      <td>\"K\" LINE LNG SHIPPING (UK) LIMITED</td>\n",
       "      <td>POINT (-0.09736 51.51757)</td>\n",
       "    </tr>\n",
       "    <tr>\n",
       "      <th>...</th>\n",
       "      <td>...</td>\n",
       "      <td>...</td>\n",
       "    </tr>\n",
       "    <tr>\n",
       "      <th>97964</th>\n",
       "      <td>ÉCLAT CENTURY SERVICES LIMITED</td>\n",
       "      <td>POINT (-0.08881 51.52725)</td>\n",
       "    </tr>\n",
       "    <tr>\n",
       "      <th>97965</th>\n",
       "      <td>ÉLEVAGE JOLIVET LTD</td>\n",
       "      <td>POINT (-0.08881 51.52725)</td>\n",
       "    </tr>\n",
       "    <tr>\n",
       "      <th>97966</th>\n",
       "      <td>ÜVIEW LIMITED</td>\n",
       "      <td>POINT (-0.08371 51.52559)</td>\n",
       "    </tr>\n",
       "    <tr>\n",
       "      <th>97967</th>\n",
       "      <td>‘ADORE BOURNEMOUTH LTD</td>\n",
       "      <td>POINT (-0.08013 51.52639)</td>\n",
       "    </tr>\n",
       "    <tr>\n",
       "      <th>97968</th>\n",
       "      <td>“SAIL IN GREECE ADVENTURES” LTD</td>\n",
       "      <td>POINT (-0.10453 51.51737)</td>\n",
       "    </tr>\n",
       "  </tbody>\n",
       "</table>\n",
       "<p>97969 rows × 2 columns</p>\n",
       "</div>"
      ],
      "text/plain": [
       "                               CompanyName                   geometry\n",
       "0             !BIG IMPACT GRAPHICS LIMITED  POINT (-0.07869 51.52702)\n",
       "1                \"K\" LINE (EUROPE) LIMITED  POINT (-0.09736 51.51757)\n",
       "2      \"K\" LINE BULK SHIPPING (UK) LIMITED  POINT (-0.09736 51.51757)\n",
       "3        \"K\" LINE HOLDING (EUROPE) LIMITED  POINT (-0.09736 51.51757)\n",
       "4       \"K\" LINE LNG SHIPPING (UK) LIMITED  POINT (-0.09736 51.51757)\n",
       "...                                    ...                        ...\n",
       "97964       ÉCLAT CENTURY SERVICES LIMITED  POINT (-0.08881 51.52725)\n",
       "97965                  ÉLEVAGE JOLIVET LTD  POINT (-0.08881 51.52725)\n",
       "97966                        ÜVIEW LIMITED  POINT (-0.08371 51.52559)\n",
       "97967               ‘ADORE BOURNEMOUTH LTD  POINT (-0.08013 51.52639)\n",
       "97968      “SAIL IN GREECE ADVENTURES” LTD  POINT (-0.10453 51.51737)\n",
       "\n",
       "[97969 rows x 2 columns]"
      ]
     },
     "execution_count": 7,
     "metadata": {},
     "output_type": "execute_result"
    }
   ],
   "source": [
    "# project to epsg:4326 --  = crs_27700\n",
    "tech_roundabout_coordinates.set_crs(crs='EPSG:4326',\n",
    "                                    inplace=True,\n",
    "                                    allow_override=True)"
   ]
  },
  {
   "cell_type": "markdown",
   "metadata": {},
   "source": [
    "# Spatial join"
   ]
  },
  {
   "cell_type": "code",
   "execution_count": 8,
   "metadata": {
    "ExecuteTime": {
     "end_time": "2020-12-13T01:06:07.363607Z",
     "start_time": "2020-12-13T01:05:58.815904Z"
    }
   },
   "outputs": [],
   "source": [
    "# get district\n",
    "tech_roundabout_full = gpd.sjoin(tech_roundabout_coordinates,\n",
    "                                 uk,\n",
    "                                 how='left',\n",
    "                                 op='within').drop(columns='index_right')\n",
    "\n",
    "# remove data points that are not in the uk --- bug when request for coordinate\n",
    "tech_roundabout_full = tech_roundabout_full[~tech_roundabout_full.district.isna()]\n",
    "\n",
    "# remove irrelevant data point --- postcode provided cannot be found on Google Map\n",
    "tech_roundabout_full = tech_roundabout_full[~tech_roundabout_full['district'].\n",
    "                                            isin(['Brentwood', 'Sheffield'])]"
   ]
  },
  {
   "cell_type": "markdown",
   "metadata": {},
   "source": [
    "# Clean company data"
   ]
  },
  {
   "cell_type": "code",
   "execution_count": 9,
   "metadata": {
    "ExecuteTime": {
     "end_time": "2020-12-13T01:06:07.387023Z",
     "start_time": "2020-12-13T01:06:07.366132Z"
    }
   },
   "outputs": [],
   "source": [
    "tech_roundabout_district = uk[uk['district'].isin(tech_roundabout_full['district'].unique())]"
   ]
  },
  {
   "cell_type": "code",
   "execution_count": 10,
   "metadata": {
    "ExecuteTime": {
     "end_time": "2020-12-13T01:06:08.013345Z",
     "start_time": "2020-12-13T01:06:07.388616Z"
    }
   },
   "outputs": [
    {
     "data": {
      "text/html": [
       "<div>\n",
       "<style scoped>\n",
       "    .dataframe tbody tr th:only-of-type {\n",
       "        vertical-align: middle;\n",
       "    }\n",
       "\n",
       "    .dataframe tbody tr th {\n",
       "        vertical-align: top;\n",
       "    }\n",
       "\n",
       "    .dataframe thead th {\n",
       "        text-align: right;\n",
       "    }\n",
       "</style>\n",
       "<table border=\"1\" class=\"dataframe\">\n",
       "  <thead>\n",
       "    <tr style=\"text-align: right;\">\n",
       "      <th></th>\n",
       "      <th>year</th>\n",
       "      <th>CompanyName</th>\n",
       "      <th>CompanyStatus</th>\n",
       "      <th>sector_name_1</th>\n",
       "      <th>Industry</th>\n",
       "      <th>RegAddress.PostCode</th>\n",
       "      <th>RegAddress.PostTown</th>\n",
       "      <th>latitude</th>\n",
       "      <th>longitude</th>\n",
       "      <th>geometry</th>\n",
       "      <th>district</th>\n",
       "    </tr>\n",
       "  </thead>\n",
       "  <tbody>\n",
       "    <tr>\n",
       "      <th>0</th>\n",
       "      <td>1991</td>\n",
       "      <td>MACXPERTS LIMITED</td>\n",
       "      <td>Active</td>\n",
       "      <td>Info Tech Consulting</td>\n",
       "      <td>informatin Tech</td>\n",
       "      <td>EC1Y 4SE</td>\n",
       "      <td>LONDON</td>\n",
       "      <td>51.521022</td>\n",
       "      <td>-0.090913</td>\n",
       "      <td>POINT (-0.09091 51.52102)</td>\n",
       "      <td>Islington</td>\n",
       "    </tr>\n",
       "    <tr>\n",
       "      <th>1</th>\n",
       "      <td>1991</td>\n",
       "      <td>PREMIER TRAINING LIMITED</td>\n",
       "      <td>Active</td>\n",
       "      <td>Info Tech Consulting</td>\n",
       "      <td>informatin Tech</td>\n",
       "      <td>EC1V 2NX</td>\n",
       "      <td>LONDON</td>\n",
       "      <td>51.527246</td>\n",
       "      <td>-0.088808</td>\n",
       "      <td>POINT (-0.08881 51.52725)</td>\n",
       "      <td>Islington</td>\n",
       "    </tr>\n",
       "    <tr>\n",
       "      <th>2</th>\n",
       "      <td>1991</td>\n",
       "      <td>INFIELD SYSTEMS LIMITED</td>\n",
       "      <td>Active</td>\n",
       "      <td>Data Companies</td>\n",
       "      <td>informatin Tech</td>\n",
       "      <td>EC2A 2EW</td>\n",
       "      <td>LONDON</td>\n",
       "      <td>51.521060</td>\n",
       "      <td>-0.080057</td>\n",
       "      <td>POINT (-0.08006 51.52106)</td>\n",
       "      <td>City of London</td>\n",
       "    </tr>\n",
       "    <tr>\n",
       "      <th>3</th>\n",
       "      <td>1991</td>\n",
       "      <td>A C F FINANCIAL TECHNOLOGY LIMITED</td>\n",
       "      <td>Active</td>\n",
       "      <td>Software Dev.</td>\n",
       "      <td>informatin Tech</td>\n",
       "      <td>EC2V 8EH</td>\n",
       "      <td>LONDON</td>\n",
       "      <td>51.514624</td>\n",
       "      <td>-0.092348</td>\n",
       "      <td>POINT (-0.09235 51.51462)</td>\n",
       "      <td>City of London</td>\n",
       "    </tr>\n",
       "    <tr>\n",
       "      <th>4</th>\n",
       "      <td>1991</td>\n",
       "      <td>CAPITA LAND LIMITED</td>\n",
       "      <td>Active</td>\n",
       "      <td>Software Dev.</td>\n",
       "      <td>informatin Tech</td>\n",
       "      <td>EC2V 7NQ</td>\n",
       "      <td>LONDON</td>\n",
       "      <td>51.515626</td>\n",
       "      <td>-0.093661</td>\n",
       "      <td>POINT (-0.09366 51.51563)</td>\n",
       "      <td>City of London</td>\n",
       "    </tr>\n",
       "  </tbody>\n",
       "</table>\n",
       "</div>"
      ],
      "text/plain": [
       "   year                         CompanyName CompanyStatus  \\\n",
       "0  1991                   MACXPERTS LIMITED        Active   \n",
       "1  1991            PREMIER TRAINING LIMITED        Active   \n",
       "2  1991             INFIELD SYSTEMS LIMITED        Active   \n",
       "3  1991  A C F FINANCIAL TECHNOLOGY LIMITED        Active   \n",
       "4  1991                 CAPITA LAND LIMITED        Active   \n",
       "\n",
       "          sector_name_1         Industry RegAddress.PostCode  \\\n",
       "0  Info Tech Consulting  informatin Tech            EC1Y 4SE   \n",
       "1  Info Tech Consulting  informatin Tech            EC1V 2NX   \n",
       "2        Data Companies  informatin Tech            EC2A 2EW   \n",
       "3         Software Dev.  informatin Tech            EC2V 8EH   \n",
       "4         Software Dev.  informatin Tech            EC2V 7NQ   \n",
       "\n",
       "  RegAddress.PostTown   latitude  longitude                   geometry  \\\n",
       "0              LONDON  51.521022  -0.090913  POINT (-0.09091 51.52102)   \n",
       "1              LONDON  51.527246  -0.088808  POINT (-0.08881 51.52725)   \n",
       "2              LONDON  51.521060  -0.080057  POINT (-0.08006 51.52106)   \n",
       "3              LONDON  51.514624  -0.092348  POINT (-0.09235 51.51462)   \n",
       "4              LONDON  51.515626  -0.093661  POINT (-0.09366 51.51563)   \n",
       "\n",
       "         district  \n",
       "0       Islington  \n",
       "1       Islington  \n",
       "2  City of London  \n",
       "3  City of London  \n",
       "4  City of London  "
      ]
     },
     "execution_count": 10,
     "metadata": {},
     "output_type": "execute_result"
    }
   ],
   "source": [
    "df_tech = pd.merge(tech_industries,\n",
    "                   tech_roundabout,\n",
    "                   on='CompanyName',\n",
    "                   how='inner')\n",
    "df_tech = pd.merge(df_tech,\n",
    "                   tech_roundabout_full,\n",
    "                   on='CompanyName',\n",
    "                   how='inner')\n",
    "df_tech.head(3)\n",
    "df_tech = df_tech.drop(columns=['IncorporationDate', 'month', 'CompanyNumber', 'sector_code_1', 'count'])\n",
    "df_tech = df_tech.drop_duplicates()\n",
    "\n",
    "df_tech_gdf = GeoDataFrame(df_tech)\n",
    "df_tech_gdf['sector_name_1'] = df_tech_gdf['sector_name_1'].str.strip()\n",
    "df_tech_gdf.head()\n",
    "# 'year','IncorporationDate',  'CompanyStatus'"
   ]
  },
  {
   "cell_type": "markdown",
   "metadata": {},
   "source": [
    "## Create mapping dictionary"
   ]
  },
  {
   "cell_type": "code",
   "execution_count": 11,
   "metadata": {
    "ExecuteTime": {
     "end_time": "2020-12-13T01:06:08.020560Z",
     "start_time": "2020-12-13T01:06:08.014887Z"
    }
   },
   "outputs": [],
   "source": [
    "map_dict = {\n",
    "    'color': {\n",
    "        'Biotech Rsrch.': 'darkgreen',\n",
    "        'Business Software Dev.': 'lightgreen',\n",
    "        'Computer Game Companies': 'lightblue',\n",
    "        'Computer facilities mgmt.': 'gray',\n",
    "        'Data Companies': 'darkpurple',\n",
    "        'Fund management activities': 'orange',\n",
    "        'Info Tech Consulting': 'lightred',\n",
    "        'Info Tech services': 'cadetblue',\n",
    "        'Natural Sciences Rsrch.': 'beige',\n",
    "        'Open-ended Investors': 'purple',\n",
    "        'Satellite Telecommuncations': 'green',\n",
    "        'Social Sciences Rsrch.': 'pink',\n",
    "        'Software Dev.': 'lightgray',\n",
    "        'Technical testing and analysis': 'green',\n",
    "        'Venture Capital': 'blue',\n",
    "        'Web portals': 'darkblue',\n",
    "        'Wireless Telecommuncations': 'orange',\n",
    "    },\n",
    "    'icon': {\n",
    "        'Biotech Rsrch.': 'leaf',\n",
    "        'Business Software Dev.': 'wrench',\n",
    "        'Computer Game Companies': 'gamepad',\n",
    "        'Computer facilities mgmt.': 'laptop',\n",
    "        'Data Companies': 'table',\n",
    "        'Fund management activities': 'building',\n",
    "        'Info Tech Consulting': 'server',\n",
    "        'Info Tech services': 'signal',\n",
    "        'Natural Sciences Rsrch.': 'pagelines',\n",
    "        'Open-ended Investors': 'suitcase',\n",
    "        'Satellite Telecommuncations': 'bars',\n",
    "        'Social Sciences Rsrch.': 'users',\n",
    "        'Software Dev.': 'code',\n",
    "        'Technical testing and analysis': 'comment',\n",
    "        'Venture Capital': 'university',\n",
    "        'Web portals': 'internet-explorer',\n",
    "        'Wireless Telecommuncations': 'wifi'\n",
    "    }\n",
    "}"
   ]
  },
  {
   "cell_type": "markdown",
   "metadata": {},
   "source": [
    "## Add new column for colors"
   ]
  },
  {
   "cell_type": "code",
   "execution_count": 12,
   "metadata": {
    "ExecuteTime": {
     "end_time": "2020-12-13T01:06:09.013900Z",
     "start_time": "2020-12-13T01:06:08.022413Z"
    }
   },
   "outputs": [
    {
     "data": {
      "text/html": [
       "<div>\n",
       "<style scoped>\n",
       "    .dataframe tbody tr th:only-of-type {\n",
       "        vertical-align: middle;\n",
       "    }\n",
       "\n",
       "    .dataframe tbody tr th {\n",
       "        vertical-align: top;\n",
       "    }\n",
       "\n",
       "    .dataframe thead th {\n",
       "        text-align: right;\n",
       "    }\n",
       "</style>\n",
       "<table border=\"1\" class=\"dataframe\">\n",
       "  <thead>\n",
       "    <tr style=\"text-align: right;\">\n",
       "      <th></th>\n",
       "      <th>year</th>\n",
       "      <th>CompanyName</th>\n",
       "      <th>CompanyStatus</th>\n",
       "      <th>sector_name_1</th>\n",
       "      <th>Industry</th>\n",
       "      <th>RegAddress.PostCode</th>\n",
       "      <th>RegAddress.PostTown</th>\n",
       "      <th>latitude</th>\n",
       "      <th>longitude</th>\n",
       "      <th>geometry</th>\n",
       "      <th>district</th>\n",
       "      <th>color</th>\n",
       "    </tr>\n",
       "  </thead>\n",
       "  <tbody>\n",
       "    <tr>\n",
       "      <th>0</th>\n",
       "      <td>1991</td>\n",
       "      <td>MACXPERTS LIMITED</td>\n",
       "      <td>Active</td>\n",
       "      <td>Info Tech Consulting</td>\n",
       "      <td>informatin Tech</td>\n",
       "      <td>EC1Y 4SE</td>\n",
       "      <td>LONDON</td>\n",
       "      <td>51.521022</td>\n",
       "      <td>-0.090913</td>\n",
       "      <td>POINT (-0.09091 51.52102)</td>\n",
       "      <td>Islington</td>\n",
       "      <td>lightred</td>\n",
       "    </tr>\n",
       "    <tr>\n",
       "      <th>1</th>\n",
       "      <td>1991</td>\n",
       "      <td>PREMIER TRAINING LIMITED</td>\n",
       "      <td>Active</td>\n",
       "      <td>Info Tech Consulting</td>\n",
       "      <td>informatin Tech</td>\n",
       "      <td>EC1V 2NX</td>\n",
       "      <td>LONDON</td>\n",
       "      <td>51.527246</td>\n",
       "      <td>-0.088808</td>\n",
       "      <td>POINT (-0.08881 51.52725)</td>\n",
       "      <td>Islington</td>\n",
       "      <td>lightred</td>\n",
       "    </tr>\n",
       "    <tr>\n",
       "      <th>2</th>\n",
       "      <td>1991</td>\n",
       "      <td>INFIELD SYSTEMS LIMITED</td>\n",
       "      <td>Active</td>\n",
       "      <td>Data Companies</td>\n",
       "      <td>informatin Tech</td>\n",
       "      <td>EC2A 2EW</td>\n",
       "      <td>LONDON</td>\n",
       "      <td>51.521060</td>\n",
       "      <td>-0.080057</td>\n",
       "      <td>POINT (-0.08006 51.52106)</td>\n",
       "      <td>City of London</td>\n",
       "      <td>darkpurple</td>\n",
       "    </tr>\n",
       "  </tbody>\n",
       "</table>\n",
       "</div>"
      ],
      "text/plain": [
       "   year               CompanyName CompanyStatus         sector_name_1  \\\n",
       "0  1991         MACXPERTS LIMITED        Active  Info Tech Consulting   \n",
       "1  1991  PREMIER TRAINING LIMITED        Active  Info Tech Consulting   \n",
       "2  1991   INFIELD SYSTEMS LIMITED        Active        Data Companies   \n",
       "\n",
       "          Industry RegAddress.PostCode RegAddress.PostTown   latitude  \\\n",
       "0  informatin Tech            EC1Y 4SE              LONDON  51.521022   \n",
       "1  informatin Tech            EC1V 2NX              LONDON  51.527246   \n",
       "2  informatin Tech            EC2A 2EW              LONDON  51.521060   \n",
       "\n",
       "   longitude                   geometry        district       color  \n",
       "0  -0.090913  POINT (-0.09091 51.52102)       Islington    lightred  \n",
       "1  -0.088808  POINT (-0.08881 51.52725)       Islington    lightred  \n",
       "2  -0.080057  POINT (-0.08006 51.52106)  City of London  darkpurple  "
      ]
     },
     "execution_count": 12,
     "metadata": {},
     "output_type": "execute_result"
    }
   ],
   "source": [
    "def color(df):\n",
    "    for key in map_dict['color'].keys():\n",
    "        if df['sector_name_1'] == key:\n",
    "            return map_dict['color'][key]\n",
    "        elif df['sector_name_1'] not in map_dict['color'].keys():\n",
    "            return 'black'\n",
    "\n",
    "df_tech_gdf['color'] = df_tech_gdf.apply(color, axis=1)\n",
    "df_tech_gdf.head(3)"
   ]
  },
  {
   "cell_type": "markdown",
   "metadata": {},
   "source": [
    "## Add new column for icons"
   ]
  },
  {
   "cell_type": "code",
   "execution_count": 13,
   "metadata": {
    "ExecuteTime": {
     "end_time": "2020-12-13T01:06:09.986313Z",
     "start_time": "2020-12-13T01:06:09.015762Z"
    }
   },
   "outputs": [
    {
     "data": {
      "text/html": [
       "<div>\n",
       "<style scoped>\n",
       "    .dataframe tbody tr th:only-of-type {\n",
       "        vertical-align: middle;\n",
       "    }\n",
       "\n",
       "    .dataframe tbody tr th {\n",
       "        vertical-align: top;\n",
       "    }\n",
       "\n",
       "    .dataframe thead th {\n",
       "        text-align: right;\n",
       "    }\n",
       "</style>\n",
       "<table border=\"1\" class=\"dataframe\">\n",
       "  <thead>\n",
       "    <tr style=\"text-align: right;\">\n",
       "      <th></th>\n",
       "      <th>year</th>\n",
       "      <th>CompanyName</th>\n",
       "      <th>CompanyStatus</th>\n",
       "      <th>sector_name_1</th>\n",
       "      <th>Industry</th>\n",
       "      <th>RegAddress.PostCode</th>\n",
       "      <th>RegAddress.PostTown</th>\n",
       "      <th>latitude</th>\n",
       "      <th>longitude</th>\n",
       "      <th>geometry</th>\n",
       "      <th>district</th>\n",
       "      <th>color</th>\n",
       "      <th>icons</th>\n",
       "    </tr>\n",
       "  </thead>\n",
       "  <tbody>\n",
       "    <tr>\n",
       "      <th>0</th>\n",
       "      <td>1991</td>\n",
       "      <td>MACXPERTS LIMITED</td>\n",
       "      <td>Active</td>\n",
       "      <td>Info Tech Consulting</td>\n",
       "      <td>informatin Tech</td>\n",
       "      <td>EC1Y 4SE</td>\n",
       "      <td>LONDON</td>\n",
       "      <td>51.521022</td>\n",
       "      <td>-0.090913</td>\n",
       "      <td>POINT (-0.09091 51.52102)</td>\n",
       "      <td>Islington</td>\n",
       "      <td>lightred</td>\n",
       "      <td>server</td>\n",
       "    </tr>\n",
       "    <tr>\n",
       "      <th>1</th>\n",
       "      <td>1991</td>\n",
       "      <td>PREMIER TRAINING LIMITED</td>\n",
       "      <td>Active</td>\n",
       "      <td>Info Tech Consulting</td>\n",
       "      <td>informatin Tech</td>\n",
       "      <td>EC1V 2NX</td>\n",
       "      <td>LONDON</td>\n",
       "      <td>51.527246</td>\n",
       "      <td>-0.088808</td>\n",
       "      <td>POINT (-0.08881 51.52725)</td>\n",
       "      <td>Islington</td>\n",
       "      <td>lightred</td>\n",
       "      <td>server</td>\n",
       "    </tr>\n",
       "    <tr>\n",
       "      <th>2</th>\n",
       "      <td>1991</td>\n",
       "      <td>INFIELD SYSTEMS LIMITED</td>\n",
       "      <td>Active</td>\n",
       "      <td>Data Companies</td>\n",
       "      <td>informatin Tech</td>\n",
       "      <td>EC2A 2EW</td>\n",
       "      <td>LONDON</td>\n",
       "      <td>51.521060</td>\n",
       "      <td>-0.080057</td>\n",
       "      <td>POINT (-0.08006 51.52106)</td>\n",
       "      <td>City of London</td>\n",
       "      <td>darkpurple</td>\n",
       "      <td>table</td>\n",
       "    </tr>\n",
       "  </tbody>\n",
       "</table>\n",
       "</div>"
      ],
      "text/plain": [
       "   year               CompanyName CompanyStatus         sector_name_1  \\\n",
       "0  1991         MACXPERTS LIMITED        Active  Info Tech Consulting   \n",
       "1  1991  PREMIER TRAINING LIMITED        Active  Info Tech Consulting   \n",
       "2  1991   INFIELD SYSTEMS LIMITED        Active        Data Companies   \n",
       "\n",
       "          Industry RegAddress.PostCode RegAddress.PostTown   latitude  \\\n",
       "0  informatin Tech            EC1Y 4SE              LONDON  51.521022   \n",
       "1  informatin Tech            EC1V 2NX              LONDON  51.527246   \n",
       "2  informatin Tech            EC2A 2EW              LONDON  51.521060   \n",
       "\n",
       "   longitude                   geometry        district       color   icons  \n",
       "0  -0.090913  POINT (-0.09091 51.52102)       Islington    lightred  server  \n",
       "1  -0.088808  POINT (-0.08881 51.52725)       Islington    lightred  server  \n",
       "2  -0.080057  POINT (-0.08006 51.52106)  City of London  darkpurple   table  "
      ]
     },
     "execution_count": 13,
     "metadata": {},
     "output_type": "execute_result"
    }
   ],
   "source": [
    "def icon(df):\n",
    "    for key in map_dict['icon'].keys():\n",
    "        if df['sector_name_1'] == key:\n",
    "            return map_dict['icon'][key]\n",
    "        elif df['sector_name_1'] not in map_dict['icon'].keys():\n",
    "            return 'chart-line'\n",
    "\n",
    "df_tech_gdf[\"icons\"] = df_tech_gdf.apply(icon, axis=1)\n",
    "df_tech_gdf.head(3)"
   ]
  },
  {
   "cell_type": "markdown",
   "metadata": {},
   "source": [
    "## Visualisation through Folium"
   ]
  },
  {
   "cell_type": "code",
   "execution_count": null,
   "metadata": {
    "ExecuteTime": {
     "start_time": "2020-12-13T01:05:54.379Z"
    }
   },
   "outputs": [],
   "source": [
    "# set up the map\n",
    "m = folium.Map(location=[51.51757, -0.08881],\n",
    "               zoom_start=20,\n",
    "               min_zoom=10,\n",
    "               prefer_canvas=True,\n",
    "               control_scale=True)\n",
    "\n",
    "# set up the values\n",
    "long = df_tech_gdf.longitude\n",
    "lati = df_tech_gdf.latitude\n",
    "coname = df_tech_gdf['CompanyName']\n",
    "color = df_tech_gdf['color']\n",
    "se = df_tech_gdf.sector_name_1\n",
    "icon = df_tech_gdf['icons']\n",
    "\n",
    "# adding different layers for the checkbox\n",
    "\n",
    "# get sector_list\n",
    "sector_list = list(map_dict['icon'].keys())\n",
    "\n",
    "# get sector_map\n",
    "sector_map = {}\n",
    "for i, sector in enumerate(sector_list):\n",
    "    sector_map[sector] = i + 1\n",
    "\n",
    "# generate features\n",
    "for sector in sector_map.keys():\n",
    "    var_name = '_'.join(['feature', str(sector_map[sector])])\n",
    "    vars()[var_name] = folium.FeatureGroup(name=sector)\n",
    "\n",
    "# add elements to each feature\n",
    "for lat, lon, name, col, se, name, ico in zip(lati, long, coname, color, se,\n",
    "                                              coname, icon):\n",
    "    for sector in sector_map.keys():\n",
    "        if se == sector:\n",
    "            feature = '_'.join(['feature', str(sector_map[sector])])\n",
    "            folium.Marker(location=[lat, lon],\n",
    "                          tooltip=name,\n",
    "                          icon=folium.Icon(color=col,\n",
    "                                           icon=ico,\n",
    "                                           angle=0,\n",
    "                                           prefix='fa')).add_to(vars()[feature])\n",
    "\n",
    "# add features to the map\n",
    "for sector in sector_map.keys():\n",
    "    feature = '_'.join(['feature', str(sector_map[sector])])\n",
    "    vars()[feature].add_to(m)\n",
    "\n",
    "folium.LayerControl(collapsed=False).add_to(m)\n",
    "\n",
    "#saving map as html\n",
    "file_path = os.path.join('output', 'geospatial.html')\n",
    "m.save(file_path)\n",
    "print(f\"The html file is saved to {file_path}\")"
   ]
  }
 ],
 "metadata": {
  "kernelspec": {
   "display_name": "Python [conda env:smm635]",
   "language": "python",
   "name": "conda-env-smm635-py"
  },
  "language_info": {
   "codemirror_mode": {
    "name": "ipython",
    "version": 3
   },
   "file_extension": ".py",
   "mimetype": "text/x-python",
   "name": "python",
   "nbconvert_exporter": "python",
   "pygments_lexer": "ipython3",
   "version": "3.8.5"
  },
  "latex_envs": {
   "LaTeX_envs_menu_present": true,
   "autoclose": false,
   "autocomplete": true,
   "bibliofile": "biblio.bib",
   "cite_by": "apalike",
   "current_citInitial": 1,
   "eqLabelWithNumbers": true,
   "eqNumInitial": 1,
   "hotkeys": {
    "equation": "Ctrl-E",
    "itemize": "Ctrl-I"
   },
   "labels_anchors": false,
   "latex_user_defs": false,
   "report_style_numbering": false,
   "user_envs_cfg": false
  },
  "toc": {
   "base_numbering": 1,
   "nav_menu": {},
   "number_sections": true,
   "sideBar": true,
   "skip_h1_title": false,
   "title_cell": "Table of Contents",
   "title_sidebar": "Contents",
   "toc_cell": false,
   "toc_position": {},
   "toc_section_display": true,
   "toc_window_display": true
  },
  "varInspector": {
   "cols": {
    "lenName": 16,
    "lenType": 16,
    "lenVar": 40
   },
   "kernels_config": {
    "python": {
     "delete_cmd_postfix": "",
     "delete_cmd_prefix": "del ",
     "library": "var_list.py",
     "varRefreshCmd": "print(var_dic_list())"
    },
    "r": {
     "delete_cmd_postfix": ") ",
     "delete_cmd_prefix": "rm(",
     "library": "var_list.r",
     "varRefreshCmd": "cat(var_dic_list()) "
    }
   },
   "types_to_exclude": [
    "module",
    "function",
    "builtin_function_or_method",
    "instance",
    "_Feature"
   ],
   "window_display": false
  }
 },
 "nbformat": 4,
 "nbformat_minor": 4
}
