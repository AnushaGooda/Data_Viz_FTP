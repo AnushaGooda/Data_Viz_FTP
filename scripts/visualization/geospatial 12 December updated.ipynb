{
 "cells": [
  {
   "cell_type": "markdown",
   "metadata": {},
   "source": [
    "# Import relevant libraries"
   ]
  },
  {
   "cell_type": "code",
   "execution_count": 1,
   "metadata": {
    "ExecuteTime": {
     "end_time": "2020-12-13T00:55:50.436668Z",
     "start_time": "2020-12-13T00:55:49.070869Z"
    }
   },
   "outputs": [],
   "source": [
    "import os\n",
    "import json\n",
    "import numpy as np\n",
    "import matplotlib.pyplot as plt \n",
    "from matplotlib import rc\n",
    "import pandas as pd\n",
    "import geopandas as gpd\n",
    "from geopandas import GeoDataFrame\n",
    "from pyproj import CRS\n",
    "import folium\n",
    "from folium import plugins\n",
    "from folium.plugins import MarkerCluster, TimestampedGeoJson\n",
    "import shapely\n",
    "from shapely.geometry import Point, Polygon"
   ]
  },
  {
   "cell_type": "markdown",
   "metadata": {},
   "source": [
    "# Load UK shape file"
   ]
  },
  {
   "cell_type": "code",
   "execution_count": 2,
   "metadata": {
    "ExecuteTime": {
     "end_time": "2020-12-13T00:55:51.484448Z",
     "start_time": "2020-12-13T00:55:50.438345Z"
    }
   },
   "outputs": [],
   "source": [
    "uk = gpd.read_file(\"London_Borough_Excluding_MHW.json\")\n",
    "crs_27700 = CRS(\"EPSG:27700\")\n",
    "\n",
    "uk.crs = crs_27700\n",
    "uk = uk[['NAME', 'geometry']]\n",
    "uk = uk.to_crs(\"EPSG:4326\")\n",
    "\n",
    "uk = uk[['NAME', 'geometry']]\n",
    "uk.rename(columns={'NAME': 'district'}, inplace=True)"
   ]
  },
  {
   "cell_type": "code",
   "execution_count": 3,
   "metadata": {
    "ExecuteTime": {
     "end_time": "2020-12-13T00:55:51.687501Z",
     "start_time": "2020-12-13T00:55:51.486574Z"
    }
   },
   "outputs": [],
   "source": [
    "# set file path\n",
    "base_path = '../..'\n",
    "file_path = os.path.join(base_path, \n",
    "                         'datasets',\n",
    "                         'tech_roundabout_coordinates.csv')\n",
    "\n",
    "# load data\n",
    "tech_roundabout = pd.read_csv(file_path)"
   ]
  },
  {
   "cell_type": "code",
   "execution_count": 4,
   "metadata": {
    "ExecuteTime": {
     "end_time": "2020-12-13T00:55:51.885579Z",
     "start_time": "2020-12-13T00:55:51.689278Z"
    }
   },
   "outputs": [],
   "source": [
    "# set file path\n",
    "file_path = os.path.join(base_path, \n",
    "                         'datasets',\n",
    "                         'industry_added_cleaned_data.csv')\n",
    "\n",
    "# load data\n",
    "iac = pd.read_csv(file_path)"
   ]
  },
  {
   "cell_type": "code",
   "execution_count": 5,
   "metadata": {
    "ExecuteTime": {
     "end_time": "2020-12-13T00:55:51.923608Z",
     "start_time": "2020-12-13T00:55:51.887223Z"
    }
   },
   "outputs": [],
   "source": [
    "# set file path\n",
    "file_path = os.path.join(base_path, \n",
    "                         'datasets',\n",
    "                         'tech_industry_added_cleaned_data.csv')\n",
    "\n",
    "# load data\n",
    "tech_industries = pd.read_csv(file_path)"
   ]
  },
  {
   "cell_type": "code",
   "execution_count": 6,
   "metadata": {
    "ExecuteTime": {
     "end_time": "2020-12-13T00:55:53.428781Z",
     "start_time": "2020-12-13T00:55:51.925153Z"
    }
   },
   "outputs": [],
   "source": [
    "# set-up coordinates\n",
    "tech_roundabout_coordinates = tech_roundabout[['CompanyName', 'latitude', 'longitude']]\n",
    "\n",
    "tech_roundabout_coordinates = gpd.GeoDataFrame(\n",
    "    tech_roundabout_coordinates.drop(['latitude','longitude'], axis = 1),\n",
    "    geometry=[Point(xy) for xy in zip(tech_roundabout_coordinates.longitude,\n",
    "                                      tech_roundabout_coordinates.latitude)])"
   ]
  },
  {
   "cell_type": "code",
   "execution_count": 7,
   "metadata": {
    "ExecuteTime": {
     "end_time": "2020-12-13T00:55:53.471838Z",
     "start_time": "2020-12-13T00:55:53.430605Z"
    }
   },
   "outputs": [
    {
     "data": {
      "text/html": [
       "<div>\n",
       "<style scoped>\n",
       "    .dataframe tbody tr th:only-of-type {\n",
       "        vertical-align: middle;\n",
       "    }\n",
       "\n",
       "    .dataframe tbody tr th {\n",
       "        vertical-align: top;\n",
       "    }\n",
       "\n",
       "    .dataframe thead th {\n",
       "        text-align: right;\n",
       "    }\n",
       "</style>\n",
       "<table border=\"1\" class=\"dataframe\">\n",
       "  <thead>\n",
       "    <tr style=\"text-align: right;\">\n",
       "      <th></th>\n",
       "      <th>CompanyName</th>\n",
       "      <th>geometry</th>\n",
       "    </tr>\n",
       "  </thead>\n",
       "  <tbody>\n",
       "    <tr>\n",
       "      <th>0</th>\n",
       "      <td>!BIG IMPACT GRAPHICS LIMITED</td>\n",
       "      <td>POINT (-0.07869 51.52702)</td>\n",
       "    </tr>\n",
       "    <tr>\n",
       "      <th>1</th>\n",
       "      <td>\"K\" LINE (EUROPE) LIMITED</td>\n",
       "      <td>POINT (-0.09736 51.51757)</td>\n",
       "    </tr>\n",
       "    <tr>\n",
       "      <th>2</th>\n",
       "      <td>\"K\" LINE BULK SHIPPING (UK) LIMITED</td>\n",
       "      <td>POINT (-0.09736 51.51757)</td>\n",
       "    </tr>\n",
       "    <tr>\n",
       "      <th>3</th>\n",
       "      <td>\"K\" LINE HOLDING (EUROPE) LIMITED</td>\n",
       "      <td>POINT (-0.09736 51.51757)</td>\n",
       "    </tr>\n",
       "    <tr>\n",
       "      <th>4</th>\n",
       "      <td>\"K\" LINE LNG SHIPPING (UK) LIMITED</td>\n",
       "      <td>POINT (-0.09736 51.51757)</td>\n",
       "    </tr>\n",
       "    <tr>\n",
       "      <th>...</th>\n",
       "      <td>...</td>\n",
       "      <td>...</td>\n",
       "    </tr>\n",
       "    <tr>\n",
       "      <th>97964</th>\n",
       "      <td>ÉCLAT CENTURY SERVICES LIMITED</td>\n",
       "      <td>POINT (-0.08881 51.52725)</td>\n",
       "    </tr>\n",
       "    <tr>\n",
       "      <th>97965</th>\n",
       "      <td>ÉLEVAGE JOLIVET LTD</td>\n",
       "      <td>POINT (-0.08881 51.52725)</td>\n",
       "    </tr>\n",
       "    <tr>\n",
       "      <th>97966</th>\n",
       "      <td>ÜVIEW LIMITED</td>\n",
       "      <td>POINT (-0.08371 51.52559)</td>\n",
       "    </tr>\n",
       "    <tr>\n",
       "      <th>97967</th>\n",
       "      <td>‘ADORE BOURNEMOUTH LTD</td>\n",
       "      <td>POINT (-0.08013 51.52639)</td>\n",
       "    </tr>\n",
       "    <tr>\n",
       "      <th>97968</th>\n",
       "      <td>“SAIL IN GREECE ADVENTURES” LTD</td>\n",
       "      <td>POINT (-0.10453 51.51737)</td>\n",
       "    </tr>\n",
       "  </tbody>\n",
       "</table>\n",
       "<p>97969 rows × 2 columns</p>\n",
       "</div>"
      ],
      "text/plain": [
       "                               CompanyName                   geometry\n",
       "0             !BIG IMPACT GRAPHICS LIMITED  POINT (-0.07869 51.52702)\n",
       "1                \"K\" LINE (EUROPE) LIMITED  POINT (-0.09736 51.51757)\n",
       "2      \"K\" LINE BULK SHIPPING (UK) LIMITED  POINT (-0.09736 51.51757)\n",
       "3        \"K\" LINE HOLDING (EUROPE) LIMITED  POINT (-0.09736 51.51757)\n",
       "4       \"K\" LINE LNG SHIPPING (UK) LIMITED  POINT (-0.09736 51.51757)\n",
       "...                                    ...                        ...\n",
       "97964       ÉCLAT CENTURY SERVICES LIMITED  POINT (-0.08881 51.52725)\n",
       "97965                  ÉLEVAGE JOLIVET LTD  POINT (-0.08881 51.52725)\n",
       "97966                        ÜVIEW LIMITED  POINT (-0.08371 51.52559)\n",
       "97967               ‘ADORE BOURNEMOUTH LTD  POINT (-0.08013 51.52639)\n",
       "97968      “SAIL IN GREECE ADVENTURES” LTD  POINT (-0.10453 51.51737)\n",
       "\n",
       "[97969 rows x 2 columns]"
      ]
     },
     "execution_count": 7,
     "metadata": {},
     "output_type": "execute_result"
    }
   ],
   "source": [
    "# project to epsg:4326 --  = crs_27700\n",
    "tech_roundabout_coordinates.set_crs(crs='EPSG:4326',\n",
    "                                    inplace=True,\n",
    "                                    allow_override=True)"
   ]
  },
  {
   "cell_type": "markdown",
   "metadata": {},
   "source": [
    "# Spatial join"
   ]
  },
  {
   "cell_type": "code",
   "execution_count": null,
   "metadata": {
    "ExecuteTime": {
     "start_time": "2020-12-13T00:55:49.148Z"
    }
   },
   "outputs": [],
   "source": [
    "# get district\n",
    "tech_roundabout_full = gpd.sjoin(tech_roundabout_coordinates,\n",
    "                                 uk,\n",
    "                                 how='left',\n",
    "                                 op='within').drop(columns='index_right')\n",
    "\n",
    "# remove data points that are not in the uk --- bug when request for coordinate\n",
    "tech_roundabout_full = tech_roundabout_full[~tech_roundabout_full.district.isna()]\n",
    "\n",
    "# remove irrelevant data point --- postcode provided cannot be found on Google Map\n",
    "tech_roundabout_full = tech_roundabout_full[~tech_roundabout_full['district'].\n",
    "                                            isin(['Brentwood', 'Sheffield'])]"
   ]
  },
  {
   "cell_type": "markdown",
   "metadata": {},
   "source": [
    "# Clean company data"
   ]
  },
  {
   "cell_type": "code",
   "execution_count": null,
   "metadata": {
    "ExecuteTime": {
     "start_time": "2020-12-13T00:55:49.175Z"
    }
   },
   "outputs": [],
   "source": [
    "tech_roundabout_district = uk[uk['district'].isin(tech_roundabout_full['district'].unique())]"
   ]
  },
  {
   "cell_type": "code",
   "execution_count": null,
   "metadata": {
    "ExecuteTime": {
     "start_time": "2020-12-13T00:55:49.179Z"
    }
   },
   "outputs": [],
   "source": [
    "df_tech = pd.merge(tech_industries,\n",
    "                   tech_roundabout,\n",
    "                   on='CompanyName',\n",
    "                   how='inner')\n",
    "df_tech = pd.merge(df_tech,\n",
    "                   tech_roundabout_full,\n",
    "                   on='CompanyName',\n",
    "                   how='inner')\n",
    "df_tech.head(3)\n",
    "df_tech = df_tech.drop(columns=['IncorporationDate', 'month', 'CompanyNumber', 'sector_code_1', 'count'])\n",
    "df_tech = df_tech.drop_duplicates()\n",
    "\n",
    "df_tech_gdf = GeoDataFrame(df_tech)\n",
    "df_tech_gdf['sector_name_1'] = df_tech_gdf['sector_name_1'].str.strip()\n",
    "df_tech_gdf.head()\n",
    "# 'year','IncorporationDate',  'CompanyStatus'"
   ]
  },
  {
   "cell_type": "markdown",
   "metadata": {},
   "source": [
    "## Create mapping dictionary"
   ]
  },
  {
   "cell_type": "code",
   "execution_count": null,
   "metadata": {
    "ExecuteTime": {
     "start_time": "2020-12-13T00:55:49.212Z"
    }
   },
   "outputs": [],
   "source": [
    "map_dict = {\n",
    "    'color': {\n",
    "        'Biotech Rsrch.': 'darkgreen',\n",
    "        'Business Software Dev.': 'lightgreen',\n",
    "        'Computer Game Companies': 'lightblue',\n",
    "        'Computer facilities mgmt.': 'gray',\n",
    "        'Data Companies': 'darkpurple',\n",
    "        'Fund management activities': 'orange',\n",
    "        'Info Tech Consulting': 'lightred',\n",
    "        'Info Tech services': 'cadetblue',\n",
    "        'Natural Sciences Rsrch.': 'beige',\n",
    "        'Open-ended Investors': 'purple',\n",
    "        'Satellite Telecommuncations': 'green',\n",
    "        'Social Sciences Rsrch.': 'pink',\n",
    "        'Software Dev.': 'lightgray',\n",
    "        'Technical testing and analysis': 'green',\n",
    "        'Venture Capital': 'blue',\n",
    "        'Web portals': 'darkblue',\n",
    "        'Wireless Telecommuncations': 'orange',\n",
    "    },\n",
    "    'icon': {\n",
    "        'Biotech Rsrch.': 'leaf',\n",
    "        'Business Software Dev.': 'wrench',\n",
    "        'Computer Game Companies': 'gamepad',\n",
    "        'Computer facilities mgmt.': 'laptop',\n",
    "        'Data Companies': 'table',\n",
    "        'Fund management activities': 'building',\n",
    "        'Info Tech Consulting': 'server',\n",
    "        'Info Tech services': 'signal',\n",
    "        'Natural Sciences Rsrch.': 'pagelines',\n",
    "        'Open-ended Investors': 'suitcase',\n",
    "        'Satellite Telecommuncations': 'bars',\n",
    "        'Social Sciences Rsrch.': 'users',\n",
    "        'Software Dev.': 'code',\n",
    "        'Technical testing and analysis': 'comment',\n",
    "        'Venture Capital': 'university',\n",
    "        'Web portals': 'internet-explorer',\n",
    "        'Wireless Telecommuncations': 'wifi'\n",
    "    }\n",
    "}"
   ]
  },
  {
   "cell_type": "markdown",
   "metadata": {},
   "source": [
    "## Add new column for colors"
   ]
  },
  {
   "cell_type": "code",
   "execution_count": null,
   "metadata": {
    "ExecuteTime": {
     "start_time": "2020-12-13T00:55:49.270Z"
    }
   },
   "outputs": [],
   "source": [
    "def color(df):\n",
    "    colors = []\n",
    "    for i in range(len(df)):\n",
    "        if df['sector_name_1'][i] not in map_dict['color'].keys():\n",
    "            color = 'black'\n",
    "        else:\n",
    "            for key in map_dict['color'].keys():\n",
    "                if df['sector_name_1'][i] == key:\n",
    "                    color = map_dict['color'][key]\n",
    "        colors.append(color)\n",
    "    return colors\n",
    "\n",
    "df_tech_gdf['color'] = color(df_tech_gdf)\n",
    "df_tech_gdf.head(3)"
   ]
  },
  {
   "cell_type": "markdown",
   "metadata": {},
   "source": [
    "## Add new column for icons"
   ]
  },
  {
   "cell_type": "code",
   "execution_count": null,
   "metadata": {
    "ExecuteTime": {
     "start_time": "2020-12-13T00:55:49.299Z"
    }
   },
   "outputs": [],
   "source": [
    "def icon(df):\n",
    "    icons = []\n",
    "    for i in range(len(df)):\n",
    "        if df['sector_name_1'][i] not in map_dict['icon'].keys():\n",
    "            icon = 'chart-line'\n",
    "        else:\n",
    "            for key in map_dict['icon'].keys():\n",
    "                if df['sector_name_1'][i] == key:\n",
    "                    icon = map_dict['icon'][key]\n",
    "        icons.append(icon)\n",
    "    return icons\n",
    "\n",
    "df_tech_gdf['icons'] = icon(df_tech_gdf)\n",
    "df_tech_gdf.head(3)"
   ]
  },
  {
   "cell_type": "markdown",
   "metadata": {},
   "source": [
    "## Visualisation through Folium"
   ]
  },
  {
   "cell_type": "code",
   "execution_count": null,
   "metadata": {
    "ExecuteTime": {
     "start_time": "2020-12-13T00:55:49.332Z"
    }
   },
   "outputs": [],
   "source": [
    "# set up the map\n",
    "m = folium.Map(location=[51.51757, -0.08881],\n",
    "               zoom_start=20,\n",
    "               min_zoom=10,\n",
    "               prefer_canvas=True,\n",
    "               control_scale=True)\n",
    "\n",
    "# set up the values\n",
    "long = df_tech_gdf.longitude\n",
    "lati = df_tech_gdf.latitude\n",
    "coname = df_tech_gdf['CompanyName']\n",
    "color = df_tech_gdf['color']\n",
    "se = df_tech_gdf.sector_name_1\n",
    "icon = df_tech_gdf['icons']\n",
    "\n",
    "# adding different layers for the checkbox\n",
    "\n",
    "# get sector_list\n",
    "sector_list = list(map_dict['icon'].keys())\n",
    "\n",
    "# get sector_map\n",
    "sector_map = {}\n",
    "for i, sector in enumerate(sector_list):\n",
    "    sector_map[sector] = i + 1\n",
    "\n",
    "# generate features\n",
    "for sector in sector_map.keys():\n",
    "    var_name = '_'.join(['feature', str(sector_map[sector])])\n",
    "    vars()[var_name] = folium.FeatureGroup(name=sector)\n",
    "\n",
    "# add elements to each feature\n",
    "for lat, lon, name, col, se, name, ico in zip(lati, long, coname, color, se,\n",
    "                                              coname, icon):\n",
    "    for sector in sector_map.keys():\n",
    "        if se == sector:\n",
    "            feature = '_'.join(['feature', str(sector_map[sector])])\n",
    "            folium.Marker(location=[lat, lon],\n",
    "                          tooltip=name,\n",
    "                          icon=folium.Icon(color=col,\n",
    "                                           icon=ico,\n",
    "                                           angle=0,\n",
    "                                           prefix='fa')).add_to(vars()[feature])\n",
    "\n",
    "# add features to the map\n",
    "for sector in sector_map.keys():\n",
    "    feature = '_'.join(['feature', str(sector_map[sector])])\n",
    "    vars()[feature].add_to(m)\n",
    "\n",
    "folium.LayerControl(collapsed=False).add_to(m)\n",
    "\n",
    "#saving map as html\n",
    "file_path = os.path.join('output', 'geospatial.html')\n",
    "m.save(file_path)\n",
    "print(f\"The html file is saved to {file_path}\")"
   ]
  }
 ],
 "metadata": {
  "kernelspec": {
   "display_name": "Python [conda env:smm635]",
   "language": "python",
   "name": "conda-env-smm635-py"
  },
  "language_info": {
   "codemirror_mode": {
    "name": "ipython",
    "version": 3
   },
   "file_extension": ".py",
   "mimetype": "text/x-python",
   "name": "python",
   "nbconvert_exporter": "python",
   "pygments_lexer": "ipython3",
   "version": "3.8.5"
  },
  "latex_envs": {
   "LaTeX_envs_menu_present": true,
   "autoclose": false,
   "autocomplete": true,
   "bibliofile": "biblio.bib",
   "cite_by": "apalike",
   "current_citInitial": 1,
   "eqLabelWithNumbers": true,
   "eqNumInitial": 1,
   "hotkeys": {
    "equation": "Ctrl-E",
    "itemize": "Ctrl-I"
   },
   "labels_anchors": false,
   "latex_user_defs": false,
   "report_style_numbering": false,
   "user_envs_cfg": false
  },
  "toc": {
   "base_numbering": 1,
   "nav_menu": {},
   "number_sections": true,
   "sideBar": true,
   "skip_h1_title": false,
   "title_cell": "Table of Contents",
   "title_sidebar": "Contents",
   "toc_cell": false,
   "toc_position": {},
   "toc_section_display": true,
   "toc_window_display": true
  },
  "varInspector": {
   "cols": {
    "lenName": 16,
    "lenType": 16,
    "lenVar": 40
   },
   "kernels_config": {
    "python": {
     "delete_cmd_postfix": "",
     "delete_cmd_prefix": "del ",
     "library": "var_list.py",
     "varRefreshCmd": "print(var_dic_list())"
    },
    "r": {
     "delete_cmd_postfix": ") ",
     "delete_cmd_prefix": "rm(",
     "library": "var_list.r",
     "varRefreshCmd": "cat(var_dic_list()) "
    }
   },
   "types_to_exclude": [
    "module",
    "function",
    "builtin_function_or_method",
    "instance",
    "_Feature"
   ],
   "window_display": false
  }
 },
 "nbformat": 4,
 "nbformat_minor": 4
}
