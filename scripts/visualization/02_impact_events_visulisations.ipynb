{
 "cells": [
  {
   "cell_type": "markdown",
   "metadata": {},
   "source": [
    "# Import relevant libraries"
   ]
  },
  {
   "cell_type": "code",
   "execution_count": 1,
   "metadata": {
    "ExecuteTime": {
     "end_time": "2020-12-16T23:20:12.841932Z",
     "start_time": "2020-12-16T23:20:11.489406Z"
    }
   },
   "outputs": [],
   "source": [
    "import os\n",
    "import numpy as np\n",
    "import pandas as pd\n",
    "import matplotlib\n",
    "import matplotlib.pyplot as plt\n",
    "from matplotlib import rc\n",
    "import bokeh\n",
    "from bokeh.io import output_file\n",
    "from bokeh.palettes import Spectral6\n",
    "from bokeh.models import ColumnDataSource, HoverTool\n",
    "from bokeh.plotting import figure, show\n",
    "from bokeh.transform import linear_cmap\n",
    "from bokeh.models.widgets import Tabs, Panel"
   ]
  },
  {
   "cell_type": "markdown",
   "metadata": {},
   "source": [
    "# Setup"
   ]
  },
  {
   "cell_type": "code",
   "execution_count": 2,
   "metadata": {
    "ExecuteTime": {
     "end_time": "2020-12-16T23:20:12.847315Z",
     "start_time": "2020-12-16T23:20:12.843873Z"
    }
   },
   "outputs": [],
   "source": [
    "# disable false positive warnings\n",
    "pd.options.mode.chained_assignment = None"
   ]
  },
  {
   "cell_type": "code",
   "execution_count": 3,
   "metadata": {
    "ExecuteTime": {
     "end_time": "2020-12-16T23:20:13.254784Z",
     "start_time": "2020-12-16T23:20:12.850701Z"
    },
    "run_control": {
     "marked": false
    }
   },
   "outputs": [],
   "source": [
    "# set file path\n",
    "base_path = '../..'\n",
    "\n",
    "uk = pd.read_csv(os.path.join(base_path, 'datasets', 'uk_plotting_data.csv'))\n",
    "\n",
    "tech_coord = pd.read_csv(\n",
    "    os.path.join(base_path, 'datasets', 'tech_roundabout_merge.csv'))\n",
    "\n",
    "clean_data = pd.read_csv(\n",
    "    os.path.join(base_path, 'datasets', 'industry_added_cleaned_data.csv'))"
   ]
  },
  {
   "cell_type": "code",
   "execution_count": 4,
   "metadata": {
    "ExecuteTime": {
     "end_time": "2020-12-16T23:20:13.346061Z",
     "start_time": "2020-12-16T23:20:13.259650Z"
    }
   },
   "outputs": [],
   "source": [
    "# merge tech coord and clean_data\n",
    "all_data = clean_data.merge(tech_coord, how='left', on='CompanyName')"
   ]
  },
  {
   "cell_type": "markdown",
   "metadata": {},
   "source": [
    "# Data Organization: Impact Events, Time Period Function"
   ]
  },
  {
   "cell_type": "markdown",
   "metadata": {},
   "source": [
    "## Specific Date Cummulative Count Function"
   ]
  },
  {
   "cell_type": "code",
   "execution_count": 5,
   "metadata": {
    "ExecuteTime": {
     "end_time": "2020-12-16T23:20:13.381128Z",
     "start_time": "2020-12-16T23:20:13.348128Z"
    }
   },
   "outputs": [],
   "source": [
    "# This function finds specific industry count values by year\n",
    "\n",
    "\n",
    "def year_cumm_counts(year):\n",
    "\n",
    "    # slice the data until pre-specified year\n",
    "    active_df = all_data[all_data['year'] <= year]\n",
    "\n",
    "    # sort values by 'year', 'month'\n",
    "    active_df.sort_values(by='year', inplace=True)\n",
    "\n",
    "    # reset index\n",
    "    active_df.reset_index(drop=True, inplace=True)\n",
    "\n",
    "    # get the index of the last month we want\n",
    "    idx = active_df[active_df['year'] == year].index[-1] + 1\n",
    "\n",
    "    # slice dataframe\n",
    "    active_df = active_df.iloc[:idx]\n",
    "\n",
    "    # group data\n",
    "    active_df = pd.DataFrame(\n",
    "        active_df.groupby('sector_name_1')['count'].agg('sum'))\n",
    "\n",
    "    # reset index\n",
    "    active_df.reset_index(inplace=True)\n",
    "\n",
    "    return active_df"
   ]
  },
  {
   "cell_type": "markdown",
   "metadata": {},
   "source": [
    "## Use Function to iterate ever year, month get values by sector"
   ]
  },
  {
   "cell_type": "code",
   "execution_count": 6,
   "metadata": {
    "ExecuteTime": {
     "end_time": "2020-12-16T23:20:13.448073Z",
     "start_time": "2020-12-16T23:20:13.385520Z"
    }
   },
   "outputs": [],
   "source": [
    "# iteration variables\n",
    "a = np.arange(1991, 2021, 1)"
   ]
  },
  {
   "cell_type": "code",
   "execution_count": 7,
   "metadata": {
    "ExecuteTime": {
     "end_time": "2020-12-16T23:20:13.766885Z",
     "start_time": "2020-12-16T23:20:13.449559Z"
    },
    "scrolled": true
   },
   "outputs": [],
   "source": [
    "# trying to create a master Data frame with all year month values show groupedby industry counts\n",
    "tw = []\n",
    "\n",
    "for i in a:\n",
    "    year_dict = year_cumm_counts(i)\n",
    "    year_dict['year'] = i\n",
    "    tw.append(year_dict.to_dict('records'))"
   ]
  },
  {
   "cell_type": "code",
   "execution_count": 8,
   "metadata": {
    "ExecuteTime": {
     "end_time": "2020-12-16T23:20:13.779065Z",
     "start_time": "2020-12-16T23:20:13.770358Z"
    }
   },
   "outputs": [],
   "source": [
    "# create seperate lists for section of list\n",
    "\n",
    "ind = []\n",
    "ct = []\n",
    "year = []\n",
    "\n",
    "for i in tw:\n",
    "    for j in i:\n",
    "        ind.append(j['sector_name_1'])\n",
    "        ct.append(j['count'])\n",
    "        year.append(j['year'])"
   ]
  },
  {
   "cell_type": "code",
   "execution_count": 9,
   "metadata": {
    "ExecuteTime": {
     "end_time": "2020-12-16T23:20:13.845908Z",
     "start_time": "2020-12-16T23:20:13.781480Z"
    }
   },
   "outputs": [],
   "source": [
    "# create new dataframe with all lists in each section (used to create pivot table below)\n",
    "\n",
    "cool_df = pd.DataFrame()\n",
    "\n",
    "cool_df['sector_name_1'] = ind\n",
    "cool_df['count'] = ct\n",
    "cool_df['year'] = year"
   ]
  },
  {
   "cell_type": "code",
   "execution_count": 10,
   "metadata": {
    "ExecuteTime": {
     "end_time": "2020-12-16T23:20:13.887871Z",
     "start_time": "2020-12-16T23:20:13.847835Z"
    }
   },
   "outputs": [],
   "source": [
    "# groupby\n",
    "cool_df = pd.DataFrame(\n",
    "    cool_df.groupby(['year', 'sector_name_1'])['count'].agg('sum'))\n",
    "cool_df.reset_index(inplace=True)"
   ]
  },
  {
   "cell_type": "markdown",
   "metadata": {},
   "source": [
    "## Export Pivot Data for Horizontal Bar Chart"
   ]
  },
  {
   "cell_type": "code",
   "execution_count": 11,
   "metadata": {
    "ExecuteTime": {
     "end_time": "2020-12-16T23:20:13.944490Z",
     "start_time": "2020-12-16T23:20:13.889504Z"
    }
   },
   "outputs": [],
   "source": [
    "# pivot table for our horizonatal bar chart\n",
    "pivot = pd.pivot_table(cool_df,\n",
    "                       values='count',\n",
    "                       index='year',\n",
    "                       columns='sector_name_1',\n",
    "                       fill_value=0)\n",
    "pivot.reset_index(inplace=True)"
   ]
  },
  {
   "cell_type": "code",
   "execution_count": 12,
   "metadata": {
    "ExecuteTime": {
     "end_time": "2020-12-16T23:20:13.978411Z",
     "start_time": "2020-12-16T23:20:13.946114Z"
    }
   },
   "outputs": [],
   "source": [
    "# save pivot data as csv\n",
    "save_path = os.path.join(base_path, 'datasets',\n",
    "                         'pivot_table_year_cumcount.csv')\n",
    "pivot.to_csv(save_path, index=False)"
   ]
  },
  {
   "cell_type": "markdown",
   "metadata": {},
   "source": [
    "# Impactful Event Visualisations"
   ]
  },
  {
   "cell_type": "markdown",
   "metadata": {},
   "source": [
    "## Dynamic Lolipop Chart By Event and Sector"
   ]
  },
  {
   "cell_type": "code",
   "execution_count": 13,
   "metadata": {
    "ExecuteTime": {
     "end_time": "2020-12-16T23:20:14.175321Z",
     "start_time": "2020-12-16T23:20:13.979812Z"
    },
    "scrolled": true
   },
   "outputs": [],
   "source": [
    "\"\"\"\n",
    "Insert Date into year_cumm_counts function to get different events\n",
    "\"\"\"\n",
    "\n",
    "# dotocom bubble\n",
    "dtb_before = year_cumm_counts(1995)\n",
    "dtb_after = year_cumm_counts(2000)\n",
    "\n",
    "# The Great Recession\n",
    "tgr_before = year_cumm_counts(2007)\n",
    "tgr_after = year_cumm_counts(2011)\n",
    "\n",
    "# Tech initiatives \"Tech City\" by PM\n",
    "ti_before = year_cumm_counts(2010)\n",
    "ti_after = year_cumm_counts(2014)\n",
    "\n",
    "# Future Fifity\n",
    "ff_before = year_cumm_counts(2013)\n",
    "ff_after = year_cumm_counts(2015)\n",
    "\n",
    "# brexit\n",
    "brex_before = year_cumm_counts(2016)\n",
    "brex_after = year_cumm_counts(2018)\n",
    "\n",
    "# Entrepreneur Visa discontinued\n",
    "ev_before = year_cumm_counts(2019)\n",
    "ev_after = year_cumm_counts(2020)\n",
    "\n",
    "# Companies act\n",
    "ca_before = year_cumm_counts(2006)\n",
    "ca_after = year_cumm_counts(2008)"
   ]
  },
  {
   "cell_type": "code",
   "execution_count": 14,
   "metadata": {
    "ExecuteTime": {
     "end_time": "2020-12-16T23:20:14.312397Z",
     "start_time": "2020-12-16T23:20:14.176993Z"
    }
   },
   "outputs": [],
   "source": [
    "\"\"\"\n",
    "Find company growth during an event (between two time periods) normal\n",
    "\"\"\"\n",
    "\n",
    "\n",
    "def events_data(after, before):\n",
    "\n",
    "    # merge after and before\n",
    "    total = after.merge(before, how='left', on='sector_name_1')\n",
    "\n",
    "    # replace NA with after value because NA results from 0 before\n",
    "    total['count_y'] = total['count_y'].fillna(0)\n",
    "\n",
    "    # find difference\n",
    "    diff = total['count_x'] - total['count_y']\n",
    "\n",
    "    # get data frame\n",
    "    diff = pd.DataFrame(diff)\n",
    "    diff['sector_name_1'] = after['sector_name_1']\n",
    "    diff['before_count'] = before['count']\n",
    "    diff['after_count'] = after['count']\n",
    "    diff['before_count'] = diff['before_count'].fillna(0)\n",
    "    diff.columns = ['count', 'sector_name_1', 'before_count', 'after_count']\n",
    "    diff['pct'] = diff['count'] / diff['before_count'] * 100\n",
    "    diff['count'] = pd.to_numeric(diff['count'], downcast='integer')\n",
    "    diff['before_count'] = pd.to_numeric(diff['before_count'],\n",
    "                                         downcast='integer')\n",
    "\n",
    "    return diff"
   ]
  },
  {
   "cell_type": "code",
   "execution_count": 15,
   "metadata": {
    "ExecuteTime": {
     "end_time": "2020-12-16T23:20:14.451444Z",
     "start_time": "2020-12-16T23:20:14.314260Z"
    }
   },
   "outputs": [],
   "source": [
    "dotcom_bubble = events_data(dtb_after, dtb_before)\n",
    "great_recession = events_data(tgr_after, tgr_before)\n",
    "tech_city = events_data(ti_after, ti_before)\n",
    "future_fifty = events_data(ff_after, ff_before)\n",
    "brexit = events_data(brex_after, brex_before)\n",
    "e_visa = events_data(ev_after, ev_before)\n",
    "uk_companies_act = events_data(ca_after, ca_before)"
   ]
  },
  {
   "cell_type": "code",
   "execution_count": 16,
   "metadata": {
    "ExecuteTime": {
     "end_time": "2020-12-16T23:20:14.477417Z",
     "start_time": "2020-12-16T23:20:14.453071Z"
    }
   },
   "outputs": [],
   "source": [
    "# use norm_plt for chart and use before for the hover attribute\n",
    "dotcom_bubble.reset_index(inplace=True)\n",
    "great_recession.reset_index(inplace=True)\n",
    "tech_city.reset_index(inplace=True)\n",
    "future_fifty.reset_index(inplace=True)\n",
    "brexit.reset_index(inplace=True)\n",
    "e_visa.reset_index(inplace=True)\n",
    "uk_companies_act.reset_index(inplace=True)"
   ]
  },
  {
   "cell_type": "code",
   "execution_count": 17,
   "metadata": {
    "ExecuteTime": {
     "end_time": "2020-12-16T23:20:15.618859Z",
     "start_time": "2020-12-16T23:20:14.479402Z"
    }
   },
   "outputs": [
    {
     "name": "stdout",
     "output_type": "stream",
     "text": [
      "The html file is saved to output/lollipop_event_chart.html\n"
     ]
    }
   ],
   "source": [
    "rc('font', **{'family': 'serif', 'serif': ['Computer Modern Roman']})\n",
    "rc('text', usetex=True)\n",
    "\n",
    "dotcom_bubble_event = ColumnDataSource(dotcom_bubble)\n",
    "great_recession_event = ColumnDataSource(great_recession)\n",
    "tech_city_event = ColumnDataSource(tech_city)\n",
    "future_fifty_event = ColumnDataSource(future_fifty)\n",
    "brexit_event = ColumnDataSource(brexit)\n",
    "e_visa_event = ColumnDataSource(e_visa)\n",
    "uk_companies_act_event = ColumnDataSource(uk_companies_act)\n",
    "\n",
    "plot_size_and_tools = {\n",
    "    'plot_height': 400,\n",
    "    'plot_width': 800,\n",
    "    'tools': ['box_select', 'reset', 'help']\n",
    "}\n",
    "y = [1, 2, 3, 4, 5, 7, 8, 9, 10, 11, 12, 13, 14, 15, 16]\n",
    "mapper = linear_cmap(field_name='count',\n",
    "                     palette=Spectral6,\n",
    "                     low=min(y),\n",
    "                     high=max(y))\n",
    "\n",
    "# dotcom bubble\n",
    "p1 = figure(title=\"Dotcom Bubble growth effects on Tech City\",\n",
    "            **plot_size_and_tools)\n",
    "p1.segment(\n",
    "    'index',\n",
    "    0,\n",
    "    'index',\n",
    "    'count',\n",
    "    source=dotcom_bubble_event,\n",
    "    line_width=2,\n",
    "    line_color=\"green\",\n",
    ")\n",
    "p1.circle(x='index',\n",
    "          y='count',\n",
    "          source=dotcom_bubble_event,\n",
    "          color=mapper,\n",
    "          alpha=0.7,\n",
    "          size=10)\n",
    "tab1 = Panel(child=p1, title=\"Dotcom Bubble\")\n",
    "p1.xaxis.major_label_overrides = {\n",
    "    0: 'Biotech Rsrch.',\n",
    "    1: 'Business Software Dev.',\n",
    "    2: 'Computer Game Companies',\n",
    "    3: 'Computer facilities mgmt.',\n",
    "    4: 'Data Companies',\n",
    "    5: 'Fund management activities',\n",
    "    6: 'Info Tech Consulting',\n",
    "    7: 'Info Tech services',\n",
    "    8: 'Natural Sciences Rsrch.',\n",
    "    9: 'Open-ended Investors',\n",
    "    10: 'Satellite Telecommuncations',\n",
    "    11: 'Social Sciences Rsrch.',\n",
    "    12: 'Software Dev.',\n",
    "    13: 'Technical testing and analysis',\n",
    "    14: 'Venture Capital',\n",
    "    15: 'Web portals',\n",
    "    16: 'Wireless Telecommuncations'\n",
    "}\n",
    "p1.xaxis.major_label_orientation = \"vertical\"\n",
    "p1.xaxis.ticker = list(range(0, 17))\n",
    "p1.xgrid.grid_line_color = None\n",
    "p1.ygrid.band_fill_alpha = 0.1\n",
    "p1.ygrid.band_fill_color = \"lightgrey\"\n",
    "hover = HoverTool(tooltips=[('Pct Change', '@pct%')])\n",
    "p1.add_tools(hover)\n",
    "\n",
    "# great recession\n",
    "p2 = figure(title=\"The Great Recession effects on Tech City Sectors\",\n",
    "            x_range=p1.x_range,\n",
    "            y_range=p1.y_range,\n",
    "            **plot_size_and_tools)\n",
    "p2.segment(\n",
    "    'index',\n",
    "    0,\n",
    "    'index',\n",
    "    'count',\n",
    "    source=great_recession_event,\n",
    "    line_width=2,\n",
    "    line_color=\"green\",\n",
    ")\n",
    "p2.circle(x='index',\n",
    "          y='count',\n",
    "          source=great_recession_event,\n",
    "          color=mapper,\n",
    "          size=10,\n",
    "          alpha=0.9)\n",
    "tab2 = Panel(child=p2, title=\"The Great Recession\")\n",
    "p2.xaxis.major_label_overrides = {\n",
    "    0: 'Biotech Rsrch.',\n",
    "    1: 'Business Software Dev.',\n",
    "    2: 'Computer Game Companies',\n",
    "    3: 'Computer facilities mgmt.',\n",
    "    4: 'Data Companies',\n",
    "    5: 'Fund management activities',\n",
    "    6: 'Info Tech Consulting',\n",
    "    7: 'Info Tech services',\n",
    "    8: 'Natural Sciences Rsrch.',\n",
    "    9: 'Open-ended Investors',\n",
    "    10: 'Satellite Telecommuncations',\n",
    "    11: 'Social Sciences Rsrch.',\n",
    "    12: 'Software Dev.',\n",
    "    13: 'Technical testing and analysis',\n",
    "    14: 'Venture Capital',\n",
    "    15: 'Web portals',\n",
    "    16: 'Wireless Telecommuncations'\n",
    "}\n",
    "p2.xaxis.major_label_orientation = \"vertical\"\n",
    "p2.xaxis.ticker = list(range(0, 17))\n",
    "p2.xgrid.grid_line_color = None\n",
    "p2.ygrid.band_fill_color = \"lightgrey\"\n",
    "hover = HoverTool(tooltips=[('Pct Change', '@pct%')])\n",
    "p2.add_tools(hover)\n",
    "\n",
    "p3 = figure(title=\"Tech City Initiatives effects on Tech City Sectors\",\n",
    "            x_range=p1.x_range,\n",
    "            y_range=p1.y_range,\n",
    "            **plot_size_and_tools)\n",
    "p3.segment(\n",
    "    'index',\n",
    "    0,\n",
    "    'index',\n",
    "    'count',\n",
    "    source=tech_city_event,\n",
    "    line_width=2,\n",
    "    line_color=\"green\",\n",
    ")\n",
    "p3.circle(x='index',\n",
    "          y='count',\n",
    "          source=tech_city_event,\n",
    "          color=mapper,\n",
    "          size=10,\n",
    "          alpha=0.9)\n",
    "tab3 = Panel(child=p3, title=\"Tech City Initiatives\")\n",
    "p3.xaxis.major_label_overrides = {\n",
    "    0: 'Biotech Rsrch.',\n",
    "    1: 'Business Software Dev.',\n",
    "    2: 'Computer Game Companies',\n",
    "    3: 'Computer facilities mgmt.',\n",
    "    4: 'Data Companies',\n",
    "    5: 'Fund management activities',\n",
    "    6: 'Info Tech Consulting',\n",
    "    7: 'Info Tech services',\n",
    "    8: 'Natural Sciences Rsrch.',\n",
    "    9: 'Open-ended Investors',\n",
    "    10: 'Satellite Telecommuncations',\n",
    "    11: 'Social Sciences Rsrch.',\n",
    "    12: 'Software Dev.',\n",
    "    13: 'Technical testing and analysis',\n",
    "    14: 'Venture Capital',\n",
    "    15: 'Web portals',\n",
    "    16: 'Wireless Telecommuncations'\n",
    "}\n",
    "p3.xaxis.major_label_orientation = \"vertical\"\n",
    "p3.xaxis.ticker = list(range(0, 17))\n",
    "p3.xgrid.grid_line_color = None\n",
    "p3.ygrid.band_fill_color = \"lightgrey\"\n",
    "hover = HoverTool(tooltips=[('Pct Change', '@pct%')])\n",
    "p3.add_tools(hover)\n",
    "\n",
    "p4 = figure(title=\"Future Fifty effects on Tech City Sectors\",\n",
    "            **plot_size_and_tools)\n",
    "p4.segment(\n",
    "    'index',\n",
    "    0,\n",
    "    'index',\n",
    "    'count',\n",
    "    source=future_fifty_event,\n",
    "    line_width=2,\n",
    "    line_color=\"green\",\n",
    ")\n",
    "p4.circle(x='index',\n",
    "          y='count',\n",
    "          source=future_fifty_event,\n",
    "          color=mapper,\n",
    "          alpha=0.7,\n",
    "          size=10)\n",
    "tab4 = Panel(child=p4, title=\"Future Fifty\")\n",
    "p4.xaxis.major_label_overrides = {\n",
    "    0: 'Biotech Rsrch.',\n",
    "    1: 'Business Software Dev.',\n",
    "    2: 'Computer Game Companies',\n",
    "    3: 'Computer facilities mgmt.',\n",
    "    4: 'Data Companies',\n",
    "    5: 'Fund management activities',\n",
    "    6: 'Info Tech Consulting',\n",
    "    7: 'Info Tech services',\n",
    "    8: 'Natural Sciences Rsrch.',\n",
    "    9: 'Open-ended Investors',\n",
    "    10: 'Satellite Telecommuncations',\n",
    "    11: 'Social Sciences Rsrch.',\n",
    "    12: 'Software Dev.',\n",
    "    13: 'Technical testing and analysis',\n",
    "    14: 'Venture Capital',\n",
    "    15: 'Web portals',\n",
    "    16: 'Wireless Telecommuncations'\n",
    "}\n",
    "p4.xaxis.major_label_orientation = \"vertical\"\n",
    "p4.xaxis.ticker = list(range(0, 17))\n",
    "p4.xgrid.grid_line_color = None\n",
    "p4.ygrid.band_fill_alpha = 0.1\n",
    "p4.ygrid.band_fill_color = \"lightgrey\"\n",
    "hover = HoverTool(tooltips=[('Pct Change', '@pct%')])\n",
    "p4.add_tools(hover)\n",
    "\n",
    "p5 = figure(title=\"brexit effects on Tech City\", **plot_size_and_tools)\n",
    "p5.segment(\n",
    "    'index',\n",
    "    0,\n",
    "    'index',\n",
    "    'count',\n",
    "    source=brexit_event,\n",
    "    line_width=2,\n",
    "    line_color=\"green\",\n",
    ")\n",
    "p5.circle(x='index',\n",
    "          y='count',\n",
    "          source=brexit_event,\n",
    "          color=mapper,\n",
    "          alpha=0.7,\n",
    "          size=10)\n",
    "tab5 = Panel(child=p5, title=\"brexit\")\n",
    "p5.xaxis.major_label_overrides = {\n",
    "    0: 'Biotech Rsrch.',\n",
    "    1: 'Business Software Dev.',\n",
    "    2: 'Computer Game Companies',\n",
    "    3: 'Computer facilities mgmt.',\n",
    "    4: 'Data Companies',\n",
    "    5: 'Fund management activities',\n",
    "    6: 'Info Tech Consulting',\n",
    "    7: 'Info Tech services',\n",
    "    8: 'Natural Sciences Rsrch.',\n",
    "    9: 'Open-ended Investors',\n",
    "    10: 'Satellite Telecommuncations',\n",
    "    11: 'Social Sciences Rsrch.',\n",
    "    12: 'Software Dev.',\n",
    "    13: 'Technical testing and analysis',\n",
    "    14: 'Venture Capital',\n",
    "    15: 'Web portals',\n",
    "    16: 'Wireless Telecommuncations'\n",
    "}\n",
    "p5.xaxis.major_label_orientation = \"vertical\"\n",
    "p5.xaxis.ticker = list(range(0, 17))\n",
    "p5.xgrid.grid_line_color = None\n",
    "p5.ygrid.band_fill_alpha = 0.1\n",
    "p5.ygrid.band_fill_color = \"lightgrey\"\n",
    "hover = HoverTool(tooltips=[('Pct Change', '@pct%')])\n",
    "p5.add_tools(hover)\n",
    "\n",
    "p6 = figure(\n",
    "    title=\"Discontinuation of Entrepreneurship Visa effect on Tech City\",\n",
    "    **plot_size_and_tools)\n",
    "p6.segment(\n",
    "    'index',\n",
    "    0,\n",
    "    'index',\n",
    "    'count',\n",
    "    source=e_visa_event,\n",
    "    line_width=2,\n",
    "    line_color=\"green\",\n",
    ")\n",
    "p6.circle(x='index',\n",
    "          y='count',\n",
    "          source=e_visa_event,\n",
    "          color=mapper,\n",
    "          alpha=0.7,\n",
    "          size=10)\n",
    "tab6 = Panel(child=p6, title=\"Discontinuation of Entrepreneurship visa\")\n",
    "p6.xaxis.major_label_overrides = {\n",
    "    0: 'Biotech Rsrch.',\n",
    "    1: 'Business Software Dev.',\n",
    "    2: 'Computer Game Companies',\n",
    "    3: 'Computer facilities mgmt.',\n",
    "    4: 'Data Companies',\n",
    "    5: 'Fund management activities',\n",
    "    6: 'Info Tech Consulting',\n",
    "    7: 'Info Tech services',\n",
    "    8: 'Natural Sciences Rsrch.',\n",
    "    9: 'Open-ended Investors',\n",
    "    10: 'Satellite Telecommuncations',\n",
    "    11: 'Social Sciences Rsrch.',\n",
    "    12: 'Software Dev.',\n",
    "    13: 'Technical testing and analysis',\n",
    "    14: 'Venture Capital',\n",
    "    15: 'Web portals',\n",
    "    16: 'Wireless Telecommuncations'\n",
    "}\n",
    "p6.xaxis.major_label_orientation = \"vertical\"\n",
    "p6.xaxis.ticker = list(range(0, 17))\n",
    "p6.xgrid.grid_line_color = None\n",
    "p6.ygrid.band_fill_alpha = 0.1\n",
    "p6.ygrid.band_fill_color = \"lightgrey\"\n",
    "hover = HoverTool(tooltips=[('Pct Change', '@pct%')])\n",
    "p6.add_tools(hover)\n",
    "\n",
    "p7 = figure(title=\"UK Comanies Act effect on Tech City\", **plot_size_and_tools)\n",
    "p7.segment(\n",
    "    'index',\n",
    "    0,\n",
    "    'index',\n",
    "    'count',\n",
    "    source=uk_companies_act_event,\n",
    "    line_width=2,\n",
    "    line_color=\"green\",\n",
    ")\n",
    "p7.circle(x='index',\n",
    "          y='count',\n",
    "          source=uk_companies_act_event,\n",
    "          color=mapper,\n",
    "          alpha=0.7,\n",
    "          size=10)\n",
    "tab7 = Panel(child=p7, title=\"UK Companies Act\")\n",
    "p7.xaxis.major_label_overrides = {\n",
    "    0: 'Biotech Rsrch.',\n",
    "    1: 'Business Software Dev.',\n",
    "    2: 'Computer Game Companies',\n",
    "    3: 'Computer facilities mgmt.',\n",
    "    4: 'Data Companies',\n",
    "    5: 'Fund management activities',\n",
    "    6: 'Info Tech Consulting',\n",
    "    7: 'Info Tech services',\n",
    "    8: 'Natural Sciences Rsrch.',\n",
    "    9: 'Open-ended Investors',\n",
    "    10: 'Satellite Telecommuncations',\n",
    "    11: 'Social Sciences Rsrch.',\n",
    "    12: 'Software Dev.',\n",
    "    13: 'Technical testing and analysis',\n",
    "    14: 'Venture Capital',\n",
    "    15: 'Web portals',\n",
    "    16: 'Wireless Telecommuncations'\n",
    "}\n",
    "p7.xaxis.major_label_orientation = \"vertical\"\n",
    "p7.xaxis.ticker = list(range(0, 17))\n",
    "p7.xgrid.grid_line_color = None\n",
    "p7.ygrid.band_fill_alpha = 0.1\n",
    "p7.ygrid.band_fill_color = \"lightgrey\"\n",
    "hover = HoverTool(tooltips=[('Pct Change', '@pct%')])\n",
    "p7.add_tools(hover)\n",
    "\n",
    "# save as html\n",
    "file_path = os.path.join('output', 'lollipop_event_chart.html')\n",
    "output_file(file_path)\n",
    "print(f\"The html file is saved to {file_path}\")\n",
    "\n",
    "show(Tabs(tabs=[tab1, tab7, tab2, tab3, tab4, tab5, tab6]))"
   ]
  },
  {
   "cell_type": "markdown",
   "metadata": {},
   "source": [
    "## Even Supporting Chart: Heatmap of Events and Sectors"
   ]
  },
  {
   "cell_type": "code",
   "execution_count": 18,
   "metadata": {
    "ExecuteTime": {
     "end_time": "2020-12-16T23:20:15.773175Z",
     "start_time": "2020-12-16T23:20:15.624805Z"
    }
   },
   "outputs": [],
   "source": [
    "# create data frames for events\n",
    "\n",
    "dotcom_bubble = events_data(dtb_after, dtb_before)\n",
    "great_recession = events_data(tgr_after, tgr_before)\n",
    "tech_city = events_data(ti_after, ti_before)\n",
    "future_fifty = events_data(ff_after, ff_before)\n",
    "brexit = events_data(brex_after, brex_before)\n",
    "e_visa = events_data(ev_after, ev_before)\n",
    "uk_companies_act = events_data(ca_after, ca_before)\n",
    "\n",
    "# use norm_plt for chart and use before for the hover attribute\n",
    "dotcom_bubble.reset_index(inplace=True)\n",
    "great_recession.reset_index(inplace=True)\n",
    "tech_city.reset_index(inplace=True)\n",
    "future_fifty.reset_index(inplace=True)\n",
    "brexit.reset_index(inplace=True)\n",
    "e_visa.reset_index(inplace=True)\n",
    "uk_companies_act.reset_index(inplace=True)"
   ]
  },
  {
   "cell_type": "code",
   "execution_count": 19,
   "metadata": {
    "ExecuteTime": {
     "end_time": "2020-12-16T23:20:15.819024Z",
     "start_time": "2020-12-16T23:20:15.775139Z"
    },
    "scrolled": true
   },
   "outputs": [],
   "source": [
    "# concat all events for normal count\n",
    "q = dotcom_bubble[['index', 'count', 'sector_name_1']]\n",
    "w = great_recession[['index', 'count', 'sector_name_1']]\n",
    "e = tech_city[['index', 'count', 'sector_name_1']]\n",
    "r = future_fifty[['index', 'count', 'sector_name_1']]\n",
    "t = brexit[['index', 'count', 'sector_name_1']]\n",
    "y = e_visa[['index', 'count', 'sector_name_1']]\n",
    "u = uk_companies_act[['index', 'count', 'sector_name_1']]\n",
    "\n",
    "q['event'] = 'Dotcom Bubble'\n",
    "w['event'] = 'Great Recession'\n",
    "e['event'] = 'Tech City Announcement'\n",
    "r['event'] = 'Future Fifty'\n",
    "t['event'] = 'Brexit'\n",
    "y['event'] = 'Elimnation of Visa'\n",
    "u['event'] = 'Uk Companies Act'\n",
    "\n",
    "event_df = pd.concat([q, w, e, r, t, y, u])\n",
    "event_df = pd.DataFrame(\n",
    "    event_df.groupby(['event', 'sector_name_1'])['count'].agg('sum'))\n",
    "event_df.reset_index(inplace=True)"
   ]
  },
  {
   "cell_type": "code",
   "execution_count": 20,
   "metadata": {
    "ExecuteTime": {
     "end_time": "2020-12-16T23:20:15.889525Z",
     "start_time": "2020-12-16T23:20:15.820700Z"
    }
   },
   "outputs": [],
   "source": [
    "# create new row because we are missing 1\n",
    "new_row = {\n",
    "    'event': 'Dotcom Bubble',\n",
    "    'sector_name_1': ' Computer Game Companies',\n",
    "    'count': 0\n",
    "}\n",
    "event_df = event_df.append(new_row, ignore_index=True)"
   ]
  },
  {
   "cell_type": "code",
   "execution_count": 21,
   "metadata": {
    "ExecuteTime": {
     "end_time": "2020-12-16T23:20:15.950740Z",
     "start_time": "2020-12-16T23:20:15.897259Z"
    }
   },
   "outputs": [
    {
     "data": {
      "text/plain": [
       "array([[ 26, 535,  33,  13,  73,  63, 710, 338,  24,  41,   4,   9,  96,\n",
       "          9,  50,  84,  63],\n",
       "       [  2,  30,   1,   7,  16,  61,  75,   6,   1,   2,   0,   4,   1,\n",
       "          9,   3,  19,  25],\n",
       "       [570,  45,  18,  96,  91, 586, 357,  12,  53,   4,  12, 178,  19,\n",
       "         49, 135,  81,  11],\n",
       "       [237,   7,   7,  40,  37, 349, 222,   8,  10,   1,   5,  21,   2,\n",
       "         20,  49,  33,   5],\n",
       "       [133,   3,   4,  19,  26, 233, 164,  21,   5,   1,   5,  16,   6,\n",
       "          9,  26,  31,  13],\n",
       "       [321,   9,  14,  42,  52, 475, 304,  18,   9,   1,   9,  20,   4,\n",
       "         27,  57,  59,   0],\n",
       "       [ 37,   2,   5,  11,  10,  82,  66,   5,   0,   0,   3,  11,   2,\n",
       "          1,   3,  16,   0]])"
      ]
     },
     "execution_count": 21,
     "metadata": {},
     "output_type": "execute_result"
    }
   ],
   "source": [
    "# see shape of array\n",
    "np.array(event_df['count']).reshape(7, 17)"
   ]
  },
  {
   "cell_type": "code",
   "execution_count": 22,
   "metadata": {
    "ExecuteTime": {
     "end_time": "2020-12-16T23:20:19.936622Z",
     "start_time": "2020-12-16T23:20:15.952319Z"
    },
    "scrolled": false
   },
   "outputs": [
    {
     "name": "stdout",
     "output_type": "stream",
     "text": [
      "The html file is saved to output/events_sector_tech_city.png\n"
     ]
    },
    {
     "data": {
      "image/png": "[encoded data removed]",
      "text/plain": [
       "<Figure size 864x576 with 1 Axes>"
      ]
     },
     "metadata": {
      "needs_background": "light"
     },
     "output_type": "display_data"
    }
   ],
   "source": [
    "# add and minpulate my datta\n",
    "events = np.array(event_df['sector_name_1'].unique())\n",
    "sectors = np.array(event_df['event'].unique())\n",
    "\n",
    "companies = np.array(event_df['count']).reshape(7, 17)\n",
    "\n",
    "# create figure\n",
    "f = plt.figure(figsize=(12, 8))\n",
    "ax = f.add_subplot(121)\n",
    "im = ax.imshow(companies, aspect='equal')\n",
    "\n",
    "# we want to show all ticks...\n",
    "ax.set_xticks(np.arange(len(events)))\n",
    "ax.set_yticks(np.arange(len(sectors)))\n",
    "# ... and label them with the respective list entries\n",
    "ax.set_xticklabels(events)\n",
    "ax.set_yticklabels(sectors)\n",
    "\n",
    "# rotate the tick labels and set their alignment.\n",
    "plt.setp(ax.get_xticklabels(), rotation=45, ha=\"right\", rotation_mode=\"anchor\")\n",
    "\n",
    "# loop over data dimensions and create text annotations.\n",
    "for i in range(len(sectors)):\n",
    "    for j in range(len(events)):\n",
    "        text = ax.text(j,\n",
    "                       i,\n",
    "                       companies[i, j],\n",
    "                       ha=\"center\",\n",
    "                       va=\"center\",\n",
    "                       color=\"red\")\n",
    "\n",
    "ax.set_title(\"Events affecting growth of Tech City\")\n",
    "f.tight_layout()\n",
    "\n",
    "# save as png\n",
    "file_path = os.path.join('output', 'events_sector_tech_city.png')\n",
    "plt.savefig(file_path, dpi=400)\n",
    "print(f\"The html file is saved to {file_path}\")\n",
    "\n",
    "plt.show()"
   ]
  },
  {
   "cell_type": "code",
   "execution_count": null,
   "metadata": {},
   "outputs": [],
   "source": []
  }
 ],
 "metadata": {
  "kernelspec": {
   "display_name": "Python [conda env:DVFTP]",
   "language": "python",
   "name": "conda-env-DVFTP-py"
  },
  "language_info": {
   "codemirror_mode": {
    "name": "ipython",
    "version": 3
   },
   "file_extension": ".py",
   "mimetype": "text/x-python",
   "name": "python",
   "nbconvert_exporter": "python",
   "pygments_lexer": "ipython3",
   "version": "3.8.6"
  },
  "latex_envs": {
   "LaTeX_envs_menu_present": true,
   "autoclose": false,
   "autocomplete": true,
   "bibliofile": "biblio.bib",
   "cite_by": "apalike",
   "current_citInitial": 1,
   "eqLabelWithNumbers": true,
   "eqNumInitial": 1,
   "hotkeys": {
    "equation": "Ctrl-E",
    "itemize": "Ctrl-I"
   },
   "labels_anchors": false,
   "latex_user_defs": false,
   "report_style_numbering": false,
   "user_envs_cfg": false
  },
  "toc": {
   "base_numbering": 1,
   "nav_menu": {},
   "number_sections": true,
   "sideBar": true,
   "skip_h1_title": false,
   "title_cell": "Table of Contents",
   "title_sidebar": "Contents",
   "toc_cell": false,
   "toc_position": {},
   "toc_section_display": true,
   "toc_window_display": true
  },
  "varInspector": {
   "cols": {
    "lenName": 16,
    "lenType": 16,
    "lenVar": 40
   },
   "kernels_config": {
    "python": {
     "delete_cmd_postfix": "",
     "delete_cmd_prefix": "del ",
     "library": "var_list.py",
     "varRefreshCmd": "print(var_dic_list())"
    },
    "r": {
     "delete_cmd_postfix": ") ",
     "delete_cmd_prefix": "rm(",
     "library": "var_list.r",
     "varRefreshCmd": "cat(var_dic_list()) "
    }
   },
   "types_to_exclude": [
    "module",
    "function",
    "builtin_function_or_method",
    "instance",
    "_Feature"
   ],
   "window_display": false
  }
 },
 "nbformat": 4,
 "nbformat_minor": 4
}
