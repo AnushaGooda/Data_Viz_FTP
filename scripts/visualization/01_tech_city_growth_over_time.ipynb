{
 "cells": [
  {
   "cell_type": "markdown",
   "metadata": {},
   "source": [
    "# Tech City Growth Over Time"
   ]
  },
  {
   "cell_type": "markdown",
   "metadata": {},
   "source": [
    "## Import Libraries"
   ]
  },
  {
   "cell_type": "code",
   "execution_count": 1,
   "metadata": {
    "ExecuteTime": {
     "end_time": "2020-12-16T22:51:19.566381Z",
     "start_time": "2020-12-16T22:51:18.415352Z"
    }
   },
   "outputs": [],
   "source": [
    "import os\n",
    "import platform\n",
    "import getpass\n",
    "import numpy as np\n",
    "import pandas as pd\n",
    "import bar_chart_race as bcr\n",
    "import matplotlib.pyplot as plt\n",
    "from matplotlib import rc\n",
    "import datetime\n",
    "import scipy.stats as stats\n",
    "from bokeh.io import output_file\n",
    "from bokeh.models import ColumnDataSource, RangeTool\n",
    "from bokeh.plotting import figure, show\n",
    "from bokeh.layouts import column"
   ]
  },
  {
   "cell_type": "markdown",
   "metadata": {},
   "source": [
    "## Load Data"
   ]
  },
  {
   "cell_type": "code",
   "execution_count": 2,
   "metadata": {
    "ExecuteTime": {
     "end_time": "2020-12-16T22:51:19.829832Z",
     "start_time": "2020-12-16T22:51:19.567920Z"
    }
   },
   "outputs": [],
   "source": [
    "# Check working directory\n",
    "base_path = '../..'\n",
    "\n",
    "#Load data\n",
    "pivot = pd.read_csv(\n",
    "    os.path.join(base_path, 'datasets', 'pivot_table_year_cumcount.csv'))\n",
    "uk = pd.read_csv(os.path.join(base_path, 'datasets', 'uk_plotting_data.csv'))\n",
    "tech_coord = pd.read_csv(\n",
    "    os.path.join(base_path, 'datasets', 'tech_roundabout_merge.csv'))\n",
    "clean_data = pd.read_csv(\n",
    "    os.path.join(base_path, 'datasets', 'industry_added_cleaned_data.csv'))"
   ]
  },
  {
   "cell_type": "code",
   "execution_count": 3,
   "metadata": {
    "ExecuteTime": {
     "end_time": "2020-12-16T22:51:19.891511Z",
     "start_time": "2020-12-16T22:51:19.831713Z"
    }
   },
   "outputs": [],
   "source": [
    "#merge tech coord and clean_data\n",
    "all_data = clean_data.merge(tech_coord, how='left', on='CompanyName')"
   ]
  },
  {
   "cell_type": "markdown",
   "metadata": {},
   "source": [
    "## Timeline Chart"
   ]
  },
  {
   "cell_type": "code",
   "execution_count": 4,
   "metadata": {
    "ExecuteTime": {
     "end_time": "2020-12-16T22:51:19.922541Z",
     "start_time": "2020-12-16T22:51:19.897832Z"
    }
   },
   "outputs": [],
   "source": [
    "# change incorportation date to exclude days\n",
    "all_data['date'] = pd.to_datetime(all_data[['year', 'month']].assign(day=1))"
   ]
  },
  {
   "cell_type": "code",
   "execution_count": 5,
   "metadata": {
    "ExecuteTime": {
     "end_time": "2020-12-16T22:51:19.945140Z",
     "start_time": "2020-12-16T22:51:19.924266Z"
    }
   },
   "outputs": [],
   "source": [
    "# create new df with all years and month sand counts\n",
    "date_data = pd.DataFrame(all_data.groupby(['date'])['count'].agg('sum'))\n",
    "date_data.reset_index(inplace=True)"
   ]
  },
  {
   "cell_type": "code",
   "execution_count": 6,
   "metadata": {
    "ExecuteTime": {
     "end_time": "2020-12-16T22:51:20.577876Z",
     "start_time": "2020-12-16T22:51:19.949004Z"
    }
   },
   "outputs": [
    {
     "name": "stdout",
     "output_type": "stream",
     "text": [
      "The html file is saved to output/timeline_chart.html\n"
     ]
    }
   ],
   "source": [
    "# set save path\n",
    "file_path = os.path.join('output', 'timeline_chart.html')\n",
    "output_file(file_path)\n",
    "print(f\"The html file is saved to {file_path}\")\n",
    "\n",
    "# data manipulation\n",
    "dates = np.array(date_data['date'], dtype=np.datetime64)\n",
    "source = ColumnDataSource(data=dict(date=dates, count=date_data['count']))\n",
    "\n",
    "# initialize the plot\n",
    "p = figure(plot_height=300,\n",
    "           plot_width=800,\n",
    "           tools=\"xpan\",\n",
    "           toolbar_location=None,\n",
    "           x_axis_type=\"datetime\",\n",
    "           x_axis_location=\"above\",\n",
    "           x_range=(\n",
    "               dates[0],\n",
    "               dates[28],\n",
    "           ),\n",
    "           background_fill_color=\"#efefef\")\n",
    "\n",
    "# plot data\n",
    "p.line('date', 'count', source=source)\n",
    "\n",
    "# labels\n",
    "p.yaxis.axis_label = 'Compnies Created'\n",
    "\n",
    "# initialize lower panel plot\n",
    "select = figure(title=\"Tech City Company Incorporation Overview Per Month\",\n",
    "                plot_height=130,\n",
    "                plot_width=800,\n",
    "                y_range=p.y_range,\n",
    "                x_axis_type=\"datetime\",\n",
    "                y_axis_type=None,\n",
    "                tools=\"\",\n",
    "                toolbar_location=None,\n",
    "                background_fill_color=\"#efefef\")\n",
    "\n",
    "# initialize data selector\n",
    "range_tool = RangeTool(x_range=p.x_range)\n",
    "range_tool.overlay.fill_color = \"green\"\n",
    "range_tool.overlay.fill_alpha = 0.2\n",
    "\n",
    "# plot data\n",
    "select.line('date', 'count', source=source)\n",
    "select.ygrid.grid_line_color = None\n",
    "\n",
    "# add selector\n",
    "select.add_tools(range_tool)\n",
    "select.toolbar.active_multi = range_tool\n",
    "\n",
    "# show plot\n",
    "show(column(p, select))"
   ]
  },
  {
   "cell_type": "markdown",
   "metadata": {},
   "source": [
    "## Racing Horizontal Bar Chart by Sector"
   ]
  },
  {
   "cell_type": "code",
   "execution_count": 7,
   "metadata": {
    "ExecuteTime": {
     "end_time": "2020-12-16T22:51:20.608116Z",
     "start_time": "2020-12-16T22:51:20.579519Z"
    }
   },
   "outputs": [
    {
     "data": {
      "text/html": [
       "<div>\n",
       "<style scoped>\n",
       "    .dataframe tbody tr th:only-of-type {\n",
       "        vertical-align: middle;\n",
       "    }\n",
       "\n",
       "    .dataframe tbody tr th {\n",
       "        vertical-align: top;\n",
       "    }\n",
       "\n",
       "    .dataframe thead th {\n",
       "        text-align: right;\n",
       "    }\n",
       "</style>\n",
       "<table border=\"1\" class=\"dataframe\">\n",
       "  <thead>\n",
       "    <tr style=\"text-align: right;\">\n",
       "      <th></th>\n",
       "      <th>Biotech Rsrch.</th>\n",
       "      <th>Business Software Dev.</th>\n",
       "      <th>Computer Game Companies</th>\n",
       "      <th>Computer facilities mgmt.</th>\n",
       "      <th>Data Companies</th>\n",
       "      <th>Fund management activities</th>\n",
       "      <th>Info Tech Consulting</th>\n",
       "      <th>Info Tech services</th>\n",
       "      <th>Natural Sciences Rsrch.</th>\n",
       "      <th>Open-ended Investors</th>\n",
       "      <th>Satellite Telecommuncations</th>\n",
       "      <th>Social Sciences Rsrch.</th>\n",
       "      <th>Software Dev.</th>\n",
       "      <th>Technical testing and analysis</th>\n",
       "      <th>Venture Capital</th>\n",
       "      <th>Web portals</th>\n",
       "      <th>Wireless Telecommuncations</th>\n",
       "    </tr>\n",
       "    <tr>\n",
       "      <th>year</th>\n",
       "      <th></th>\n",
       "      <th></th>\n",
       "      <th></th>\n",
       "      <th></th>\n",
       "      <th></th>\n",
       "      <th></th>\n",
       "      <th></th>\n",
       "      <th></th>\n",
       "      <th></th>\n",
       "      <th></th>\n",
       "      <th></th>\n",
       "      <th></th>\n",
       "      <th></th>\n",
       "      <th></th>\n",
       "      <th></th>\n",
       "      <th></th>\n",
       "      <th></th>\n",
       "    </tr>\n",
       "  </thead>\n",
       "  <tbody>\n",
       "    <tr>\n",
       "      <th>1991</th>\n",
       "      <td>0</td>\n",
       "      <td>1</td>\n",
       "      <td>0</td>\n",
       "      <td>0</td>\n",
       "      <td>1</td>\n",
       "      <td>0</td>\n",
       "      <td>3</td>\n",
       "      <td>0</td>\n",
       "      <td>0</td>\n",
       "      <td>0</td>\n",
       "      <td>0</td>\n",
       "      <td>0</td>\n",
       "      <td>3</td>\n",
       "      <td>0</td>\n",
       "      <td>0</td>\n",
       "      <td>0</td>\n",
       "      <td>0</td>\n",
       "    </tr>\n",
       "    <tr>\n",
       "      <th>1992</th>\n",
       "      <td>0</td>\n",
       "      <td>3</td>\n",
       "      <td>0</td>\n",
       "      <td>2</td>\n",
       "      <td>1</td>\n",
       "      <td>1</td>\n",
       "      <td>6</td>\n",
       "      <td>3</td>\n",
       "      <td>0</td>\n",
       "      <td>0</td>\n",
       "      <td>0</td>\n",
       "      <td>1</td>\n",
       "      <td>4</td>\n",
       "      <td>0</td>\n",
       "      <td>1</td>\n",
       "      <td>0</td>\n",
       "      <td>0</td>\n",
       "    </tr>\n",
       "    <tr>\n",
       "      <th>1993</th>\n",
       "      <td>0</td>\n",
       "      <td>5</td>\n",
       "      <td>0</td>\n",
       "      <td>2</td>\n",
       "      <td>2</td>\n",
       "      <td>2</td>\n",
       "      <td>10</td>\n",
       "      <td>6</td>\n",
       "      <td>1</td>\n",
       "      <td>0</td>\n",
       "      <td>0</td>\n",
       "      <td>1</td>\n",
       "      <td>4</td>\n",
       "      <td>0</td>\n",
       "      <td>1</td>\n",
       "      <td>0</td>\n",
       "      <td>0</td>\n",
       "    </tr>\n",
       "    <tr>\n",
       "      <th>1994</th>\n",
       "      <td>0</td>\n",
       "      <td>8</td>\n",
       "      <td>0</td>\n",
       "      <td>2</td>\n",
       "      <td>2</td>\n",
       "      <td>4</td>\n",
       "      <td>12</td>\n",
       "      <td>9</td>\n",
       "      <td>1</td>\n",
       "      <td>0</td>\n",
       "      <td>0</td>\n",
       "      <td>1</td>\n",
       "      <td>5</td>\n",
       "      <td>0</td>\n",
       "      <td>3</td>\n",
       "      <td>0</td>\n",
       "      <td>3</td>\n",
       "    </tr>\n",
       "    <tr>\n",
       "      <th>1995</th>\n",
       "      <td>0</td>\n",
       "      <td>10</td>\n",
       "      <td>0</td>\n",
       "      <td>2</td>\n",
       "      <td>2</td>\n",
       "      <td>6</td>\n",
       "      <td>18</td>\n",
       "      <td>15</td>\n",
       "      <td>1</td>\n",
       "      <td>0</td>\n",
       "      <td>0</td>\n",
       "      <td>1</td>\n",
       "      <td>5</td>\n",
       "      <td>0</td>\n",
       "      <td>5</td>\n",
       "      <td>1</td>\n",
       "      <td>7</td>\n",
       "    </tr>\n",
       "  </tbody>\n",
       "</table>\n",
       "</div>"
      ],
      "text/plain": [
       "       Biotech Rsrch.   Business Software Dev.   Computer Game Companies  \\\n",
       "year                                                                       \n",
       "1991                0                        1                         0   \n",
       "1992                0                        3                         0   \n",
       "1993                0                        5                         0   \n",
       "1994                0                        8                         0   \n",
       "1995                0                       10                         0   \n",
       "\n",
       "       Computer facilities mgmt.   Data Companies  \\\n",
       "year                                                \n",
       "1991                           0                1   \n",
       "1992                           2                1   \n",
       "1993                           2                2   \n",
       "1994                           2                2   \n",
       "1995                           2                2   \n",
       "\n",
       "       Fund management activities   Info Tech Consulting   Info Tech services  \\\n",
       "year                                                                            \n",
       "1991                            0                      3                    0   \n",
       "1992                            1                      6                    3   \n",
       "1993                            2                     10                    6   \n",
       "1994                            4                     12                    9   \n",
       "1995                            6                     18                   15   \n",
       "\n",
       "       Natural Sciences Rsrch.   Open-ended Investors  \\\n",
       "year                                                    \n",
       "1991                         0                      0   \n",
       "1992                         0                      0   \n",
       "1993                         1                      0   \n",
       "1994                         1                      0   \n",
       "1995                         1                      0   \n",
       "\n",
       "       Satellite Telecommuncations   Social Sciences Rsrch.   Software Dev.  \\\n",
       "year                                                                          \n",
       "1991                             0                        0               3   \n",
       "1992                             0                        1               4   \n",
       "1993                             0                        1               4   \n",
       "1994                             0                        1               5   \n",
       "1995                             0                        1               5   \n",
       "\n",
       "       Technical testing and analysis   Venture Capital   Web portals  \\\n",
       "year                                                                    \n",
       "1991                                0                 0             0   \n",
       "1992                                0                 1             0   \n",
       "1993                                0                 1             0   \n",
       "1994                                0                 3             0   \n",
       "1995                                0                 5             1   \n",
       "\n",
       "       Wireless Telecommuncations  \n",
       "year                               \n",
       "1991                            0  \n",
       "1992                            0  \n",
       "1993                            0  \n",
       "1994                            3  \n",
       "1995                            7  "
      ]
     },
     "execution_count": 7,
     "metadata": {},
     "output_type": "execute_result"
    }
   ],
   "source": [
    "# Set year as index\n",
    "pivot = pivot.set_index('year')\n",
    "pivot.head()"
   ]
  },
  {
   "cell_type": "markdown",
   "metadata": {},
   "source": [
    "### Create the Racing Bar Chart"
   ]
  },
  {
   "cell_type": "code",
   "execution_count": 8,
   "metadata": {
    "ExecuteTime": {
     "end_time": "2020-12-16T22:51:20.625067Z",
     "start_time": "2020-12-16T22:51:20.611639Z"
    }
   },
   "outputs": [],
   "source": [
    "# set font\n",
    "rc('font', **{'family': 'sans-serif', 'sans-serif': ['Avant Garde']})\n",
    "rc('text', usetex=True)"
   ]
  },
  {
   "cell_type": "code",
   "execution_count": 9,
   "metadata": {
    "ExecuteTime": {
     "end_time": "2020-12-16T22:52:44.223689Z",
     "start_time": "2020-12-16T22:51:20.627227Z"
    }
   },
   "outputs": [
    {
     "name": "stderr",
     "output_type": "stream",
     "text": [
      "/home/voravich/anaconda3/envs/DVFTP/lib/python3.8/site-packages/bar_chart_race/_make_chart.py:286: UserWarning: FixedFormatter should only be used together with FixedLocator\n",
      "  ax.set_yticklabels(self.df_values.columns)\n",
      "/home/voravich/anaconda3/envs/DVFTP/lib/python3.8/site-packages/bar_chart_race/_make_chart.py:287: UserWarning: FixedFormatter should only be used together with FixedLocator\n",
      "  ax.set_xticklabels([max_val] * len(ax.get_xticks()))\n"
     ]
    },
    {
     "name": "stdout",
     "output_type": "stream",
     "text": [
      "The html file is saved to output/Sector_Comparison.html\n"
     ]
    }
   ],
   "source": [
    "# set save path\n",
    "file_path = os.path.join('output', 'Sector_Comparison.html')\n",
    "\n",
    "# save the visualization\n",
    "bcr.bar_chart_race(df=pivot,\n",
    "                   title='Tech City Sector Growth Over Time',\n",
    "                   steps_per_period=10,\n",
    "                   period_length=500,\n",
    "                   shared_fontdict={\n",
    "                       'family': 'sans-serif',\n",
    "                       'sans-serif': ['Avant Garde'],\n",
    "                       'weight': 'bold',\n",
    "                       'color': 'black'\n",
    "                   },\n",
    "                   perpendicular_bar_func='mean',\n",
    "                   filename=file_path)\n",
    "\n",
    "print(f\"The html file is saved to {file_path}\")"
   ]
  },
  {
   "cell_type": "code",
   "execution_count": null,
   "metadata": {},
   "outputs": [],
   "source": []
  }
 ],
 "metadata": {
  "kernelspec": {
   "display_name": "Python [conda env:DVFTP]",
   "language": "python",
   "name": "conda-env-DVFTP-py"
  },
  "language_info": {
   "codemirror_mode": {
    "name": "ipython",
    "version": 3
   },
   "file_extension": ".py",
   "mimetype": "text/x-python",
   "name": "python",
   "nbconvert_exporter": "python",
   "pygments_lexer": "ipython3",
   "version": "3.8.6"
  },
  "latex_envs": {
   "LaTeX_envs_menu_present": true,
   "autoclose": false,
   "autocomplete": true,
   "bibliofile": "biblio.bib",
   "cite_by": "apalike",
   "current_citInitial": 1,
   "eqLabelWithNumbers": true,
   "eqNumInitial": 1,
   "hotkeys": {
    "equation": "Ctrl-E",
    "itemize": "Ctrl-I"
   },
   "labels_anchors": false,
   "latex_user_defs": false,
   "report_style_numbering": false,
   "user_envs_cfg": false
  },
  "toc": {
   "base_numbering": 1,
   "nav_menu": {},
   "number_sections": true,
   "sideBar": true,
   "skip_h1_title": false,
   "title_cell": "Table of Contents",
   "title_sidebar": "Contents",
   "toc_cell": false,
   "toc_position": {},
   "toc_section_display": true,
   "toc_window_display": true
  },
  "varInspector": {
   "cols": {
    "lenName": 16,
    "lenType": 16,
    "lenVar": 40
   },
   "kernels_config": {
    "python": {
     "delete_cmd_postfix": "",
     "delete_cmd_prefix": "del ",
     "library": "var_list.py",
     "varRefreshCmd": "print(var_dic_list())"
    },
    "r": {
     "delete_cmd_postfix": ") ",
     "delete_cmd_prefix": "rm(",
     "library": "var_list.r",
     "varRefreshCmd": "cat(var_dic_list()) "
    }
   },
   "types_to_exclude": [
    "module",
    "function",
    "builtin_function_or_method",
    "instance",
    "_Feature"
   ],
   "window_display": false
  }
 },
 "nbformat": 4,
 "nbformat_minor": 4
}
