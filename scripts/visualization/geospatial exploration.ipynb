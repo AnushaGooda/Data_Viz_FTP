{
 "cells": [
  {
   "cell_type": "markdown",
   "metadata": {},
   "source": [
    "# Import relevant libraries"
   ]
  },
  {
   "cell_type": "code",
   "execution_count": 1,
   "metadata": {
    "ExecuteTime": {
     "end_time": "2020-11-27T11:55:20.887580Z",
     "start_time": "2020-11-27T11:55:19.991393Z"
    }
   },
   "outputs": [],
   "source": [
    "import os\n",
    "import json\n",
    "import matplotlib.pyplot as plt \n",
    "import pandas as pd\n",
    "import geopandas as gpd\n",
    "import shapely\n",
    "from shapely.geometry import Polygon\n",
    "from pyproj import CRS\n",
    "from shapely.geometry import Point\n",
    "import contextily as ctx"
   ]
  },
  {
   "cell_type": "markdown",
   "metadata": {},
   "source": [
    "# Load UK shape file"
   ]
  },
  {
   "cell_type": "code",
   "execution_count": 2,
   "metadata": {
    "ExecuteTime": {
     "end_time": "2020-11-27T11:55:21.447575Z",
     "start_time": "2020-11-27T11:55:20.889533Z"
    }
   },
   "outputs": [],
   "source": [
    "# load geodata\n",
    "uk = gpd.read_file(\"http://martinjc.github.io/UK-GeoJSON/json/eng/topo_lad.json\")\n",
    "\n",
    "# set Coordinate Reference Systems\n",
    "crs_4326 = CRS(\"epsg:4326\")\n",
    "crs_4326\n",
    "uk.crs = crs_4326"
   ]
  },
  {
   "cell_type": "code",
   "execution_count": 3,
   "metadata": {
    "ExecuteTime": {
     "end_time": "2020-11-27T11:55:21.456304Z",
     "start_time": "2020-11-27T11:55:21.449135Z"
    }
   },
   "outputs": [
    {
     "data": {
      "text/plain": [
       "<Geographic 2D CRS: EPSG:4326>\n",
       "Name: WGS 84\n",
       "Axis Info [ellipsoidal]:\n",
       "- Lat[north]: Geodetic latitude (degree)\n",
       "- Lon[east]: Geodetic longitude (degree)\n",
       "Area of Use:\n",
       "- name: World.\n",
       "- bounds: (-180.0, -90.0, 180.0, 90.0)\n",
       "Datum: World Geodetic System 1984\n",
       "- Ellipsoid: WGS 84\n",
       "- Prime Meridian: Greenwich"
      ]
     },
     "execution_count": 3,
     "metadata": {},
     "output_type": "execute_result"
    }
   ],
   "source": [
    "uk.crs"
   ]
  },
  {
   "cell_type": "code",
   "execution_count": 4,
   "metadata": {
    "ExecuteTime": {
     "end_time": "2020-11-27T11:55:21.561128Z",
     "start_time": "2020-11-27T11:55:21.458118Z"
    }
   },
   "outputs": [
    {
     "data": {
      "text/html": [
       "<div>\n",
       "<style scoped>\n",
       "    .dataframe tbody tr th:only-of-type {\n",
       "        vertical-align: middle;\n",
       "    }\n",
       "\n",
       "    .dataframe tbody tr th {\n",
       "        vertical-align: top;\n",
       "    }\n",
       "\n",
       "    .dataframe thead th {\n",
       "        text-align: right;\n",
       "    }\n",
       "</style>\n",
       "<table border=\"1\" class=\"dataframe\">\n",
       "  <thead>\n",
       "    <tr style=\"text-align: right;\">\n",
       "      <th></th>\n",
       "      <th>id</th>\n",
       "      <th>LAD13CD</th>\n",
       "      <th>LAD13CDO</th>\n",
       "      <th>LAD13NM</th>\n",
       "      <th>LAD13NMW</th>\n",
       "      <th>geometry</th>\n",
       "    </tr>\n",
       "  </thead>\n",
       "  <tbody>\n",
       "    <tr>\n",
       "      <th>0</th>\n",
       "      <td>E06000001</td>\n",
       "      <td>E06000001</td>\n",
       "      <td>00EB</td>\n",
       "      <td>Hartlepool</td>\n",
       "      <td>None</td>\n",
       "      <td>MULTIPOLYGON (((-1.24244 54.72219, -1.24162 54...</td>\n",
       "    </tr>\n",
       "    <tr>\n",
       "      <th>1</th>\n",
       "      <td>E06000002</td>\n",
       "      <td>E06000002</td>\n",
       "      <td>00EC</td>\n",
       "      <td>Middlesbrough</td>\n",
       "      <td>None</td>\n",
       "      <td>MULTIPOLYGON (((-1.19744 54.58184, -1.19416 54...</td>\n",
       "    </tr>\n",
       "    <tr>\n",
       "      <th>2</th>\n",
       "      <td>E06000003</td>\n",
       "      <td>E06000003</td>\n",
       "      <td>00EE</td>\n",
       "      <td>Redcar and Cleveland</td>\n",
       "      <td>None</td>\n",
       "      <td>MULTIPOLYGON (((-1.20071 54.57768, -1.19989 54...</td>\n",
       "    </tr>\n",
       "    <tr>\n",
       "      <th>3</th>\n",
       "      <td>E06000004</td>\n",
       "      <td>E06000004</td>\n",
       "      <td>00EF</td>\n",
       "      <td>Stockton-on-Tees</td>\n",
       "      <td>None</td>\n",
       "      <td>MULTIPOLYGON (((-1.28171 54.56460, -1.27762 54...</td>\n",
       "    </tr>\n",
       "    <tr>\n",
       "      <th>4</th>\n",
       "      <td>E06000005</td>\n",
       "      <td>E06000005</td>\n",
       "      <td>00EH</td>\n",
       "      <td>Darlington</td>\n",
       "      <td>None</td>\n",
       "      <td>POLYGON ((-1.43800 54.59493, -1.43554 54.59552...</td>\n",
       "    </tr>\n",
       "    <tr>\n",
       "      <th>...</th>\n",
       "      <td>...</td>\n",
       "      <td>...</td>\n",
       "      <td>...</td>\n",
       "      <td>...</td>\n",
       "      <td>...</td>\n",
       "      <td>...</td>\n",
       "    </tr>\n",
       "    <tr>\n",
       "      <th>321</th>\n",
       "      <td>E09000029</td>\n",
       "      <td>E09000029</td>\n",
       "      <td>00BF</td>\n",
       "      <td>Sutton</td>\n",
       "      <td>None</td>\n",
       "      <td>POLYGON ((-0.13456 51.39073, -0.13292 51.39013...</td>\n",
       "    </tr>\n",
       "    <tr>\n",
       "      <th>322</th>\n",
       "      <td>E09000030</td>\n",
       "      <td>E09000030</td>\n",
       "      <td>00BG</td>\n",
       "      <td>Tower Hamlets</td>\n",
       "      <td>None</td>\n",
       "      <td>POLYGON ((-0.01673 51.54356, -0.01591 51.54237...</td>\n",
       "    </tr>\n",
       "    <tr>\n",
       "      <th>323</th>\n",
       "      <td>E09000031</td>\n",
       "      <td>E09000031</td>\n",
       "      <td>00BH</td>\n",
       "      <td>Waltham Forest</td>\n",
       "      <td>None</td>\n",
       "      <td>POLYGON ((0.02172 51.62861, 0.02091 51.62920, ...</td>\n",
       "    </tr>\n",
       "    <tr>\n",
       "      <th>324</th>\n",
       "      <td>E09000032</td>\n",
       "      <td>E09000032</td>\n",
       "      <td>00BJ</td>\n",
       "      <td>Wandsworth</td>\n",
       "      <td>None</td>\n",
       "      <td>POLYGON ((-0.14028 51.41927, -0.14438 51.41749...</td>\n",
       "    </tr>\n",
       "    <tr>\n",
       "      <th>325</th>\n",
       "      <td>E09000033</td>\n",
       "      <td>E09000033</td>\n",
       "      <td>00BK</td>\n",
       "      <td>Westminster</td>\n",
       "      <td>None</td>\n",
       "      <td>POLYGON ((-0.11165 51.51561, -0.11083 51.51383...</td>\n",
       "    </tr>\n",
       "  </tbody>\n",
       "</table>\n",
       "<p>326 rows × 6 columns</p>\n",
       "</div>"
      ],
      "text/plain": [
       "            id    LAD13CD LAD13CDO               LAD13NM LAD13NMW  \\\n",
       "0    E06000001  E06000001     00EB            Hartlepool     None   \n",
       "1    E06000002  E06000002     00EC         Middlesbrough     None   \n",
       "2    E06000003  E06000003     00EE  Redcar and Cleveland     None   \n",
       "3    E06000004  E06000004     00EF      Stockton-on-Tees     None   \n",
       "4    E06000005  E06000005     00EH            Darlington     None   \n",
       "..         ...        ...      ...                   ...      ...   \n",
       "321  E09000029  E09000029     00BF                Sutton     None   \n",
       "322  E09000030  E09000030     00BG         Tower Hamlets     None   \n",
       "323  E09000031  E09000031     00BH        Waltham Forest     None   \n",
       "324  E09000032  E09000032     00BJ            Wandsworth     None   \n",
       "325  E09000033  E09000033     00BK           Westminster     None   \n",
       "\n",
       "                                              geometry  \n",
       "0    MULTIPOLYGON (((-1.24244 54.72219, -1.24162 54...  \n",
       "1    MULTIPOLYGON (((-1.19744 54.58184, -1.19416 54...  \n",
       "2    MULTIPOLYGON (((-1.20071 54.57768, -1.19989 54...  \n",
       "3    MULTIPOLYGON (((-1.28171 54.56460, -1.27762 54...  \n",
       "4    POLYGON ((-1.43800 54.59493, -1.43554 54.59552...  \n",
       "..                                                 ...  \n",
       "321  POLYGON ((-0.13456 51.39073, -0.13292 51.39013...  \n",
       "322  POLYGON ((-0.01673 51.54356, -0.01591 51.54237...  \n",
       "323  POLYGON ((0.02172 51.62861, 0.02091 51.62920, ...  \n",
       "324  POLYGON ((-0.14028 51.41927, -0.14438 51.41749...  \n",
       "325  POLYGON ((-0.11165 51.51561, -0.11083 51.51383...  \n",
       "\n",
       "[326 rows x 6 columns]"
      ]
     },
     "execution_count": 4,
     "metadata": {},
     "output_type": "execute_result"
    }
   ],
   "source": [
    "uk"
   ]
  },
  {
   "cell_type": "code",
   "execution_count": 5,
   "metadata": {
    "ExecuteTime": {
     "end_time": "2020-11-27T11:55:21.571966Z",
     "start_time": "2020-11-27T11:55:21.562466Z"
    }
   },
   "outputs": [
    {
     "name": "stderr",
     "output_type": "stream",
     "text": [
      "/home/voravich/anaconda3/envs/smm635/lib/python3.8/site-packages/pandas/core/frame.py:4296: SettingWithCopyWarning: \n",
      "A value is trying to be set on a copy of a slice from a DataFrame\n",
      "\n",
      "See the caveats in the documentation: https://pandas.pydata.org/pandas-docs/stable/user_guide/indexing.html#returning-a-view-versus-a-copy\n",
      "  return super().rename(\n"
     ]
    }
   ],
   "source": [
    "# select only relevant columns\n",
    "uk = uk[['LAD13NM', 'geometry']]\n",
    "# rename column\n",
    "uk.rename(columns = {'LAD13NM': 'district'}, inplace = True)"
   ]
  },
  {
   "cell_type": "code",
   "execution_count": 6,
   "metadata": {
    "ExecuteTime": {
     "end_time": "2020-11-27T11:55:21.649079Z",
     "start_time": "2020-11-27T11:55:21.573271Z"
    }
   },
   "outputs": [
    {
     "data": {
      "text/html": [
       "<div>\n",
       "<style scoped>\n",
       "    .dataframe tbody tr th:only-of-type {\n",
       "        vertical-align: middle;\n",
       "    }\n",
       "\n",
       "    .dataframe tbody tr th {\n",
       "        vertical-align: top;\n",
       "    }\n",
       "\n",
       "    .dataframe thead th {\n",
       "        text-align: right;\n",
       "    }\n",
       "</style>\n",
       "<table border=\"1\" class=\"dataframe\">\n",
       "  <thead>\n",
       "    <tr style=\"text-align: right;\">\n",
       "      <th></th>\n",
       "      <th>district</th>\n",
       "      <th>geometry</th>\n",
       "    </tr>\n",
       "  </thead>\n",
       "  <tbody>\n",
       "    <tr>\n",
       "      <th>0</th>\n",
       "      <td>Hartlepool</td>\n",
       "      <td>MULTIPOLYGON (((-1.24244 54.72219, -1.24162 54...</td>\n",
       "    </tr>\n",
       "    <tr>\n",
       "      <th>1</th>\n",
       "      <td>Middlesbrough</td>\n",
       "      <td>MULTIPOLYGON (((-1.19744 54.58184, -1.19416 54...</td>\n",
       "    </tr>\n",
       "    <tr>\n",
       "      <th>2</th>\n",
       "      <td>Redcar and Cleveland</td>\n",
       "      <td>MULTIPOLYGON (((-1.20071 54.57768, -1.19989 54...</td>\n",
       "    </tr>\n",
       "    <tr>\n",
       "      <th>3</th>\n",
       "      <td>Stockton-on-Tees</td>\n",
       "      <td>MULTIPOLYGON (((-1.28171 54.56460, -1.27762 54...</td>\n",
       "    </tr>\n",
       "    <tr>\n",
       "      <th>4</th>\n",
       "      <td>Darlington</td>\n",
       "      <td>POLYGON ((-1.43800 54.59493, -1.43554 54.59552...</td>\n",
       "    </tr>\n",
       "  </tbody>\n",
       "</table>\n",
       "</div>"
      ],
      "text/plain": [
       "               district                                           geometry\n",
       "0            Hartlepool  MULTIPOLYGON (((-1.24244 54.72219, -1.24162 54...\n",
       "1         Middlesbrough  MULTIPOLYGON (((-1.19744 54.58184, -1.19416 54...\n",
       "2  Redcar and Cleveland  MULTIPOLYGON (((-1.20071 54.57768, -1.19989 54...\n",
       "3      Stockton-on-Tees  MULTIPOLYGON (((-1.28171 54.56460, -1.27762 54...\n",
       "4            Darlington  POLYGON ((-1.43800 54.59493, -1.43554 54.59552..."
      ]
     },
     "execution_count": 6,
     "metadata": {},
     "output_type": "execute_result"
    }
   ],
   "source": [
    "uk.head()"
   ]
  },
  {
   "cell_type": "code",
   "execution_count": 7,
   "metadata": {
    "ExecuteTime": {
     "end_time": "2020-11-27T11:55:22.191733Z",
     "start_time": "2020-11-27T11:55:21.650609Z"
    }
   },
   "outputs": [
    {
     "data": {
      "text/plain": [
       "<AxesSubplot:>"
      ]
     },
     "execution_count": 7,
     "metadata": {},
     "output_type": "execute_result"
    },
    {
     "data": {
      "image/png": "[encoded data removed]",
      "text/plain": [
       "<Figure size 432x288 with 1 Axes>"
      ]
     },
     "metadata": {
      "needs_background": "light"
     },
     "output_type": "display_data"
    }
   ],
   "source": [
    "uk.plot()"
   ]
  },
  {
   "cell_type": "markdown",
   "metadata": {},
   "source": [
    "# Load tech roundabout data"
   ]
  },
  {
   "cell_type": "code",
   "execution_count": 8,
   "metadata": {
    "ExecuteTime": {
     "end_time": "2020-11-27T11:55:22.385583Z",
     "start_time": "2020-11-27T11:55:22.194687Z"
    }
   },
   "outputs": [],
   "source": [
    "# set file path\n",
    "base_path = '../..'\n",
    "file_path = os.path.join(base_path, 'datasets', 'tech_roundabout_coordinates.csv')\n",
    "\n",
    "# load data\n",
    "tech_roundabout = pd.read_csv(file_path)"
   ]
  },
  {
   "cell_type": "code",
   "execution_count": 9,
   "metadata": {
    "ExecuteTime": {
     "end_time": "2020-11-27T11:55:22.429934Z",
     "start_time": "2020-11-27T11:55:22.388632Z"
    }
   },
   "outputs": [
    {
     "data": {
      "text/plain": [
       "251"
      ]
     },
     "execution_count": 9,
     "metadata": {},
     "output_type": "execute_result"
    }
   ],
   "source": [
    "sum(tech_roundabout['RegAddress.PostCode'] == 'EC2N 1HQ')"
   ]
  },
  {
   "cell_type": "code",
   "execution_count": 10,
   "metadata": {
    "ExecuteTime": {
     "end_time": "2020-11-27T11:55:24.055436Z",
     "start_time": "2020-11-27T11:55:22.431634Z"
    }
   },
   "outputs": [],
   "source": [
    "# set-up coordinates\n",
    "tech_roundabout_coordinates = tech_roundabout[['CompanyName', 'latitude', 'longitude']]\n",
    "\n",
    "tech_roundabout_coordinates = gpd.GeoDataFrame(\n",
    "    tech_roundabout_coordinates.drop(['latitude','longitude'], axis = 1),\n",
    "    geometry=[Point(xy) for xy in zip(tech_roundabout_coordinates.longitude,\n",
    "                                      tech_roundabout_coordinates.latitude)])"
   ]
  },
  {
   "cell_type": "code",
   "execution_count": 11,
   "metadata": {
    "ExecuteTime": {
     "end_time": "2020-11-27T11:55:24.059329Z",
     "start_time": "2020-11-27T11:55:24.056923Z"
    }
   },
   "outputs": [],
   "source": [
    "# project to epsg:4326\n",
    "tech_roundabout_coordinates.crs = crs_4326"
   ]
  },
  {
   "cell_type": "code",
   "execution_count": 12,
   "metadata": {
    "ExecuteTime": {
     "end_time": "2020-11-27T11:55:24.102783Z",
     "start_time": "2020-11-27T11:55:24.060697Z"
    }
   },
   "outputs": [
    {
     "data": {
      "text/html": [
       "<div>\n",
       "<style scoped>\n",
       "    .dataframe tbody tr th:only-of-type {\n",
       "        vertical-align: middle;\n",
       "    }\n",
       "\n",
       "    .dataframe tbody tr th {\n",
       "        vertical-align: top;\n",
       "    }\n",
       "\n",
       "    .dataframe thead th {\n",
       "        text-align: right;\n",
       "    }\n",
       "</style>\n",
       "<table border=\"1\" class=\"dataframe\">\n",
       "  <thead>\n",
       "    <tr style=\"text-align: right;\">\n",
       "      <th></th>\n",
       "      <th>CompanyName</th>\n",
       "      <th>geometry</th>\n",
       "    </tr>\n",
       "  </thead>\n",
       "  <tbody>\n",
       "    <tr>\n",
       "      <th>0</th>\n",
       "      <td>!BIG IMPACT GRAPHICS LIMITED</td>\n",
       "      <td>POINT (-0.07869 51.52702)</td>\n",
       "    </tr>\n",
       "    <tr>\n",
       "      <th>1</th>\n",
       "      <td>\"K\" LINE (EUROPE) LIMITED</td>\n",
       "      <td>POINT (-0.09736 51.51757)</td>\n",
       "    </tr>\n",
       "    <tr>\n",
       "      <th>2</th>\n",
       "      <td>\"K\" LINE BULK SHIPPING (UK) LIMITED</td>\n",
       "      <td>POINT (-0.09736 51.51757)</td>\n",
       "    </tr>\n",
       "    <tr>\n",
       "      <th>3</th>\n",
       "      <td>\"K\" LINE HOLDING (EUROPE) LIMITED</td>\n",
       "      <td>POINT (-0.09736 51.51757)</td>\n",
       "    </tr>\n",
       "    <tr>\n",
       "      <th>4</th>\n",
       "      <td>\"K\" LINE LNG SHIPPING (UK) LIMITED</td>\n",
       "      <td>POINT (-0.09736 51.51757)</td>\n",
       "    </tr>\n",
       "  </tbody>\n",
       "</table>\n",
       "</div>"
      ],
      "text/plain": [
       "                           CompanyName                   geometry\n",
       "0         !BIG IMPACT GRAPHICS LIMITED  POINT (-0.07869 51.52702)\n",
       "1            \"K\" LINE (EUROPE) LIMITED  POINT (-0.09736 51.51757)\n",
       "2  \"K\" LINE BULK SHIPPING (UK) LIMITED  POINT (-0.09736 51.51757)\n",
       "3    \"K\" LINE HOLDING (EUROPE) LIMITED  POINT (-0.09736 51.51757)\n",
       "4   \"K\" LINE LNG SHIPPING (UK) LIMITED  POINT (-0.09736 51.51757)"
      ]
     },
     "execution_count": 12,
     "metadata": {},
     "output_type": "execute_result"
    }
   ],
   "source": [
    "tech_roundabout_coordinates.head()"
   ]
  },
  {
   "cell_type": "markdown",
   "metadata": {},
   "source": [
    "# Spatial join"
   ]
  },
  {
   "cell_type": "code",
   "execution_count": 13,
   "metadata": {
    "ExecuteTime": {
     "end_time": "2020-11-27T11:55:32.069576Z",
     "start_time": "2020-11-27T11:55:24.104406Z"
    }
   },
   "outputs": [],
   "source": [
    "# get district\n",
    "tech_roundabout_full = gpd.sjoin(tech_roundabout_coordinates, uk,\n",
    "                                 how = 'left', op = 'within').drop(columns = 'index_right')"
   ]
  },
  {
   "cell_type": "code",
   "execution_count": 14,
   "metadata": {
    "ExecuteTime": {
     "end_time": "2020-11-27T11:55:32.107415Z",
     "start_time": "2020-11-27T11:55:32.070975Z"
    }
   },
   "outputs": [],
   "source": [
    "# remove data points that are not in the uk --- bug when request for coordinate\n",
    "tech_roundabout_full = tech_roundabout_full[~tech_roundabout_full.district.isna()]"
   ]
  },
  {
   "cell_type": "code",
   "execution_count": 15,
   "metadata": {
    "ExecuteTime": {
     "end_time": "2020-11-27T11:55:32.153529Z",
     "start_time": "2020-11-27T11:55:32.109008Z"
    }
   },
   "outputs": [],
   "source": [
    "# remove irrelevant data point --- postcode provided cannot be found on Google Map\n",
    "tech_roundabout_full = tech_roundabout_full[~tech_roundabout_full['district'].isin(['Brentwood', 'Sheffield'])]"
   ]
  },
  {
   "cell_type": "code",
   "execution_count": 16,
   "metadata": {
    "ExecuteTime": {
     "end_time": "2020-11-27T11:55:32.181553Z",
     "start_time": "2020-11-27T11:55:32.155651Z"
    }
   },
   "outputs": [
    {
     "data": {
      "text/html": [
       "<div>\n",
       "<style scoped>\n",
       "    .dataframe tbody tr th:only-of-type {\n",
       "        vertical-align: middle;\n",
       "    }\n",
       "\n",
       "    .dataframe tbody tr th {\n",
       "        vertical-align: top;\n",
       "    }\n",
       "\n",
       "    .dataframe thead th {\n",
       "        text-align: right;\n",
       "    }\n",
       "</style>\n",
       "<table border=\"1\" class=\"dataframe\">\n",
       "  <thead>\n",
       "    <tr style=\"text-align: right;\">\n",
       "      <th></th>\n",
       "      <th>CompanyName</th>\n",
       "      <th>geometry</th>\n",
       "      <th>district</th>\n",
       "    </tr>\n",
       "  </thead>\n",
       "  <tbody>\n",
       "    <tr>\n",
       "      <th>0</th>\n",
       "      <td>!BIG IMPACT GRAPHICS LIMITED</td>\n",
       "      <td>POINT (-0.07869 51.52702)</td>\n",
       "      <td>Hackney</td>\n",
       "    </tr>\n",
       "    <tr>\n",
       "      <th>1</th>\n",
       "      <td>\"K\" LINE (EUROPE) LIMITED</td>\n",
       "      <td>POINT (-0.09736 51.51757)</td>\n",
       "      <td>City of London</td>\n",
       "    </tr>\n",
       "    <tr>\n",
       "      <th>2</th>\n",
       "      <td>\"K\" LINE BULK SHIPPING (UK) LIMITED</td>\n",
       "      <td>POINT (-0.09736 51.51757)</td>\n",
       "      <td>City of London</td>\n",
       "    </tr>\n",
       "    <tr>\n",
       "      <th>3</th>\n",
       "      <td>\"K\" LINE HOLDING (EUROPE) LIMITED</td>\n",
       "      <td>POINT (-0.09736 51.51757)</td>\n",
       "      <td>City of London</td>\n",
       "    </tr>\n",
       "    <tr>\n",
       "      <th>4</th>\n",
       "      <td>\"K\" LINE LNG SHIPPING (UK) LIMITED</td>\n",
       "      <td>POINT (-0.09736 51.51757)</td>\n",
       "      <td>City of London</td>\n",
       "    </tr>\n",
       "  </tbody>\n",
       "</table>\n",
       "</div>"
      ],
      "text/plain": [
       "                           CompanyName                   geometry  \\\n",
       "0         !BIG IMPACT GRAPHICS LIMITED  POINT (-0.07869 51.52702)   \n",
       "1            \"K\" LINE (EUROPE) LIMITED  POINT (-0.09736 51.51757)   \n",
       "2  \"K\" LINE BULK SHIPPING (UK) LIMITED  POINT (-0.09736 51.51757)   \n",
       "3    \"K\" LINE HOLDING (EUROPE) LIMITED  POINT (-0.09736 51.51757)   \n",
       "4   \"K\" LINE LNG SHIPPING (UK) LIMITED  POINT (-0.09736 51.51757)   \n",
       "\n",
       "         district  \n",
       "0         Hackney  \n",
       "1  City of London  \n",
       "2  City of London  \n",
       "3  City of London  \n",
       "4  City of London  "
      ]
     },
     "execution_count": 16,
     "metadata": {},
     "output_type": "execute_result"
    }
   ],
   "source": [
    "tech_roundabout_full.head()"
   ]
  },
  {
   "cell_type": "markdown",
   "metadata": {},
   "source": [
    "# Visualize data"
   ]
  },
  {
   "cell_type": "code",
   "execution_count": 17,
   "metadata": {
    "ExecuteTime": {
     "end_time": "2020-11-27T11:55:32.228287Z",
     "start_time": "2020-11-27T11:55:32.183121Z"
    }
   },
   "outputs": [],
   "source": [
    "tech_roundabout_district = uk[uk['district'].isin(tech_roundabout_full['district'].unique())]"
   ]
  },
  {
   "cell_type": "code",
   "execution_count": 18,
   "metadata": {
    "ExecuteTime": {
     "end_time": "2020-11-27T11:55:32.263642Z",
     "start_time": "2020-11-27T11:55:32.229846Z"
    }
   },
   "outputs": [
    {
     "data": {
      "text/html": [
       "<div>\n",
       "<style scoped>\n",
       "    .dataframe tbody tr th:only-of-type {\n",
       "        vertical-align: middle;\n",
       "    }\n",
       "\n",
       "    .dataframe tbody tr th {\n",
       "        vertical-align: top;\n",
       "    }\n",
       "\n",
       "    .dataframe thead th {\n",
       "        text-align: right;\n",
       "    }\n",
       "</style>\n",
       "<table border=\"1\" class=\"dataframe\">\n",
       "  <thead>\n",
       "    <tr style=\"text-align: right;\">\n",
       "      <th></th>\n",
       "      <th>district</th>\n",
       "      <th>geometry</th>\n",
       "    </tr>\n",
       "  </thead>\n",
       "  <tbody>\n",
       "    <tr>\n",
       "      <th>293</th>\n",
       "      <td>City of London</td>\n",
       "      <td>POLYGON ((-0.08546 51.52037, -0.08301 51.51978...</td>\n",
       "    </tr>\n",
       "    <tr>\n",
       "      <th>299</th>\n",
       "      <td>Camden</td>\n",
       "      <td>POLYGON ((-0.14274 51.56914, -0.14028 51.56438...</td>\n",
       "    </tr>\n",
       "    <tr>\n",
       "      <th>304</th>\n",
       "      <td>Hackney</td>\n",
       "      <td>POLYGON ((-0.06092 51.57806, -0.05846 51.57270...</td>\n",
       "    </tr>\n",
       "    <tr>\n",
       "      <th>311</th>\n",
       "      <td>Islington</td>\n",
       "      <td>POLYGON ((-0.10428 51.56497, -0.09856 51.56081...</td>\n",
       "    </tr>\n",
       "    <tr>\n",
       "      <th>322</th>\n",
       "      <td>Tower Hamlets</td>\n",
       "      <td>POLYGON ((-0.01673 51.54356, -0.01591 51.54237...</td>\n",
       "    </tr>\n",
       "  </tbody>\n",
       "</table>\n",
       "</div>"
      ],
      "text/plain": [
       "           district                                           geometry\n",
       "293  City of London  POLYGON ((-0.08546 51.52037, -0.08301 51.51978...\n",
       "299          Camden  POLYGON ((-0.14274 51.56914, -0.14028 51.56438...\n",
       "304         Hackney  POLYGON ((-0.06092 51.57806, -0.05846 51.57270...\n",
       "311       Islington  POLYGON ((-0.10428 51.56497, -0.09856 51.56081...\n",
       "322   Tower Hamlets  POLYGON ((-0.01673 51.54356, -0.01591 51.54237..."
      ]
     },
     "execution_count": 18,
     "metadata": {},
     "output_type": "execute_result"
    }
   ],
   "source": [
    "tech_roundabout_district"
   ]
  },
  {
   "cell_type": "code",
   "execution_count": 40,
   "metadata": {
    "ExecuteTime": {
     "end_time": "2020-11-27T12:05:47.276895Z",
     "start_time": "2020-11-27T12:05:33.798712Z"
    }
   },
   "outputs": [
    {
     "data": {
      "image/png": "[encoded data removed]",
      "text/plain": [
       "<Figure size 576x576 with 1 Axes>"
      ]
     },
     "metadata": {
      "needs_background": "light"
     },
     "output_type": "display_data"
    }
   ],
   "source": [
    "fig, ax = plt.subplots(figsize = (8, 8))\n",
    "\n",
    "ax.set_aspect('equal')\n",
    "uk.plot(ax=ax, color='white', edgecolor='black')\n",
    "tech_roundabout_full.plot(ax=ax, marker='o', color='red', markersize=5)\n",
    "\n",
    "# set boundary\n",
    "xmin, ymin, xmax, ymax = tech_roundabout_full.total_bounds\n",
    "x_adj = abs((xmax - xmin) / 4)\n",
    "y_adj = abs((ymax - ymin) / 4)\n",
    "xlim = (xmin - x_adj, xmax + x_adj)\n",
    "ylim = (ymin - y_adj, ymax + y_adj)\n",
    "\n",
    "ax.set_xlim(xlim)\n",
    "ax.set_ylim(ylim)\n",
    "\n",
    "plt.show()"
   ]
  },
  {
   "cell_type": "code",
   "execution_count": 41,
   "metadata": {
    "ExecuteTime": {
     "end_time": "2020-11-27T12:06:29.920505Z",
     "start_time": "2020-11-27T12:06:29.905216Z"
    }
   },
   "outputs": [
    {
     "data": {
      "text/html": [
       "<div>\n",
       "<style scoped>\n",
       "    .dataframe tbody tr th:only-of-type {\n",
       "        vertical-align: middle;\n",
       "    }\n",
       "\n",
       "    .dataframe tbody tr th {\n",
       "        vertical-align: top;\n",
       "    }\n",
       "\n",
       "    .dataframe thead th {\n",
       "        text-align: right;\n",
       "    }\n",
       "</style>\n",
       "<table border=\"1\" class=\"dataframe\">\n",
       "  <thead>\n",
       "    <tr style=\"text-align: right;\">\n",
       "      <th></th>\n",
       "      <th>CompanyName</th>\n",
       "      <th>RegAddress.PostCode</th>\n",
       "      <th>RegAddress.PostTown</th>\n",
       "      <th>latitude</th>\n",
       "      <th>longitude</th>\n",
       "    </tr>\n",
       "  </thead>\n",
       "  <tbody>\n",
       "    <tr>\n",
       "      <th>0</th>\n",
       "      <td>!BIG IMPACT GRAPHICS LIMITED</td>\n",
       "      <td>EC1V 9LT</td>\n",
       "      <td>LONDON</td>\n",
       "      <td>51.527024</td>\n",
       "      <td>-0.078695</td>\n",
       "    </tr>\n",
       "    <tr>\n",
       "      <th>1</th>\n",
       "      <td>\"K\" LINE (EUROPE) LIMITED</td>\n",
       "      <td>EC1A 4HD</td>\n",
       "      <td>LONDON</td>\n",
       "      <td>51.517573</td>\n",
       "      <td>-0.097357</td>\n",
       "    </tr>\n",
       "    <tr>\n",
       "      <th>2</th>\n",
       "      <td>\"K\" LINE BULK SHIPPING (UK) LIMITED</td>\n",
       "      <td>EC1A 4HD</td>\n",
       "      <td>LONDON</td>\n",
       "      <td>51.517573</td>\n",
       "      <td>-0.097357</td>\n",
       "    </tr>\n",
       "    <tr>\n",
       "      <th>3</th>\n",
       "      <td>\"K\" LINE HOLDING (EUROPE) LIMITED</td>\n",
       "      <td>EC1A 4HD</td>\n",
       "      <td>LONDON</td>\n",
       "      <td>51.517573</td>\n",
       "      <td>-0.097357</td>\n",
       "    </tr>\n",
       "    <tr>\n",
       "      <th>4</th>\n",
       "      <td>\"K\" LINE LNG SHIPPING (UK) LIMITED</td>\n",
       "      <td>EC1A 4HD</td>\n",
       "      <td>LONDON</td>\n",
       "      <td>51.517573</td>\n",
       "      <td>-0.097357</td>\n",
       "    </tr>\n",
       "    <tr>\n",
       "      <th>...</th>\n",
       "      <td>...</td>\n",
       "      <td>...</td>\n",
       "      <td>...</td>\n",
       "      <td>...</td>\n",
       "      <td>...</td>\n",
       "    </tr>\n",
       "    <tr>\n",
       "      <th>97964</th>\n",
       "      <td>ÉCLAT CENTURY SERVICES LIMITED</td>\n",
       "      <td>EC1V 2NX</td>\n",
       "      <td>LONDON</td>\n",
       "      <td>51.527246</td>\n",
       "      <td>-0.088808</td>\n",
       "    </tr>\n",
       "    <tr>\n",
       "      <th>97965</th>\n",
       "      <td>ÉLEVAGE JOLIVET LTD</td>\n",
       "      <td>EC1V 2NX</td>\n",
       "      <td>LONDON</td>\n",
       "      <td>51.527246</td>\n",
       "      <td>-0.088808</td>\n",
       "    </tr>\n",
       "    <tr>\n",
       "      <th>97966</th>\n",
       "      <td>ÜVIEW LIMITED</td>\n",
       "      <td>EC2A 4NE</td>\n",
       "      <td>LONDON</td>\n",
       "      <td>51.525590</td>\n",
       "      <td>-0.083715</td>\n",
       "    </tr>\n",
       "    <tr>\n",
       "      <th>97967</th>\n",
       "      <td>‘ADORE BOURNEMOUTH LTD</td>\n",
       "      <td>EC2A 3AR</td>\n",
       "      <td>LONDON</td>\n",
       "      <td>51.526394</td>\n",
       "      <td>-0.080132</td>\n",
       "    </tr>\n",
       "    <tr>\n",
       "      <th>97968</th>\n",
       "      <td>“SAIL IN GREECE ADVENTURES” LTD</td>\n",
       "      <td>EC1A 2BN</td>\n",
       "      <td>LONDON</td>\n",
       "      <td>51.517369</td>\n",
       "      <td>-0.104527</td>\n",
       "    </tr>\n",
       "  </tbody>\n",
       "</table>\n",
       "<p>97969 rows × 5 columns</p>\n",
       "</div>"
      ],
      "text/plain": [
       "                               CompanyName RegAddress.PostCode  \\\n",
       "0             !BIG IMPACT GRAPHICS LIMITED            EC1V 9LT   \n",
       "1                \"K\" LINE (EUROPE) LIMITED            EC1A 4HD   \n",
       "2      \"K\" LINE BULK SHIPPING (UK) LIMITED            EC1A 4HD   \n",
       "3        \"K\" LINE HOLDING (EUROPE) LIMITED            EC1A 4HD   \n",
       "4       \"K\" LINE LNG SHIPPING (UK) LIMITED            EC1A 4HD   \n",
       "...                                    ...                 ...   \n",
       "97964       ÉCLAT CENTURY SERVICES LIMITED            EC1V 2NX   \n",
       "97965                  ÉLEVAGE JOLIVET LTD            EC1V 2NX   \n",
       "97966                        ÜVIEW LIMITED            EC2A 4NE   \n",
       "97967               ‘ADORE BOURNEMOUTH LTD            EC2A 3AR   \n",
       "97968      “SAIL IN GREECE ADVENTURES” LTD            EC1A 2BN   \n",
       "\n",
       "      RegAddress.PostTown   latitude  longitude  \n",
       "0                  LONDON  51.527024  -0.078695  \n",
       "1                  LONDON  51.517573  -0.097357  \n",
       "2                  LONDON  51.517573  -0.097357  \n",
       "3                  LONDON  51.517573  -0.097357  \n",
       "4                  LONDON  51.517573  -0.097357  \n",
       "...                   ...        ...        ...  \n",
       "97964              LONDON  51.527246  -0.088808  \n",
       "97965              LONDON  51.527246  -0.088808  \n",
       "97966              LONDON  51.525590  -0.083715  \n",
       "97967              LONDON  51.526394  -0.080132  \n",
       "97968              LONDON  51.517369  -0.104527  \n",
       "\n",
       "[97969 rows x 5 columns]"
      ]
     },
     "execution_count": 41,
     "metadata": {},
     "output_type": "execute_result"
    }
   ],
   "source": [
    "tech_roundabout"
   ]
  },
  {
   "cell_type": "code",
   "execution_count": null,
   "metadata": {},
   "outputs": [],
   "source": []
  }
 ],
 "metadata": {
  "kernelspec": {
   "display_name": "Python [conda env:smm635]",
   "language": "python",
   "name": "conda-env-smm635-py"
  },
  "language_info": {
   "codemirror_mode": {
    "name": "ipython",
    "version": 3
   },
   "file_extension": ".py",
   "mimetype": "text/x-python",
   "name": "python",
   "nbconvert_exporter": "python",
   "pygments_lexer": "ipython3",
   "version": "3.8.5"
  },
  "latex_envs": {
   "LaTeX_envs_menu_present": true,
   "autoclose": false,
   "autocomplete": true,
   "bibliofile": "biblio.bib",
   "cite_by": "apalike",
   "current_citInitial": 1,
   "eqLabelWithNumbers": true,
   "eqNumInitial": 1,
   "hotkeys": {
    "equation": "Ctrl-E",
    "itemize": "Ctrl-I"
   },
   "labels_anchors": false,
   "latex_user_defs": false,
   "report_style_numbering": false,
   "user_envs_cfg": false
  },
  "toc": {
   "base_numbering": 1,
   "nav_menu": {},
   "number_sections": true,
   "sideBar": true,
   "skip_h1_title": false,
   "title_cell": "Table of Contents",
   "title_sidebar": "Contents",
   "toc_cell": false,
   "toc_position": {},
   "toc_section_display": true,
   "toc_window_display": false
  },
  "varInspector": {
   "cols": {
    "lenName": 16,
    "lenType": 16,
    "lenVar": 40
   },
   "kernels_config": {
    "python": {
     "delete_cmd_postfix": "",
     "delete_cmd_prefix": "del ",
     "library": "var_list.py",
     "varRefreshCmd": "print(var_dic_list())"
    },
    "r": {
     "delete_cmd_postfix": ") ",
     "delete_cmd_prefix": "rm(",
     "library": "var_list.r",
     "varRefreshCmd": "cat(var_dic_list()) "
    }
   },
   "types_to_exclude": [
    "module",
    "function",
    "builtin_function_or_method",
    "instance",
    "_Feature"
   ],
   "window_display": false
  }
 },
 "nbformat": 4,
 "nbformat_minor": 4
}
