{
 "cells": [
  {
   "cell_type": "markdown",
   "metadata": {},
   "source": [
    "# Import relevant libraries"
   ]
  },
  {
   "cell_type": "code",
   "execution_count": 1,
   "metadata": {
    "ExecuteTime": {
     "end_time": "2020-11-26T23:13:49.252886Z",
     "start_time": "2020-11-26T23:13:48.471813Z"
    }
   },
   "outputs": [],
   "source": [
    "import re\n",
    "import os\n",
    "import numpy as np\n",
    "import pandas as pd\n",
    "import geopy\n",
    "from geopy.geocoders import Nominatim\n",
    "from tqdm.notebook import tqdm"
   ]
  },
  {
   "cell_type": "markdown",
   "metadata": {},
   "source": [
    "# Load data"
   ]
  },
  {
   "cell_type": "code",
   "execution_count": 2,
   "metadata": {
    "ExecuteTime": {
     "end_time": "2020-11-26T23:13:49.309499Z",
     "start_time": "2020-11-26T23:13:49.307083Z"
    }
   },
   "outputs": [],
   "source": [
    "# set base_path\n",
    "base_path = os.path.join('..', '..')"
   ]
  },
  {
   "cell_type": "code",
   "execution_count": 7,
   "metadata": {
    "ExecuteTime": {
     "end_time": "2020-11-26T23:14:17.032882Z",
     "start_time": "2020-11-26T23:14:15.492480Z"
    }
   },
   "outputs": [],
   "source": [
    "# set file_path\n",
    "file_path = os.path.join(base_path, 'datasets', 'cleaned_data.csv')\n",
    "\n",
    "# load data\n",
    "df = pd.read_csv(file_path, low_memory=False)"
   ]
  },
  {
   "cell_type": "code",
   "execution_count": 8,
   "metadata": {
    "ExecuteTime": {
     "end_time": "2020-11-26T23:14:17.084620Z",
     "start_time": "2020-11-26T23:14:17.074752Z"
    }
   },
   "outputs": [
    {
     "data": {
      "text/html": [
       "<div>\n",
       "<style scoped>\n",
       "    .dataframe tbody tr th:only-of-type {\n",
       "        vertical-align: middle;\n",
       "    }\n",
       "\n",
       "    .dataframe tbody tr th {\n",
       "        vertical-align: top;\n",
       "    }\n",
       "\n",
       "    .dataframe thead th {\n",
       "        text-align: right;\n",
       "    }\n",
       "</style>\n",
       "<table border=\"1\" class=\"dataframe\">\n",
       "  <thead>\n",
       "    <tr style=\"text-align: right;\">\n",
       "      <th></th>\n",
       "      <th>CompanyName</th>\n",
       "      <th>RegAddress.PostCode</th>\n",
       "      <th>RegAddress.PostTown</th>\n",
       "    </tr>\n",
       "  </thead>\n",
       "  <tbody>\n",
       "    <tr>\n",
       "      <th>0</th>\n",
       "      <td>!BIG IMPACT GRAPHICS LIMITED</td>\n",
       "      <td>EC1V 9LT</td>\n",
       "      <td>LONDON</td>\n",
       "    </tr>\n",
       "    <tr>\n",
       "      <th>1</th>\n",
       "      <td>!NKED LTD</td>\n",
       "      <td>SW9 8QS</td>\n",
       "      <td>LONDON</td>\n",
       "    </tr>\n",
       "    <tr>\n",
       "      <th>2</th>\n",
       "      <td>!NVERTD DESIGNS LIMITED</td>\n",
       "      <td>W12 8DS</td>\n",
       "      <td>LONDON</td>\n",
       "    </tr>\n",
       "    <tr>\n",
       "      <th>3</th>\n",
       "      <td>\"A\" CONCEPT LIMITED</td>\n",
       "      <td>E1 7AA</td>\n",
       "      <td>LONDON</td>\n",
       "    </tr>\n",
       "    <tr>\n",
       "      <th>4</th>\n",
       "      <td>\"BSP RETAIL\" LIMITED</td>\n",
       "      <td>NW4 3XP</td>\n",
       "      <td>LONDON</td>\n",
       "    </tr>\n",
       "  </tbody>\n",
       "</table>\n",
       "</div>"
      ],
      "text/plain": [
       "                    CompanyName RegAddress.PostCode RegAddress.PostTown\n",
       "0  !BIG IMPACT GRAPHICS LIMITED            EC1V 9LT              LONDON\n",
       "1                     !NKED LTD             SW9 8QS              LONDON\n",
       "2       !NVERTD DESIGNS LIMITED             W12 8DS              LONDON\n",
       "3           \"A\" CONCEPT LIMITED              E1 7AA              LONDON\n",
       "4          \"BSP RETAIL\" LIMITED             NW4 3XP              LONDON"
      ]
     },
     "execution_count": 8,
     "metadata": {},
     "output_type": "execute_result"
    }
   ],
   "source": [
    "df.head()"
   ]
  },
  {
   "cell_type": "code",
   "execution_count": 9,
   "metadata": {
    "ExecuteTime": {
     "end_time": "2020-11-26T23:14:17.516463Z",
     "start_time": "2020-11-26T23:14:17.124439Z"
    }
   },
   "outputs": [
    {
     "name": "stdout",
     "output_type": "stream",
     "text": [
      "<class 'pandas.core.frame.DataFrame'>\n",
      "RangeIndex: 911230 entries, 0 to 911229\n",
      "Data columns (total 3 columns):\n",
      " #   Column               Non-Null Count   Dtype \n",
      "---  ------               --------------   ----- \n",
      " 0   CompanyName          911230 non-null  object\n",
      " 1   RegAddress.PostCode  910330 non-null  object\n",
      " 2   RegAddress.PostTown  911230 non-null  object\n",
      "dtypes: object(3)\n",
      "memory usage: 20.9+ MB\n"
     ]
    }
   ],
   "source": [
    "df.info()"
   ]
  },
  {
   "cell_type": "code",
   "execution_count": 10,
   "metadata": {
    "ExecuteTime": {
     "end_time": "2020-11-26T23:14:19.986185Z",
     "start_time": "2020-11-26T23:14:17.637558Z"
    }
   },
   "outputs": [],
   "source": [
    "# remove na\n",
    "df.dropna(inplace = True)\n",
    "\n",
    "# select only East London\n",
    "pattern = r'^EC[12]'\n",
    "\n",
    "EC12 = []\n",
    "for postcode in df['RegAddress.PostCode']:\n",
    "    val = bool(re.match(pattern, postcode))\n",
    "    EC12.append(val)"
   ]
  },
  {
   "cell_type": "code",
   "execution_count": null,
   "metadata": {
    "ExecuteTime": {
     "start_time": "2020-11-26T22:54:27.198Z"
    }
   },
   "outputs": [],
   "source": [
    "df = df[EC12].reset_index().drop(columns = 'index')"
   ]
  },
  {
   "cell_type": "code",
   "execution_count": null,
   "metadata": {
    "ExecuteTime": {
     "start_time": "2020-11-26T22:54:27.200Z"
    }
   },
   "outputs": [],
   "source": [
    "unique_postcode = df['RegAddress.PostCode'].unique()"
   ]
  },
  {
   "cell_type": "code",
   "execution_count": null,
   "metadata": {
    "ExecuteTime": {
     "start_time": "2020-11-26T22:54:27.203Z"
    }
   },
   "outputs": [],
   "source": [
    "# get latitude, longitude\n",
    "latitude = []\n",
    "longitude = []\n",
    "\n",
    "# request coordinate\n",
    "geolocator = Nominatim(user_agent = \"http\")\n",
    "for postcode in tqdm(unique_postcode):\n",
    "    location = geolocator.geocode(postcode)\n",
    "    if location is None:\n",
    "        latitude.append(None)\n",
    "        longitude.append(None)\n",
    "    if location is not None:\n",
    "        latitude.append(location.latitude)\n",
    "        longitude.append(location.longitude)"
   ]
  },
  {
   "cell_type": "code",
   "execution_count": null,
   "metadata": {
    "ExecuteTime": {
     "start_time": "2020-11-26T22:54:27.207Z"
    }
   },
   "outputs": [],
   "source": [
    "coordinates = pd.DataFrame({'RegAddress.PostCode': unique_postcode,\n",
    "                            'latitude': latitude,\n",
    "                            'longitude': longitude})"
   ]
  },
  {
   "cell_type": "code",
   "execution_count": null,
   "metadata": {
    "ExecuteTime": {
     "start_time": "2020-11-26T22:54:27.210Z"
    }
   },
   "outputs": [],
   "source": [
    "EC12_coordinates = pd.merge(df, coordinates, on = 'RegAddress.PostCode', how = 'left')"
   ]
  },
  {
   "cell_type": "code",
   "execution_count": null,
   "metadata": {
    "ExecuteTime": {
     "start_time": "2020-11-26T22:54:27.212Z"
    }
   },
   "outputs": [],
   "source": [
    "EC12_coordinates.to_csv(os.path.join(base_path, 'datasets', 'tech_roundabout_coordinates.csv'), index = False)"
   ]
  },
  {
   "cell_type": "code",
   "execution_count": null,
   "metadata": {},
   "outputs": [],
   "source": []
  }
 ],
 "metadata": {
  "kernelspec": {
   "display_name": "Python [conda env:smm635]",
   "language": "python",
   "name": "conda-env-smm635-py"
  },
  "language_info": {
   "codemirror_mode": {
    "name": "ipython",
    "version": 3
   },
   "file_extension": ".py",
   "mimetype": "text/x-python",
   "name": "python",
   "nbconvert_exporter": "python",
   "pygments_lexer": "ipython3",
   "version": "3.8.5"
  },
  "latex_envs": {
   "LaTeX_envs_menu_present": true,
   "autoclose": false,
   "autocomplete": true,
   "bibliofile": "biblio.bib",
   "cite_by": "apalike",
   "current_citInitial": 1,
   "eqLabelWithNumbers": true,
   "eqNumInitial": 1,
   "hotkeys": {
    "equation": "Ctrl-E",
    "itemize": "Ctrl-I"
   },
   "labels_anchors": false,
   "latex_user_defs": false,
   "report_style_numbering": false,
   "user_envs_cfg": false
  },
  "toc": {
   "base_numbering": 1,
   "nav_menu": {},
   "number_sections": true,
   "sideBar": true,
   "skip_h1_title": false,
   "title_cell": "Table of Contents",
   "title_sidebar": "Contents",
   "toc_cell": false,
   "toc_position": {},
   "toc_section_display": true,
   "toc_window_display": false
  },
  "varInspector": {
   "cols": {
    "lenName": 16,
    "lenType": 16,
    "lenVar": 40
   },
   "kernels_config": {
    "python": {
     "delete_cmd_postfix": "",
     "delete_cmd_prefix": "del ",
     "library": "var_list.py",
     "varRefreshCmd": "print(var_dic_list())"
    },
    "r": {
     "delete_cmd_postfix": ") ",
     "delete_cmd_prefix": "rm(",
     "library": "var_list.r",
     "varRefreshCmd": "cat(var_dic_list()) "
    }
   },
   "types_to_exclude": [
    "module",
    "function",
    "builtin_function_or_method",
    "instance",
    "_Feature"
   ],
   "window_display": false
  }
 },
 "nbformat": 4,
 "nbformat_minor": 4
}
