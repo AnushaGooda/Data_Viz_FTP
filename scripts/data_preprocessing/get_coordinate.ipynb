{
 "cells": [
  {
   "cell_type": "markdown",
   "metadata": {},
   "source": [
    "# Import relevant libraries"
   ]
  },
  {
   "cell_type": "code",
   "execution_count": 1,
   "metadata": {
    "ExecuteTime": {
     "end_time": "2020-11-26T00:08:00.504161Z",
     "start_time": "2020-11-26T00:08:00.002482Z"
    }
   },
   "outputs": [],
   "source": [
    "import re\n",
    "import os\n",
    "import numpy as np\n",
    "import pandas as pd\n",
    "import geopy\n",
    "from geopy.geocoders import Nominatim\n",
    "from tqdm.notebook import tqdm"
   ]
  },
  {
   "cell_type": "markdown",
   "metadata": {},
   "source": [
    "# Load data"
   ]
  },
  {
   "cell_type": "code",
   "execution_count": 2,
   "metadata": {
    "ExecuteTime": {
     "end_time": "2020-11-26T00:08:01.557163Z",
     "start_time": "2020-11-26T00:08:01.536220Z"
    }
   },
   "outputs": [
    {
     "data": {
      "text/plain": [
       "'C:\\\\Users\\\\G7\\\\Desktop\\\\Cass Study\\\\SMM635 Data Visualisation\\\\FTP'"
      ]
     },
     "execution_count": 2,
     "metadata": {},
     "output_type": "execute_result"
    }
   ],
   "source": [
    "# set base_path\n",
    "base_path = os.path.join('..', '..')\n",
    "os.chdir(base_path)\n",
    "os.getcwd()"
   ]
  },
  {
   "cell_type": "code",
   "execution_count": 3,
   "metadata": {
    "ExecuteTime": {
     "end_time": "2020-11-26T00:08:47.488416Z",
     "start_time": "2020-11-26T00:08:02.359916Z"
    }
   },
   "outputs": [],
   "source": [
    "# set file_path\n",
    "file_path = os.path.join('datasets', 'cleaned_data.csv')\n",
    "\n",
    "# load data\n",
    "company_data = pd.read_csv(file_path, low_memory=False)"
   ]
  },
  {
   "cell_type": "code",
   "execution_count": 4,
   "metadata": {
    "ExecuteTime": {
     "end_time": "2020-11-26T00:09:05.050318Z",
     "start_time": "2020-11-26T00:09:04.959456Z"
    }
   },
   "outputs": [
    {
     "data": {
      "text/html": [
       "<div>\n",
       "<style scoped>\n",
       "    .dataframe tbody tr th:only-of-type {\n",
       "        vertical-align: middle;\n",
       "    }\n",
       "\n",
       "    .dataframe tbody tr th {\n",
       "        vertical-align: top;\n",
       "    }\n",
       "\n",
       "    .dataframe thead th {\n",
       "        text-align: right;\n",
       "    }\n",
       "</style>\n",
       "<table border=\"1\" class=\"dataframe\">\n",
       "  <thead>\n",
       "    <tr style=\"text-align: right;\">\n",
       "      <th></th>\n",
       "      <th>CompanyName</th>\n",
       "      <th>CompanyNumber</th>\n",
       "      <th>RegAddress.CareOf</th>\n",
       "      <th>RegAddress.POBox</th>\n",
       "      <th>RegAddress.AddressLine1</th>\n",
       "      <th>RegAddress.AddressLine2</th>\n",
       "      <th>RegAddress.PostTown</th>\n",
       "      <th>RegAddress.County</th>\n",
       "      <th>RegAddress.Country</th>\n",
       "      <th>RegAddress.PostCode</th>\n",
       "      <th>...</th>\n",
       "      <th>PreviousName_7.CONDATE</th>\n",
       "      <th>PreviousName_7.CompanyName</th>\n",
       "      <th>PreviousName_8.CONDATE</th>\n",
       "      <th>PreviousName_8.CompanyName</th>\n",
       "      <th>PreviousName_9.CONDATE</th>\n",
       "      <th>PreviousName_9.CompanyName</th>\n",
       "      <th>PreviousName_10.CONDATE</th>\n",
       "      <th>PreviousName_10.CompanyName</th>\n",
       "      <th>ConfStmtNextDueDate</th>\n",
       "      <th>ConfStmtLastMadeUpDate</th>\n",
       "    </tr>\n",
       "  </thead>\n",
       "  <tbody>\n",
       "    <tr>\n",
       "      <th>0</th>\n",
       "      <td>! LIMITED</td>\n",
       "      <td>12778855</td>\n",
       "      <td>NaN</td>\n",
       "      <td>NaN</td>\n",
       "      <td>UNIT 3 NEWTON BUSINESS CENTRE</td>\n",
       "      <td>NEWTON CHAMBERS ROAD</td>\n",
       "      <td>SHEFFIELD</td>\n",
       "      <td>NaN</td>\n",
       "      <td>UNITED KINGDOM</td>\n",
       "      <td>S35 2PH</td>\n",
       "      <td>...</td>\n",
       "      <td>NaN</td>\n",
       "      <td>NaN</td>\n",
       "      <td>NaN</td>\n",
       "      <td>NaN</td>\n",
       "      <td>NaN</td>\n",
       "      <td>NaN</td>\n",
       "      <td>NaN</td>\n",
       "      <td>NaN</td>\n",
       "      <td>11/08/2021</td>\n",
       "      <td>NaN</td>\n",
       "    </tr>\n",
       "    <tr>\n",
       "      <th>1</th>\n",
       "      <td>! LTD</td>\n",
       "      <td>08209948</td>\n",
       "      <td>NaN</td>\n",
       "      <td>NaN</td>\n",
       "      <td>METROHOUSE 57 PEPPER ROAD</td>\n",
       "      <td>HUNSLET</td>\n",
       "      <td>LEEDS</td>\n",
       "      <td>YORKSHIRE</td>\n",
       "      <td>NaN</td>\n",
       "      <td>LS10 2RU</td>\n",
       "      <td>...</td>\n",
       "      <td>NaN</td>\n",
       "      <td>NaN</td>\n",
       "      <td>NaN</td>\n",
       "      <td>NaN</td>\n",
       "      <td>NaN</td>\n",
       "      <td>NaN</td>\n",
       "      <td>NaN</td>\n",
       "      <td>NaN</td>\n",
       "      <td>25/09/2021</td>\n",
       "      <td>11/09/2020</td>\n",
       "    </tr>\n",
       "    <tr>\n",
       "      <th>2</th>\n",
       "      <td>!? LTD</td>\n",
       "      <td>11399177</td>\n",
       "      <td>NaN</td>\n",
       "      <td>NaN</td>\n",
       "      <td>THE STUDIO HATHERLOW HOUSE</td>\n",
       "      <td>HATHERLOW</td>\n",
       "      <td>ROMILEY</td>\n",
       "      <td>NaN</td>\n",
       "      <td>UNITED KINGDOM</td>\n",
       "      <td>SK6 3DY</td>\n",
       "      <td>...</td>\n",
       "      <td>NaN</td>\n",
       "      <td>NaN</td>\n",
       "      <td>NaN</td>\n",
       "      <td>NaN</td>\n",
       "      <td>NaN</td>\n",
       "      <td>NaN</td>\n",
       "      <td>NaN</td>\n",
       "      <td>NaN</td>\n",
       "      <td>19/06/2021</td>\n",
       "      <td>05/06/2020</td>\n",
       "    </tr>\n",
       "    <tr>\n",
       "      <th>3</th>\n",
       "      <td>!BIG IMPACT GRAPHICS LIMITED</td>\n",
       "      <td>11743365</td>\n",
       "      <td>NaN</td>\n",
       "      <td>NaN</td>\n",
       "      <td>372 OLD STREET</td>\n",
       "      <td>335 ROSDEN HOUSE</td>\n",
       "      <td>LONDON</td>\n",
       "      <td>NaN</td>\n",
       "      <td>UNITED KINGDOM</td>\n",
       "      <td>EC1V 9LT</td>\n",
       "      <td>...</td>\n",
       "      <td>NaN</td>\n",
       "      <td>NaN</td>\n",
       "      <td>NaN</td>\n",
       "      <td>NaN</td>\n",
       "      <td>NaN</td>\n",
       "      <td>NaN</td>\n",
       "      <td>NaN</td>\n",
       "      <td>NaN</td>\n",
       "      <td>07/02/2021</td>\n",
       "      <td>27/12/2019</td>\n",
       "    </tr>\n",
       "    <tr>\n",
       "      <th>4</th>\n",
       "      <td>!L PRODUCTIONS LIMITED</td>\n",
       "      <td>12402527</td>\n",
       "      <td>NaN</td>\n",
       "      <td>NaN</td>\n",
       "      <td>95 MARMION AVENUE</td>\n",
       "      <td>NaN</td>\n",
       "      <td>CHINGFORD</td>\n",
       "      <td>NaN</td>\n",
       "      <td>ENGLAND</td>\n",
       "      <td>E4 8EJ</td>\n",
       "      <td>...</td>\n",
       "      <td>NaN</td>\n",
       "      <td>NaN</td>\n",
       "      <td>NaN</td>\n",
       "      <td>NaN</td>\n",
       "      <td>NaN</td>\n",
       "      <td>NaN</td>\n",
       "      <td>NaN</td>\n",
       "      <td>NaN</td>\n",
       "      <td>24/02/2021</td>\n",
       "      <td>NaN</td>\n",
       "    </tr>\n",
       "  </tbody>\n",
       "</table>\n",
       "<p>5 rows × 55 columns</p>\n",
       "</div>"
      ],
      "text/plain": [
       "                    CompanyName CompanyNumber RegAddress.CareOf  \\\n",
       "0                     ! LIMITED      12778855               NaN   \n",
       "1                         ! LTD      08209948               NaN   \n",
       "2                        !? LTD      11399177               NaN   \n",
       "3  !BIG IMPACT GRAPHICS LIMITED      11743365               NaN   \n",
       "4        !L PRODUCTIONS LIMITED      12402527               NaN   \n",
       "\n",
       "  RegAddress.POBox        RegAddress.AddressLine1 RegAddress.AddressLine2  \\\n",
       "0              NaN  UNIT 3 NEWTON BUSINESS CENTRE    NEWTON CHAMBERS ROAD   \n",
       "1              NaN      METROHOUSE 57 PEPPER ROAD                 HUNSLET   \n",
       "2              NaN     THE STUDIO HATHERLOW HOUSE               HATHERLOW   \n",
       "3              NaN                 372 OLD STREET        335 ROSDEN HOUSE   \n",
       "4              NaN              95 MARMION AVENUE                     NaN   \n",
       "\n",
       "  RegAddress.PostTown RegAddress.County RegAddress.Country  \\\n",
       "0           SHEFFIELD               NaN     UNITED KINGDOM   \n",
       "1               LEEDS         YORKSHIRE                NaN   \n",
       "2             ROMILEY               NaN     UNITED KINGDOM   \n",
       "3              LONDON               NaN     UNITED KINGDOM   \n",
       "4           CHINGFORD               NaN            ENGLAND   \n",
       "\n",
       "  RegAddress.PostCode  ... PreviousName_7.CONDATE PreviousName_7.CompanyName  \\\n",
       "0             S35 2PH  ...                    NaN                        NaN   \n",
       "1            LS10 2RU  ...                    NaN                        NaN   \n",
       "2             SK6 3DY  ...                    NaN                        NaN   \n",
       "3            EC1V 9LT  ...                    NaN                        NaN   \n",
       "4              E4 8EJ  ...                    NaN                        NaN   \n",
       "\n",
       "  PreviousName_8.CONDATE  PreviousName_8.CompanyName PreviousName_9.CONDATE  \\\n",
       "0                    NaN                         NaN                    NaN   \n",
       "1                    NaN                         NaN                    NaN   \n",
       "2                    NaN                         NaN                    NaN   \n",
       "3                    NaN                         NaN                    NaN   \n",
       "4                    NaN                         NaN                    NaN   \n",
       "\n",
       "   PreviousName_9.CompanyName  PreviousName_10.CONDATE  \\\n",
       "0                         NaN                      NaN   \n",
       "1                         NaN                      NaN   \n",
       "2                         NaN                      NaN   \n",
       "3                         NaN                      NaN   \n",
       "4                         NaN                      NaN   \n",
       "\n",
       "  PreviousName_10.CompanyName ConfStmtNextDueDate ConfStmtLastMadeUpDate  \n",
       "0                         NaN          11/08/2021                    NaN  \n",
       "1                         NaN          25/09/2021             11/09/2020  \n",
       "2                         NaN          19/06/2021             05/06/2020  \n",
       "3                         NaN          07/02/2021             27/12/2019  \n",
       "4                         NaN          24/02/2021                    NaN  \n",
       "\n",
       "[5 rows x 55 columns]"
      ]
     },
     "execution_count": 4,
     "metadata": {},
     "output_type": "execute_result"
    }
   ],
   "source": [
    "company_data.head()"
   ]
  },
  {
   "cell_type": "code",
   "execution_count": 5,
   "metadata": {
    "ExecuteTime": {
     "end_time": "2020-11-26T00:09:22.535792Z",
     "start_time": "2020-11-26T00:09:22.508866Z"
    }
   },
   "outputs": [
    {
     "name": "stdout",
     "output_type": "stream",
     "text": [
      "<class 'pandas.core.frame.DataFrame'>\n",
      "RangeIndex: 4785590 entries, 0 to 4785589\n",
      "Data columns (total 55 columns):\n",
      " #   Column                              Dtype  \n",
      "---  ------                              -----  \n",
      " 0   CompanyName                         object \n",
      " 1   CompanyNumber                       object \n",
      " 2   RegAddress.CareOf                   object \n",
      " 3   RegAddress.POBox                    object \n",
      " 4   RegAddress.AddressLine1             object \n",
      " 5   RegAddress.AddressLine2             object \n",
      " 6   RegAddress.PostTown                 object \n",
      " 7   RegAddress.County                   object \n",
      " 8   RegAddress.Country                  object \n",
      " 9   RegAddress.PostCode                 object \n",
      " 10  CompanyCategory                     object \n",
      " 11  CompanyStatus                       object \n",
      " 12  CountryOfOrigin                     object \n",
      " 13  DissolutionDate                     float64\n",
      " 14  IncorporationDate                   object \n",
      " 15  Accounts.AccountRefDay              float64\n",
      " 16  Accounts.AccountRefMonth            float64\n",
      " 17  Accounts.NextDueDate                object \n",
      " 18  Accounts.LastMadeUpDate             object \n",
      " 19  Accounts.AccountCategory            object \n",
      " 20  Returns.NextDueDate                 object \n",
      " 21  Returns.LastMadeUpDate              object \n",
      " 22  Mortgages.NumMortCharges            int64  \n",
      " 23  Mortgages.NumMortOutstanding        int64  \n",
      " 24  Mortgages.NumMortPartSatisfied      int64  \n",
      " 25  Mortgages.NumMortSatisfied          int64  \n",
      " 26  SICCode.SicText_1                   object \n",
      " 27  SICCode.SicText_2                   object \n",
      " 28  SICCode.SicText_3                   object \n",
      " 29  SICCode.SicText_4                   object \n",
      " 30  LimitedPartnerships.NumGenPartners  int64  \n",
      " 31  LimitedPartnerships.NumLimPartners  int64  \n",
      " 32  URI                                 object \n",
      " 33  PreviousName_1.CONDATE              object \n",
      " 34  PreviousName_1.CompanyName          object \n",
      " 35  PreviousName_2.CONDATE              object \n",
      " 36  PreviousName_2.CompanyName          object \n",
      " 37  PreviousName_3.CONDATE              object \n",
      " 38  PreviousName_3.CompanyName          object \n",
      " 39  PreviousName_4.CONDATE              object \n",
      " 40  PreviousName_4.CompanyName          object \n",
      " 41  PreviousName_5.CONDATE              object \n",
      " 42  PreviousName_5.CompanyName          object \n",
      " 43  PreviousName_6.CONDATE              object \n",
      " 44  PreviousName_6.CompanyName          object \n",
      " 45  PreviousName_7.CONDATE              object \n",
      " 46  PreviousName_7.CompanyName          object \n",
      " 47  PreviousName_8.CONDATE              object \n",
      " 48  PreviousName_8.CompanyName          object \n",
      " 49  PreviousName_9.CONDATE              object \n",
      " 50  PreviousName_9.CompanyName          object \n",
      " 51  PreviousName_10.CONDATE             object \n",
      " 52  PreviousName_10.CompanyName         object \n",
      " 53  ConfStmtNextDueDate                 object \n",
      " 54  ConfStmtLastMadeUpDate              object \n",
      "dtypes: float64(3), int64(6), object(46)\n",
      "memory usage: 2.0+ GB\n"
     ]
    }
   ],
   "source": [
    "company_data.info()"
   ]
  },
  {
   "cell_type": "code",
   "execution_count": 6,
   "metadata": {
    "ExecuteTime": {
     "end_time": "2020-11-26T00:09:41.707292Z",
     "start_time": "2020-11-26T00:09:40.006855Z"
    }
   },
   "outputs": [],
   "source": [
    "# prepare data\n",
    "df = company_data[['CompanyName', 'RegAddress.PostCode', 'RegAddress.PostTown']]\n",
    "\n",
    "# select only companies in London\n",
    "df = df[df['RegAddress.PostTown'] == 'LONDON']\n",
    "\n",
    "# remove na\n",
    "df.dropna(inplace = True)\n",
    "\n",
    "# select only East London\n",
    "pattern = r'^EC[12]'\n",
    "\n",
    "EC12 = []\n",
    "for postcode in df['RegAddress.PostCode']:\n",
    "    val = bool(re.match(pattern, postcode))\n",
    "    EC12.append(val)"
   ]
  },
  {
   "cell_type": "code",
   "execution_count": 7,
   "metadata": {
    "ExecuteTime": {
     "end_time": "2020-11-26T00:09:59.660738Z",
     "start_time": "2020-11-26T00:09:59.630818Z"
    }
   },
   "outputs": [
    {
     "data": {
      "text/plain": [
       "97969"
      ]
     },
     "execution_count": 7,
     "metadata": {},
     "output_type": "execute_result"
    }
   ],
   "source": [
    "sum(EC12)"
   ]
  },
  {
   "cell_type": "code",
   "execution_count": null,
   "metadata": {
    "ExecuteTime": {
     "end_time": "2020-11-26T00:05:26.543420Z",
     "start_time": "2020-11-26T00:05:12.562Z"
    }
   },
   "outputs": [],
   "source": [
    "# get latitude, longitude\n",
    "latitude = []\n",
    "longitude = []\n",
    "\n",
    "# request coordinate\n",
    "geolocator = Nominatim(user_agent = \"http\")\n",
    "for postcode in tqdm(df['RegAddress.PostCode']):\n",
    "    location = geolocator.geocode(postcode)\n",
    "    if location is None:\n",
    "        latitude.append(None)\n",
    "        longitude.append(None)\n",
    "    if location is not None:\n",
    "        latitude.append(location.latitude)\n",
    "        longitude.append(location.longitude)"
   ]
  }
 ],
 "metadata": {
  "kernelspec": {
   "display_name": "Python 3",
   "language": "python",
   "name": "python3"
  },
  "language_info": {
   "codemirror_mode": {
    "name": "ipython",
    "version": 3
   },
   "file_extension": ".py",
   "mimetype": "text/x-python",
   "name": "python",
   "nbconvert_exporter": "python",
   "pygments_lexer": "ipython3",
   "version": "3.8.3"
  },
  "latex_envs": {
   "LaTeX_envs_menu_present": true,
   "autoclose": false,
   "autocomplete": true,
   "bibliofile": "biblio.bib",
   "cite_by": "apalike",
   "current_citInitial": 1,
   "eqLabelWithNumbers": true,
   "eqNumInitial": 1,
   "hotkeys": {
    "equation": "Ctrl-E",
    "itemize": "Ctrl-I"
   },
   "labels_anchors": false,
   "latex_user_defs": false,
   "report_style_numbering": false,
   "user_envs_cfg": false
  },
  "toc": {
   "base_numbering": 1,
   "nav_menu": {},
   "number_sections": true,
   "sideBar": true,
   "skip_h1_title": false,
   "title_cell": "Table of Contents",
   "title_sidebar": "Contents",
   "toc_cell": false,
   "toc_position": {},
   "toc_section_display": true,
   "toc_window_display": false
  },
  "varInspector": {
   "cols": {
    "lenName": 16,
    "lenType": 16,
    "lenVar": 40
   },
   "kernels_config": {
    "python": {
     "delete_cmd_postfix": "",
     "delete_cmd_prefix": "del ",
     "library": "var_list.py",
     "varRefreshCmd": "print(var_dic_list())"
    },
    "r": {
     "delete_cmd_postfix": ") ",
     "delete_cmd_prefix": "rm(",
     "library": "var_list.r",
     "varRefreshCmd": "cat(var_dic_list()) "
    }
   },
   "types_to_exclude": [
    "module",
    "function",
    "builtin_function_or_method",
    "instance",
    "_Feature"
   ],
   "window_display": false
  }
 },
 "nbformat": 4,
 "nbformat_minor": 4
}
