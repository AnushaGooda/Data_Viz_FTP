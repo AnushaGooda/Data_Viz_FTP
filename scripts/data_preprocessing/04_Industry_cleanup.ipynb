{
 "cells": [
  {
   "cell_type": "markdown",
   "metadata": {},
   "source": [
    "# Import relevant libraries"
   ]
  },
  {
   "cell_type": "code",
   "execution_count": 1,
   "metadata": {
    "ExecuteTime": {
     "end_time": "2020-12-16T21:49:00.202735Z",
     "start_time": "2020-12-16T21:48:59.908189Z"
    }
   },
   "outputs": [],
   "source": [
    "import os\n",
    "import pandas as pd\n",
    "import numpy as np"
   ]
  },
  {
   "cell_type": "markdown",
   "metadata": {},
   "source": [
    "# Setup"
   ]
  },
  {
   "cell_type": "code",
   "execution_count": 2,
   "metadata": {
    "ExecuteTime": {
     "end_time": "2020-12-16T21:49:00.207059Z",
     "start_time": "2020-12-16T21:49:00.204308Z"
    }
   },
   "outputs": [],
   "source": [
    "# disable false positive warnings\n",
    "pd.options.mode.chained_assignment = None"
   ]
  },
  {
   "cell_type": "code",
   "execution_count": 3,
   "metadata": {
    "ExecuteTime": {
     "end_time": "2020-12-16T21:49:00.551509Z",
     "start_time": "2020-12-16T21:49:00.209025Z"
    }
   },
   "outputs": [],
   "source": [
    "# set file path\n",
    "base_path = '../..'\n",
    "\n",
    "file_path = os.path.join(base_path, 'datasets', 'final_cleaned_data.csv')\n",
    "\n",
    "# load data\n",
    "df = pd.read_csv(file_path)"
   ]
  },
  {
   "cell_type": "code",
   "execution_count": 4,
   "metadata": {
    "ExecuteTime": {
     "end_time": "2020-12-16T21:49:00.624318Z",
     "start_time": "2020-12-16T21:49:00.553157Z"
    },
    "scrolled": false
   },
   "outputs": [],
   "source": [
    "df['sector_code_1'] = df['sector_code_1'].str.rstrip()"
   ]
  },
  {
   "cell_type": "markdown",
   "metadata": {},
   "source": [
    "# Preprocessing"
   ]
  },
  {
   "cell_type": "code",
   "execution_count": 5,
   "metadata": {
    "ExecuteTime": {
     "end_time": "2020-12-16T21:49:00.661825Z",
     "start_time": "2020-12-16T21:49:00.625816Z"
    }
   },
   "outputs": [],
   "source": [
    "# import all industry code files\n",
    "fin = pd.read_csv(os.path.join(base_path, 'datasets', 'Industry_codes - Finance.csv'), dtype = 'str')\n",
    "info = pd.read_csv(os.path.join(base_path, 'datasets', 'Industry_codes - Info - Communcation Tech.csv'), dtype = 'str')\n",
    "tech = pd.read_csv(os.path.join(base_path, 'datasets', 'Industry_codes - Professional, scientific, technical.csv'), dtype = 'str')"
   ]
  },
  {
   "cell_type": "code",
   "execution_count": 6,
   "metadata": {
    "ExecuteTime": {
     "end_time": "2020-12-16T21:49:00.701824Z",
     "start_time": "2020-12-16T21:49:00.664622Z"
    },
    "run_control": {
     "marked": false
    },
    "scrolled": true
   },
   "outputs": [],
   "source": [
    "# create array with all industry sector codes\n",
    "fin = np.array(fin)\n",
    "info = np.array(info)\n",
    "tech = np.array(tech)"
   ]
  },
  {
   "cell_type": "code",
   "execution_count": 7,
   "metadata": {
    "ExecuteTime": {
     "end_time": "2020-12-16T21:49:03.457490Z",
     "start_time": "2020-12-16T21:49:00.704778Z"
    }
   },
   "outputs": [],
   "source": [
    "# choose on specific industries related to tech\n",
    "result = []\n",
    "for value in df['sector_code_1']:\n",
    "    if value in fin:\n",
    "        result.append('Finance')\n",
    "    elif value in tech:\n",
    "        result.append('Sci & Tech Rsrch.')\n",
    "    elif value in info:\n",
    "        result.append('informatin Tech')\n",
    "    else:\n",
    "        result.append('NA')\n",
    "\n",
    "df['Industry'] = result"
   ]
  },
  {
   "cell_type": "code",
   "execution_count": 8,
   "metadata": {
    "ExecuteTime": {
     "end_time": "2020-12-16T21:49:03.525073Z",
     "start_time": "2020-12-16T21:49:03.464167Z"
    }
   },
   "outputs": [],
   "source": [
    "# remove all NA industry rows\n",
    "df = df.loc[df['Industry'] != 'NA']\n",
    "\n",
    "# remove inactive companies\n",
    "df = df.loc[df['CompanyStatus'] == 'Active']"
   ]
  },
  {
   "cell_type": "code",
   "execution_count": 9,
   "metadata": {
    "ExecuteTime": {
     "end_time": "2020-12-16T21:49:03.530713Z",
     "start_time": "2020-12-16T21:49:03.527146Z"
    }
   },
   "outputs": [],
   "source": [
    "# define a count column\n",
    "df['count'] = 1"
   ]
  },
  {
   "cell_type": "code",
   "execution_count": 10,
   "metadata": {
    "ExecuteTime": {
     "end_time": "2020-12-16T21:49:03.587042Z",
     "start_time": "2020-12-16T21:49:03.532163Z"
    }
   },
   "outputs": [],
   "source": [
    "# only use specfic sectors in k list\n",
    "k = [\n",
    "    '58210', '58290', '61200', '61300', '61900', '62011', '62012', '62020',\n",
    "    '62030', '62090', '63110', '63120', '64303', '64304', '66300', '71200',\n",
    "    '72110', '72190', '72200', '68320'\n",
    "]\n",
    "df1 = df.loc[df['sector_code_1'].isin(k)]\n",
    "\n",
    "# drop random secotr name called ready\n",
    "df1.drop(df1[df1['sector_name_1'] == ' Ready'].index, inplace=True)"
   ]
  },
  {
   "cell_type": "code",
   "execution_count": 11,
   "metadata": {
    "ExecuteTime": {
     "end_time": "2020-12-16T21:49:03.730979Z",
     "start_time": "2020-12-16T21:49:03.588364Z"
    },
    "scrolled": true
   },
   "outputs": [],
   "source": [
    "# make industry names better\n",
    "df1['sector_name_1'] = df1['sector_name_1'].apply(lambda x: x.replace(' Activities of open', ' Open-ended Investors'))\n",
    "df1['sector_name_1'] = df1['sector_name_1'].apply(lambda x: x.replace(' Information technology consultancy activities', ' Info Tech Consulting'))\n",
    "df1['sector_name_1'] = df1['sector_name_1'].apply(lambda x: x.replace(' Data processing, hosting and related activities', ' Data Companies'))\n",
    "df1['sector_name_1'] = df1['sector_name_1'].apply(lambda x: x.replace(' Other software publishing', ' Software Dev.'))\n",
    "df1['sector_name_1'] = df1['sector_name_1'].apply(lambda x: x.replace(' Business and domestic software development', ' Business Software Dev.'))\n",
    "df1['sector_name_1'] = df1['sector_name_1'].apply(lambda x: x.replace(' Other information technology service activities', ' Info Tech services'))\n",
    "df1['sector_name_1'] = df1['sector_name_1'].apply(lambda x: x.replace(' Computer facilities management activities', ' Computer facilities mgmt.'))\n",
    "df1['sector_name_1'] = df1['sector_name_1'].apply(lambda x: x.replace(' Research and experimental development on social sciences and humanities', ' Social Sciences Rsrch.'))\n",
    "df1['sector_name_1'] = df1['sector_name_1'].apply(lambda x: x.replace(' Activities of venture and development capital companies', ' Venture Capital'))\n",
    "df1['sector_name_1'] = df1['sector_name_1'].apply(lambda x: x.replace(' Other research and experimental development on natural sciences and engineering', ' Natural Sciences Rsrch.'))\n",
    "df1['sector_name_1'] = df1['sector_name_1'].apply(lambda x: x.replace(' Wireless telecommunications activities', ' Wireless Telecommuncations'))\n",
    "df1['sector_name_1'] = df1['sector_name_1'].apply(lambda x: x.replace(' Other telecommunications activities', ' Wireless Telecommuncations'))\n",
    "df1['sector_name_1'] = df1['sector_name_1'].apply(lambda x: x.replace(' Research and experimental development on biotechnology', ' Biotech Rsrch.'))\n",
    "df1['sector_name_1'] = df1['sector_name_1'].apply(lambda x: x.replace(' Satellite telecommunications activities', ' Satellite Telecommuncations'))\n",
    "df1['sector_name_1'] = df1['sector_name_1'].apply(lambda x: x.replace(' Publishing of computer games', ' Computer Game Companies'))\n"
   ]
  },
  {
   "cell_type": "code",
   "execution_count": 12,
   "metadata": {
    "ExecuteTime": {
     "end_time": "2020-12-16T21:49:03.813382Z",
     "start_time": "2020-12-16T21:49:03.732275Z"
    }
   },
   "outputs": [
    {
     "name": "stdout",
     "output_type": "stream",
     "text": [
      "<class 'pandas.core.frame.DataFrame'>\n",
      "Int64Index: 10729 entries, 19 to 94974\n",
      "Data columns (total 10 columns):\n",
      " #   Column             Non-Null Count  Dtype \n",
      "---  ------             --------------  ----- \n",
      " 0   IncorporationDate  10729 non-null  object\n",
      " 1   year               10729 non-null  int64 \n",
      " 2   month              10729 non-null  int64 \n",
      " 3   CompanyName        10729 non-null  object\n",
      " 4   CompanyNumber      10729 non-null  object\n",
      " 5   CompanyStatus      10729 non-null  object\n",
      " 6   sector_code_1      10729 non-null  object\n",
      " 7   sector_name_1      10729 non-null  object\n",
      " 8   Industry           10729 non-null  object\n",
      " 9   count              10729 non-null  int64 \n",
      "dtypes: int64(3), object(7)\n",
      "memory usage: 922.0+ KB\n"
     ]
    }
   ],
   "source": [
    "df1.info()"
   ]
  },
  {
   "cell_type": "code",
   "execution_count": 13,
   "metadata": {
    "ExecuteTime": {
     "end_time": "2020-12-16T21:49:03.857951Z",
     "start_time": "2020-12-16T21:49:03.814841Z"
    }
   },
   "outputs": [],
   "source": [
    "# function takes cumsum up to a specific set year and month\n",
    "\n",
    "\n",
    "def year_month_counts(year, month):\n",
    "\n",
    "    # slice the data until pre-specified year\n",
    "    active_df = df1[df1['year'] <= year]\n",
    "\n",
    "    # sort values by 'year', 'month'\n",
    "    active_df.sort_values(by=['year', 'month'], inplace=True)\n",
    "\n",
    "    # reset index\n",
    "    active_df.reset_index(drop=True, inplace=True)\n",
    "\n",
    "    # get the index of the last month we want\n",
    "    idx = active_df[(active_df['year'] == year)\n",
    "                    & (active_df['month'] == month)].index[-1] + 1\n",
    "\n",
    "    # slice dataframe\n",
    "    active_df = active_df.iloc[:idx]\n",
    "\n",
    "    # group data\n",
    "    active_df = pd.DataFrame(\n",
    "        active_df.groupby('sector_name_1')['count'].agg('sum'))\n",
    "    # reset index\n",
    "    active_df.reset_index(inplace=True)\n",
    "\n",
    "    return active_df"
   ]
  },
  {
   "cell_type": "code",
   "execution_count": 14,
   "metadata": {
    "ExecuteTime": {
     "end_time": "2020-12-16T21:49:03.949151Z",
     "start_time": "2020-12-16T21:49:03.859994Z"
    },
    "run_control": {
     "marked": false
    }
   },
   "outputs": [
    {
     "data": {
      "text/html": [
       "<div>\n",
       "<style scoped>\n",
       "    .dataframe tbody tr th:only-of-type {\n",
       "        vertical-align: middle;\n",
       "    }\n",
       "\n",
       "    .dataframe tbody tr th {\n",
       "        vertical-align: top;\n",
       "    }\n",
       "\n",
       "    .dataframe thead th {\n",
       "        text-align: right;\n",
       "    }\n",
       "</style>\n",
       "<table border=\"1\" class=\"dataframe\">\n",
       "  <thead>\n",
       "    <tr style=\"text-align: right;\">\n",
       "      <th></th>\n",
       "      <th>sector_name_1</th>\n",
       "      <th>count</th>\n",
       "    </tr>\n",
       "  </thead>\n",
       "  <tbody>\n",
       "    <tr>\n",
       "      <th>0</th>\n",
       "      <td>Biotech Rsrch.</td>\n",
       "      <td>1</td>\n",
       "    </tr>\n",
       "    <tr>\n",
       "      <th>1</th>\n",
       "      <td>Business Software Dev.</td>\n",
       "      <td>17</td>\n",
       "    </tr>\n",
       "    <tr>\n",
       "      <th>2</th>\n",
       "      <td>Computer facilities mgmt.</td>\n",
       "      <td>3</td>\n",
       "    </tr>\n",
       "    <tr>\n",
       "      <th>3</th>\n",
       "      <td>Data Companies</td>\n",
       "      <td>4</td>\n",
       "    </tr>\n",
       "    <tr>\n",
       "      <th>4</th>\n",
       "      <td>Fund management activities</td>\n",
       "      <td>8</td>\n",
       "    </tr>\n",
       "    <tr>\n",
       "      <th>5</th>\n",
       "      <td>Info Tech Consulting</td>\n",
       "      <td>41</td>\n",
       "    </tr>\n",
       "    <tr>\n",
       "      <th>6</th>\n",
       "      <td>Info Tech services</td>\n",
       "      <td>34</td>\n",
       "    </tr>\n",
       "    <tr>\n",
       "      <th>7</th>\n",
       "      <td>Natural Sciences Rsrch.</td>\n",
       "      <td>3</td>\n",
       "    </tr>\n",
       "    <tr>\n",
       "      <th>8</th>\n",
       "      <td>Social Sciences Rsrch.</td>\n",
       "      <td>1</td>\n",
       "    </tr>\n",
       "    <tr>\n",
       "      <th>9</th>\n",
       "      <td>Software Dev.</td>\n",
       "      <td>7</td>\n",
       "    </tr>\n",
       "    <tr>\n",
       "      <th>10</th>\n",
       "      <td>Venture Capital</td>\n",
       "      <td>7</td>\n",
       "    </tr>\n",
       "    <tr>\n",
       "      <th>11</th>\n",
       "      <td>Web portals</td>\n",
       "      <td>2</td>\n",
       "    </tr>\n",
       "    <tr>\n",
       "      <th>12</th>\n",
       "      <td>Wireless Telecommuncations</td>\n",
       "      <td>15</td>\n",
       "    </tr>\n",
       "  </tbody>\n",
       "</table>\n",
       "</div>"
      ],
      "text/plain": [
       "                  sector_name_1  count\n",
       "0                Biotech Rsrch.      1\n",
       "1        Business Software Dev.     17\n",
       "2     Computer facilities mgmt.      3\n",
       "3                Data Companies      4\n",
       "4    Fund management activities      8\n",
       "5          Info Tech Consulting     41\n",
       "6            Info Tech services     34\n",
       "7       Natural Sciences Rsrch.      3\n",
       "8        Social Sciences Rsrch.      1\n",
       "9                 Software Dev.      7\n",
       "10              Venture Capital      7\n",
       "11                  Web portals      2\n",
       "12   Wireless Telecommuncations     15"
      ]
     },
     "execution_count": 14,
     "metadata": {},
     "output_type": "execute_result"
    }
   ],
   "source": [
    "# can be used for diverging graphs\n",
    "before = pd.DataFrame(year_month_counts(1998, 1))\n",
    "after = pd.DataFrame(year_month_counts(2001, 12))\n",
    "before"
   ]
  },
  {
   "cell_type": "code",
   "execution_count": 15,
   "metadata": {
    "ExecuteTime": {
     "end_time": "2020-12-16T21:49:03.967454Z",
     "start_time": "2020-12-16T21:49:03.950641Z"
    }
   },
   "outputs": [],
   "source": [
    "# sorty by largest to smallest count\n",
    "\n",
    "before.sort_values(by='count', inplace=True, ascending=False)\n",
    "after.sort_values(by='count', inplace=True, ascending=False)"
   ]
  },
  {
   "cell_type": "code",
   "execution_count": 16,
   "metadata": {
    "ExecuteTime": {
     "end_time": "2020-12-16T21:49:04.025722Z",
     "start_time": "2020-12-16T21:49:03.968894Z"
    },
    "scrolled": false
   },
   "outputs": [
    {
     "data": {
      "text/html": [
       "<div>\n",
       "<style scoped>\n",
       "    .dataframe tbody tr th:only-of-type {\n",
       "        vertical-align: middle;\n",
       "    }\n",
       "\n",
       "    .dataframe tbody tr th {\n",
       "        vertical-align: top;\n",
       "    }\n",
       "\n",
       "    .dataframe thead th {\n",
       "        text-align: right;\n",
       "    }\n",
       "</style>\n",
       "<table border=\"1\" class=\"dataframe\">\n",
       "  <thead>\n",
       "    <tr style=\"text-align: right;\">\n",
       "      <th></th>\n",
       "      <th>year</th>\n",
       "      <th>count</th>\n",
       "    </tr>\n",
       "  </thead>\n",
       "  <tbody>\n",
       "    <tr>\n",
       "      <th>0</th>\n",
       "      <td>1991</td>\n",
       "      <td>8</td>\n",
       "    </tr>\n",
       "    <tr>\n",
       "      <th>1</th>\n",
       "      <td>1992</td>\n",
       "      <td>14</td>\n",
       "    </tr>\n",
       "    <tr>\n",
       "      <th>2</th>\n",
       "      <td>1993</td>\n",
       "      <td>12</td>\n",
       "    </tr>\n",
       "    <tr>\n",
       "      <th>3</th>\n",
       "      <td>1994</td>\n",
       "      <td>16</td>\n",
       "    </tr>\n",
       "    <tr>\n",
       "      <th>4</th>\n",
       "      <td>1995</td>\n",
       "      <td>23</td>\n",
       "    </tr>\n",
       "  </tbody>\n",
       "</table>\n",
       "</div>"
      ],
      "text/plain": [
       "   year  count\n",
       "0  1991      8\n",
       "1  1992     14\n",
       "2  1993     12\n",
       "3  1994     16\n",
       "4  1995     23"
      ]
     },
     "execution_count": 16,
     "metadata": {},
     "output_type": "execute_result"
    }
   ],
   "source": [
    "# get overall count by years\n",
    "year_grp = df1.groupby(['year'])\n",
    "count_df = pd.DataFrame(year_grp['count'].sum())\n",
    "count_df.reset_index(inplace=True)\n",
    "count_df.head()"
   ]
  },
  {
   "cell_type": "code",
   "execution_count": 17,
   "metadata": {
    "ExecuteTime": {
     "end_time": "2020-12-16T21:49:04.076912Z",
     "start_time": "2020-12-16T21:49:04.027169Z"
    },
    "scrolled": true
   },
   "outputs": [
    {
     "name": "stdout",
     "output_type": "stream",
     "text": [
      "                  sector_name_1  count\n",
      "6          Info Tech Consulting   3251\n",
      "1        Business Software Dev.   2456\n",
      "7            Info Tech services   1903\n",
      "12                Software Dev.    489\n",
      "15                  Web portals    470\n",
      "16   Wireless Telecommuncations    415\n",
      "4                Data Companies    396\n",
      "5    Fund management activities    381\n",
      "14              Venture Capital    230\n",
      "9          Open-ended Investors    159\n",
      "2       Computer Game Companies    135\n",
      "8       Natural Sciences Rsrch.    117\n",
      "0                Biotech Rsrch.    110\n"
     ]
    }
   ],
   "source": [
    "# get overall count by sector\n",
    "sect_grp = df1.groupby(['sector_name_1'])\n",
    "sect_df = pd.DataFrame(sect_grp['count'].sum())\n",
    "sect_df.reset_index(inplace=True)\n",
    "sect_df.sort_values(by='count', inplace=True, ascending=False)\n",
    "sect_df = sect_df[sect_df['count'] > 100]\n",
    "pd.options.display.max_colwidth = 100\n",
    "print(sect_df.head(20))"
   ]
  },
  {
   "cell_type": "code",
   "execution_count": 18,
   "metadata": {
    "ExecuteTime": {
     "end_time": "2020-12-16T21:49:04.198009Z",
     "start_time": "2020-12-16T21:49:04.078252Z"
    }
   },
   "outputs": [],
   "source": [
    "# save data as csv\n",
    "save_path = os.path.join(base_path, 'datasets',\n",
    "                         'industry_added_cleaned_data.csv')\n",
    "df1.to_csv(save_path, index=False)"
   ]
  }
 ],
 "metadata": {
  "kernelspec": {
   "display_name": "Python [conda env:DVFTP]",
   "language": "python",
   "name": "conda-env-DVFTP-py"
  },
  "language_info": {
   "codemirror_mode": {
    "name": "ipython",
    "version": 3
   },
   "file_extension": ".py",
   "mimetype": "text/x-python",
   "name": "python",
   "nbconvert_exporter": "python",
   "pygments_lexer": "ipython3",
   "version": "3.8.6"
  },
  "latex_envs": {
   "LaTeX_envs_menu_present": true,
   "autoclose": false,
   "autocomplete": true,
   "bibliofile": "biblio.bib",
   "cite_by": "apalike",
   "current_citInitial": 1,
   "eqLabelWithNumbers": true,
   "eqNumInitial": 1,
   "hotkeys": {
    "equation": "Ctrl-E",
    "itemize": "Ctrl-I"
   },
   "labels_anchors": false,
   "latex_user_defs": false,
   "report_style_numbering": false,
   "user_envs_cfg": false
  },
  "toc": {
   "base_numbering": 1,
   "nav_menu": {},
   "number_sections": true,
   "sideBar": true,
   "skip_h1_title": false,
   "title_cell": "Table of Contents",
   "title_sidebar": "Contents",
   "toc_cell": false,
   "toc_position": {},
   "toc_section_display": true,
   "toc_window_display": false
  },
  "varInspector": {
   "cols": {
    "lenName": 16,
    "lenType": 16,
    "lenVar": 40
   },
   "kernels_config": {
    "python": {
     "delete_cmd_postfix": "",
     "delete_cmd_prefix": "del ",
     "library": "var_list.py",
     "varRefreshCmd": "print(var_dic_list())"
    },
    "r": {
     "delete_cmd_postfix": ") ",
     "delete_cmd_prefix": "rm(",
     "library": "var_list.r",
     "varRefreshCmd": "cat(var_dic_list()) "
    }
   },
   "types_to_exclude": [
    "module",
    "function",
    "builtin_function_or_method",
    "instance",
    "_Feature"
   ],
   "window_display": false
  }
 },
 "nbformat": 4,
 "nbformat_minor": 4
}
