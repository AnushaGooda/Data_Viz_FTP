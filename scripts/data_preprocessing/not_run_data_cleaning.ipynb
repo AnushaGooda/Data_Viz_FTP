{
 "cells": [
  {
   "cell_type": "code",
   "execution_count": null,
   "metadata": {},
   "outputs": [],
   "source": [
    "\"\"\" \n",
    "The raw data is very large. \n",
    "Please refrain from running this code and use the `cleaned_data.csv` instead \"\"\""
   ]
  },
  {
   "cell_type": "markdown",
   "metadata": {},
   "source": [
    "# Import relevant libraries"
   ]
  },
  {
   "cell_type": "code",
   "execution_count": 1,
   "metadata": {
    "ExecuteTime": {
     "end_time": "2020-12-16T21:28:26.942294Z",
     "start_time": "2020-12-16T21:28:26.534396Z"
    }
   },
   "outputs": [],
   "source": [
    "# import os\n",
    "# import pandas as pd"
   ]
  },
  {
   "cell_type": "markdown",
   "metadata": {},
   "source": [
    "# Load data"
   ]
  },
  {
   "cell_type": "code",
   "execution_count": 2,
   "metadata": {
    "ExecuteTime": {
     "end_time": "2020-12-16T21:28:28.779240Z",
     "start_time": "2020-12-16T21:28:28.774251Z"
    }
   },
   "outputs": [],
   "source": [
    "# # set base_path\n",
    "# base_path = os.path.join('..', '..')"
   ]
  },
  {
   "cell_type": "code",
   "execution_count": 3,
   "metadata": {
    "ExecuteTime": {
     "end_time": "2020-12-16T21:29:14.256563Z",
     "start_time": "2020-12-16T21:28:29.649741Z"
    }
   },
   "outputs": [],
   "source": [
    "# # set file_path\n",
    "# file_path = os.path.join(base_path, 'datasets', 'BasicCompanyDataAsOneFile-2020-11-01.csv')\n",
    "\n",
    "# # load data\n",
    "# company_data = pd.read_csv(file_path, low_memory=False)"
   ]
  },
  {
   "cell_type": "markdown",
   "metadata": {},
   "source": [
    "# Rename columns"
   ]
  },
  {
   "cell_type": "code",
   "execution_count": 4,
   "metadata": {
    "ExecuteTime": {
     "end_time": "2020-12-16T21:29:41.038626Z",
     "start_time": "2020-12-16T21:29:41.021181Z"
    }
   },
   "outputs": [],
   "source": [
    "# # remove space in column names\n",
    "# col_names = [col_name.strip() for col_name in company_data.columns]"
   ]
  },
  {
   "cell_type": "code",
   "execution_count": 5,
   "metadata": {
    "ExecuteTime": {
     "end_time": "2020-12-16T21:29:46.062450Z",
     "start_time": "2020-12-16T21:29:46.050483Z"
    }
   },
   "outputs": [],
   "source": [
    "# # set column names\n",
    "# company_data.columns = col_names"
   ]
  },
  {
   "cell_type": "markdown",
   "metadata": {},
   "source": [
    "# Select only London"
   ]
  },
  {
   "cell_type": "code",
   "execution_count": 6,
   "metadata": {
    "ExecuteTime": {
     "end_time": "2020-12-16T21:29:51.985000Z",
     "start_time": "2020-12-16T21:29:51.018418Z"
    }
   },
   "outputs": [],
   "source": [
    "# # prepare data\n",
    "# df = company_data[[\n",
    "#     'CompanyName', 'CompanyNumber', 'CompanyCategory', 'CompanyStatus',\n",
    "#     'DissolutionDate', 'IncorporationDate', 'SICCode.SicText_1',\n",
    "#     'SICCode.SicText_2', 'SICCode.SicText_3', 'SICCode.SicText_4',\n",
    "#     'RegAddress.PostCode', 'RegAddress.PostTown'\n",
    "# ]]\n",
    "\n",
    "# # select only companies in London\n",
    "# df = df[df['RegAddress.PostTown'] == 'LONDON']"
   ]
  },
  {
   "cell_type": "markdown",
   "metadata": {},
   "source": [
    "# Save cleaned data"
   ]
  },
  {
   "cell_type": "code",
   "execution_count": 7,
   "metadata": {
    "ExecuteTime": {
     "end_time": "2020-12-16T21:30:03.945759Z",
     "start_time": "2020-12-16T21:29:57.144589Z"
    }
   },
   "outputs": [],
   "source": [
    "# # save data as csv\n",
    "# save_path = os.path.join(base_path, 'datasets', 'cleaned_data.csv')\n",
    "# df.to_csv(save_path, index = False)"
   ]
  }
 ],
 "metadata": {
  "kernelspec": {
   "display_name": "Python 3",
   "language": "python",
   "name": "python3"
  },
  "language_info": {
   "codemirror_mode": {
    "name": "ipython",
    "version": 3
   },
   "file_extension": ".py",
   "mimetype": "text/x-python",
   "name": "python",
   "nbconvert_exporter": "python",
   "pygments_lexer": "ipython3",
   "version": "3.8.5"
  },
  "latex_envs": {
   "LaTeX_envs_menu_present": true,
   "autoclose": false,
   "autocomplete": true,
   "bibliofile": "biblio.bib",
   "cite_by": "apalike",
   "current_citInitial": 1,
   "eqLabelWithNumbers": true,
   "eqNumInitial": 1,
   "hotkeys": {
    "equation": "Ctrl-E",
    "itemize": "Ctrl-I"
   },
   "labels_anchors": false,
   "latex_user_defs": false,
   "report_style_numbering": false,
   "user_envs_cfg": false
  },
  "toc": {
   "base_numbering": 1,
   "nav_menu": {},
   "number_sections": true,
   "sideBar": true,
   "skip_h1_title": false,
   "title_cell": "Table of Contents",
   "title_sidebar": "Contents",
   "toc_cell": false,
   "toc_position": {},
   "toc_section_display": true,
   "toc_window_display": true
  },
  "varInspector": {
   "cols": {
    "lenName": 16,
    "lenType": 16,
    "lenVar": 40
   },
   "kernels_config": {
    "python": {
     "delete_cmd_postfix": "",
     "delete_cmd_prefix": "del ",
     "library": "var_list.py",
     "varRefreshCmd": "print(var_dic_list())"
    },
    "r": {
     "delete_cmd_postfix": ") ",
     "delete_cmd_prefix": "rm(",
     "library": "var_list.r",
     "varRefreshCmd": "cat(var_dic_list()) "
    }
   },
   "types_to_exclude": [
    "module",
    "function",
    "builtin_function_or_method",
    "instance",
    "_Feature"
   ],
   "window_display": false
  }
 },
 "nbformat": 4,
 "nbformat_minor": 4
}
