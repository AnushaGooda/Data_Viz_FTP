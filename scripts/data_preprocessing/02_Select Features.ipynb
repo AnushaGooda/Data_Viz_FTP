{
 "cells": [
  {
   "cell_type": "markdown",
   "metadata": {},
   "source": [
    "# Import relevant libraries"
   ]
  },
  {
   "cell_type": "code",
   "execution_count": 1,
   "metadata": {
    "ExecuteTime": {
     "end_time": "2020-12-16T21:40:50.886692Z",
     "start_time": "2020-12-16T21:40:50.597372Z"
    }
   },
   "outputs": [],
   "source": [
    "import os\n",
    "import pandas as pd"
   ]
  },
  {
   "cell_type": "markdown",
   "metadata": {},
   "source": [
    "# Setup"
   ]
  },
  {
   "cell_type": "code",
   "execution_count": 2,
   "metadata": {
    "ExecuteTime": {
     "end_time": "2020-12-16T21:40:50.890352Z",
     "start_time": "2020-12-16T21:40:50.888117Z"
    }
   },
   "outputs": [],
   "source": [
    "# disable false positive warnings\n",
    "pd.options.mode.chained_assignment = None"
   ]
  },
  {
   "cell_type": "code",
   "execution_count": 3,
   "metadata": {
    "ExecuteTime": {
     "end_time": "2020-12-16T21:40:55.048855Z",
     "start_time": "2020-12-16T21:40:50.892003Z"
    }
   },
   "outputs": [],
   "source": [
    "# set base_path\n",
    "base_path = os.path.join('..', '..')\n",
    "\n",
    "file_path = os.path.join(base_path, 'datasets', 'cleaned_data.csv')\n",
    "df = pd.read_csv(file_path)"
   ]
  },
  {
   "cell_type": "markdown",
   "metadata": {},
   "source": [
    "# Preprocessing"
   ]
  },
  {
   "cell_type": "code",
   "execution_count": 4,
   "metadata": {
    "ExecuteTime": {
     "end_time": "2020-12-16T21:40:56.200926Z",
     "start_time": "2020-12-16T21:40:55.051742Z"
    }
   },
   "outputs": [
    {
     "name": "stdout",
     "output_type": "stream",
     "text": [
      "<class 'pandas.core.frame.DataFrame'>\n",
      "RangeIndex: 911230 entries, 0 to 911229\n",
      "Data columns (total 12 columns):\n",
      " #   Column               Non-Null Count   Dtype  \n",
      "---  ------               --------------   -----  \n",
      " 0   CompanyName          911230 non-null  object \n",
      " 1   CompanyNumber        911230 non-null  object \n",
      " 2   CompanyCategory      911230 non-null  object \n",
      " 3   CompanyStatus        911230 non-null  object \n",
      " 4   DissolutionDate      0 non-null       float64\n",
      " 5   IncorporationDate    911230 non-null  object \n",
      " 6   SICCode.SicText_1    911230 non-null  object \n",
      " 7   SICCode.SicText_2    160844 non-null  object \n",
      " 8   SICCode.SicText_3    75341 non-null   object \n",
      " 9   SICCode.SicText_4    38180 non-null   object \n",
      " 10  RegAddress.PostCode  910330 non-null  object \n",
      " 11  RegAddress.PostTown  911230 non-null  object \n",
      "dtypes: float64(1), object(11)\n",
      "memory usage: 83.4+ MB\n"
     ]
    }
   ],
   "source": [
    "df.info()"
   ]
  },
  {
   "cell_type": "code",
   "execution_count": 5,
   "metadata": {
    "ExecuteTime": {
     "end_time": "2020-12-16T21:40:56.312991Z",
     "start_time": "2020-12-16T21:40:56.203758Z"
    }
   },
   "outputs": [],
   "source": [
    "# select columns that are necessary\n",
    "df1 = df[['CompanyName', 'CompanyNumber', 'CompanyCategory', 'CompanyStatus', 'DissolutionDate', 'IncorporationDate', 'SICCode.SicText_1', 'SICCode.SicText_2', 'SICCode.SicText_3', 'SICCode.SicText_4']]"
   ]
  },
  {
   "cell_type": "code",
   "execution_count": 6,
   "metadata": {
    "ExecuteTime": {
     "end_time": "2020-12-16T21:40:58.426766Z",
     "start_time": "2020-12-16T21:40:56.316637Z"
    }
   },
   "outputs": [],
   "source": [
    "df1['IncorporationDate'] = pd.to_datetime(df1['IncorporationDate'])"
   ]
  },
  {
   "cell_type": "code",
   "execution_count": 7,
   "metadata": {
    "ExecuteTime": {
     "end_time": "2020-12-16T21:40:58.709387Z",
     "start_time": "2020-12-16T21:40:58.428524Z"
    }
   },
   "outputs": [],
   "source": [
    "df1['year'] = df1['IncorporationDate'].dt.year\n",
    "df1['month'] = df1['IncorporationDate'].dt.month"
   ]
  },
  {
   "cell_type": "code",
   "execution_count": 8,
   "metadata": {
    "ExecuteTime": {
     "end_time": "2020-12-16T21:40:59.789456Z",
     "start_time": "2020-12-16T21:40:58.712933Z"
    }
   },
   "outputs": [],
   "source": [
    "df1 = df1.sort_values('IncorporationDate', ascending=True)"
   ]
  },
  {
   "cell_type": "code",
   "execution_count": 9,
   "metadata": {
    "ExecuteTime": {
     "end_time": "2020-12-16T21:41:18.185670Z",
     "start_time": "2020-12-16T21:40:59.793139Z"
    }
   },
   "outputs": [],
   "source": [
    "# save file\n",
    "file_path = os.path.join(base_path, 'datasets', 'features_data.csv')\n",
    "df1.to_csv(file_path, index = False)"
   ]
  }
 ],
 "metadata": {
  "kernelspec": {
   "display_name": "Python [conda env:DVFTP]",
   "language": "python",
   "name": "conda-env-DVFTP-py"
  },
  "language_info": {
   "codemirror_mode": {
    "name": "ipython",
    "version": 3
   },
   "file_extension": ".py",
   "mimetype": "text/x-python",
   "name": "python",
   "nbconvert_exporter": "python",
   "pygments_lexer": "ipython3",
   "version": "3.8.6"
  },
  "latex_envs": {
   "LaTeX_envs_menu_present": true,
   "autoclose": false,
   "autocomplete": true,
   "bibliofile": "biblio.bib",
   "cite_by": "apalike",
   "current_citInitial": 1,
   "eqLabelWithNumbers": true,
   "eqNumInitial": 1,
   "hotkeys": {
    "equation": "Ctrl-E",
    "itemize": "Ctrl-I"
   },
   "labels_anchors": false,
   "latex_user_defs": false,
   "report_style_numbering": false,
   "user_envs_cfg": false
  },
  "toc": {
   "base_numbering": 1,
   "nav_menu": {},
   "number_sections": true,
   "sideBar": true,
   "skip_h1_title": false,
   "title_cell": "Table of Contents",
   "title_sidebar": "Contents",
   "toc_cell": false,
   "toc_position": {},
   "toc_section_display": true,
   "toc_window_display": false
  },
  "varInspector": {
   "cols": {
    "lenName": 16,
    "lenType": 16,
    "lenVar": 40
   },
   "kernels_config": {
    "python": {
     "delete_cmd_postfix": "",
     "delete_cmd_prefix": "del ",
     "library": "var_list.py",
     "varRefreshCmd": "print(var_dic_list())"
    },
    "r": {
     "delete_cmd_postfix": ") ",
     "delete_cmd_prefix": "rm(",
     "library": "var_list.r",
     "varRefreshCmd": "cat(var_dic_list()) "
    }
   },
   "types_to_exclude": [
    "module",
    "function",
    "builtin_function_or_method",
    "instance",
    "_Feature"
   ],
   "window_display": false
  }
 },
 "nbformat": 4,
 "nbformat_minor": 4
}
